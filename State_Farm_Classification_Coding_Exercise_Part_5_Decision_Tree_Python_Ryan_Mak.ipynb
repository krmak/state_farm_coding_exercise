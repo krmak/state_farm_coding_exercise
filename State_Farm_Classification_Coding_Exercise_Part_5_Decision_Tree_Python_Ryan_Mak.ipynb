{
 "cells": [
  {
   "cell_type": "markdown",
   "metadata": {},
   "source": [
    "# State Farm Classification Coding Exercise"
   ]
  },
  {
   "cell_type": "markdown",
   "metadata": {},
   "source": [
    "## Part 5 - Build a Decision Tree Model"
   ]
  },
  {
   "cell_type": "markdown",
   "metadata": {},
   "source": [
    "### A. Construct Decision Tree Model Upon Training Data"
   ]
  },
  {
   "cell_type": "markdown",
   "metadata": {},
   "source": [
    "** Import numpy and pandas. **"
   ]
  },
  {
   "cell_type": "code",
   "execution_count": 1,
   "metadata": {},
   "outputs": [],
   "source": [
    "import numpy as np\n",
    "import pandas as pd"
   ]
  },
  {
   "cell_type": "markdown",
   "metadata": {},
   "source": [
    "** Import data visualization libraries and set %matplotlib inline. **"
   ]
  },
  {
   "cell_type": "code",
   "execution_count": 2,
   "metadata": {},
   "outputs": [],
   "source": [
    "import matplotlib.pyplot as plt\n",
    "import seaborn as sns\n",
    "%matplotlib inline"
   ]
  },
  {
   "cell_type": "markdown",
   "metadata": {},
   "source": [
    "** Import training model data into a Pandas dataframe called train_model1. **"
   ]
  },
  {
   "cell_type": "code",
   "execution_count": 3,
   "metadata": {},
   "outputs": [],
   "source": [
    "train_model1 = pd.read_pickle('../State_Farm/Data/train_model.pickle')"
   ]
  },
  {
   "cell_type": "markdown",
   "metadata": {},
   "source": [
    "** Check number of rows and columns in train_model1 dataframe. **"
   ]
  },
  {
   "cell_type": "code",
   "execution_count": 4,
   "metadata": {},
   "outputs": [
    {
     "data": {
      "text/plain": [
       "(40000, 15)"
      ]
     },
     "execution_count": 4,
     "metadata": {},
     "output_type": "execute_result"
    }
   ],
   "source": [
    "train_model1.shape"
   ]
  },
  {
   "cell_type": "markdown",
   "metadata": {},
   "source": [
    "** View structure of train_model1 dataframe. **"
   ]
  },
  {
   "cell_type": "code",
   "execution_count": 5,
   "metadata": {},
   "outputs": [
    {
     "name": "stdout",
     "output_type": "stream",
     "text": [
      "<class 'pandas.core.frame.DataFrame'>\n",
      "RangeIndex: 40000 entries, 0 to 39999\n",
      "Data columns (total 15 columns):\n",
      "y          40000 non-null int64\n",
      "x75        40000 non-null float64\n",
      "x37        40000 non-null float64\n",
      "x58        40000 non-null float64\n",
      "x97        40000 non-null float64\n",
      "x41_flt    40000 non-null float64\n",
      "x99        40000 non-null float64\n",
      "x1         40000 non-null float64\n",
      "x40        40000 non-null float64\n",
      "x70        40000 non-null float64\n",
      "x44        40000 non-null float64\n",
      "x63        40000 non-null float64\n",
      "x56        40000 non-null float64\n",
      "x83        40000 non-null float64\n",
      "x96        40000 non-null float64\n",
      "dtypes: float64(14), int64(1)\n",
      "memory usage: 4.6 MB\n"
     ]
    }
   ],
   "source": [
    "train_model1.info()"
   ]
  },
  {
   "cell_type": "markdown",
   "metadata": {},
   "source": [
    "** View first five rows of train_model1 dataframe. **"
   ]
  },
  {
   "cell_type": "code",
   "execution_count": 6,
   "metadata": {},
   "outputs": [
    {
     "data": {
      "text/html": [
       "<div>\n",
       "<style scoped>\n",
       "    .dataframe tbody tr th:only-of-type {\n",
       "        vertical-align: middle;\n",
       "    }\n",
       "\n",
       "    .dataframe tbody tr th {\n",
       "        vertical-align: top;\n",
       "    }\n",
       "\n",
       "    .dataframe thead th {\n",
       "        text-align: right;\n",
       "    }\n",
       "</style>\n",
       "<table border=\"1\" class=\"dataframe\">\n",
       "  <thead>\n",
       "    <tr style=\"text-align: right;\">\n",
       "      <th></th>\n",
       "      <th>y</th>\n",
       "      <th>x75</th>\n",
       "      <th>x37</th>\n",
       "      <th>x58</th>\n",
       "      <th>x97</th>\n",
       "      <th>x41_flt</th>\n",
       "      <th>x99</th>\n",
       "      <th>x1</th>\n",
       "      <th>x40</th>\n",
       "      <th>x70</th>\n",
       "      <th>x44</th>\n",
       "      <th>x63</th>\n",
       "      <th>x56</th>\n",
       "      <th>x83</th>\n",
       "      <th>x96</th>\n",
       "    </tr>\n",
       "  </thead>\n",
       "  <tbody>\n",
       "    <tr>\n",
       "      <th>0</th>\n",
       "      <td>0</td>\n",
       "      <td>40.617107</td>\n",
       "      <td>-10.839200</td>\n",
       "      <td>2.078396</td>\n",
       "      <td>-2.125570</td>\n",
       "      <td>449.48</td>\n",
       "      <td>1.237667</td>\n",
       "      <td>74.425320</td>\n",
       "      <td>4.550518</td>\n",
       "      <td>41.040206</td>\n",
       "      <td>-104.388382</td>\n",
       "      <td>4.036426</td>\n",
       "      <td>34.030184</td>\n",
       "      <td>1.885149</td>\n",
       "      <td>26.238591</td>\n",
       "    </tr>\n",
       "    <tr>\n",
       "      <th>1</th>\n",
       "      <td>1</td>\n",
       "      <td>-49.303165</td>\n",
       "      <td>57.917006</td>\n",
       "      <td>-2.696257</td>\n",
       "      <td>-36.030599</td>\n",
       "      <td>-525.06</td>\n",
       "      <td>1.952183</td>\n",
       "      <td>24.320711</td>\n",
       "      <td>-9.476135</td>\n",
       "      <td>36.204784</td>\n",
       "      <td>-65.535823</td>\n",
       "      <td>-4.809269</td>\n",
       "      <td>-49.979634</td>\n",
       "      <td>-0.333381</td>\n",
       "      <td>-15.141647</td>\n",
       "    </tr>\n",
       "    <tr>\n",
       "      <th>2</th>\n",
       "      <td>1</td>\n",
       "      <td>-19.706659</td>\n",
       "      <td>-12.991058</td>\n",
       "      <td>-2.417447</td>\n",
       "      <td>26.212736</td>\n",
       "      <td>-599.50</td>\n",
       "      <td>0.558988</td>\n",
       "      <td>-66.160459</td>\n",
       "      <td>6.876065</td>\n",
       "      <td>49.538602</td>\n",
       "      <td>4.719628</td>\n",
       "      <td>16.889265</td>\n",
       "      <td>15.147122</td>\n",
       "      <td>9.341546</td>\n",
       "      <td>-19.914894</td>\n",
       "    </tr>\n",
       "    <tr>\n",
       "      <th>3</th>\n",
       "      <td>0</td>\n",
       "      <td>-7.301283</td>\n",
       "      <td>37.658926</td>\n",
       "      <td>4.443710</td>\n",
       "      <td>19.221130</td>\n",
       "      <td>-220.71</td>\n",
       "      <td>0.214462</td>\n",
       "      <td>33.210943</td>\n",
       "      <td>-16.933984</td>\n",
       "      <td>82.130387</td>\n",
       "      <td>26.053787</td>\n",
       "      <td>-21.680531</td>\n",
       "      <td>34.361817</td>\n",
       "      <td>-2.007231</td>\n",
       "      <td>-27.197636</td>\n",
       "    </tr>\n",
       "    <tr>\n",
       "      <th>4</th>\n",
       "      <td>0</td>\n",
       "      <td>-2.751656</td>\n",
       "      <td>-59.497091</td>\n",
       "      <td>-2.421952</td>\n",
       "      <td>-5.703269</td>\n",
       "      <td>-1405.59</td>\n",
       "      <td>-1.191319</td>\n",
       "      <td>-26.717872</td>\n",
       "      <td>-9.551514</td>\n",
       "      <td>-19.154066</td>\n",
       "      <td>52.808773</td>\n",
       "      <td>3.210319</td>\n",
       "      <td>24.488505</td>\n",
       "      <td>-0.546353</td>\n",
       "      <td>33.383803</td>\n",
       "    </tr>\n",
       "  </tbody>\n",
       "</table>\n",
       "</div>"
      ],
      "text/plain": [
       "   y        x75        x37       x58        x97  x41_flt       x99         x1  \\\n",
       "0  0  40.617107 -10.839200  2.078396  -2.125570   449.48  1.237667  74.425320   \n",
       "1  1 -49.303165  57.917006 -2.696257 -36.030599  -525.06  1.952183  24.320711   \n",
       "2  1 -19.706659 -12.991058 -2.417447  26.212736  -599.50  0.558988 -66.160459   \n",
       "3  0  -7.301283  37.658926  4.443710  19.221130  -220.71  0.214462  33.210943   \n",
       "4  0  -2.751656 -59.497091 -2.421952  -5.703269 -1405.59 -1.191319 -26.717872   \n",
       "\n",
       "         x40        x70         x44        x63        x56       x83        x96  \n",
       "0   4.550518  41.040206 -104.388382   4.036426  34.030184  1.885149  26.238591  \n",
       "1  -9.476135  36.204784  -65.535823  -4.809269 -49.979634 -0.333381 -15.141647  \n",
       "2   6.876065  49.538602    4.719628  16.889265  15.147122  9.341546 -19.914894  \n",
       "3 -16.933984  82.130387   26.053787 -21.680531  34.361817 -2.007231 -27.197636  \n",
       "4  -9.551514 -19.154066   52.808773   3.210319  24.488505 -0.546353  33.383803  "
      ]
     },
     "execution_count": 6,
     "metadata": {},
     "output_type": "execute_result"
    }
   ],
   "source": [
    "train_model1.head()"
   ]
  },
  {
   "cell_type": "markdown",
   "metadata": {},
   "source": [
    "** Gather summary statistics of train_model1 dataframe. **"
   ]
  },
  {
   "cell_type": "code",
   "execution_count": 7,
   "metadata": {},
   "outputs": [
    {
     "data": {
      "text/html": [
       "<div>\n",
       "<style scoped>\n",
       "    .dataframe tbody tr th:only-of-type {\n",
       "        vertical-align: middle;\n",
       "    }\n",
       "\n",
       "    .dataframe tbody tr th {\n",
       "        vertical-align: top;\n",
       "    }\n",
       "\n",
       "    .dataframe thead th {\n",
       "        text-align: right;\n",
       "    }\n",
       "</style>\n",
       "<table border=\"1\" class=\"dataframe\">\n",
       "  <thead>\n",
       "    <tr style=\"text-align: right;\">\n",
       "      <th></th>\n",
       "      <th>y</th>\n",
       "      <th>x75</th>\n",
       "      <th>x37</th>\n",
       "      <th>x58</th>\n",
       "      <th>x97</th>\n",
       "      <th>x41_flt</th>\n",
       "      <th>x99</th>\n",
       "      <th>x1</th>\n",
       "      <th>x40</th>\n",
       "      <th>x70</th>\n",
       "      <th>x44</th>\n",
       "      <th>x63</th>\n",
       "      <th>x56</th>\n",
       "      <th>x83</th>\n",
       "      <th>x96</th>\n",
       "    </tr>\n",
       "  </thead>\n",
       "  <tbody>\n",
       "    <tr>\n",
       "      <th>count</th>\n",
       "      <td>40000.00000</td>\n",
       "      <td>40000.000000</td>\n",
       "      <td>40000.000000</td>\n",
       "      <td>40000.000000</td>\n",
       "      <td>40000.000000</td>\n",
       "      <td>40000.000000</td>\n",
       "      <td>40000.000000</td>\n",
       "      <td>40000.000000</td>\n",
       "      <td>40000.000000</td>\n",
       "      <td>40000.000000</td>\n",
       "      <td>40000.000000</td>\n",
       "      <td>40000.000000</td>\n",
       "      <td>40000.000000</td>\n",
       "      <td>40000.000000</td>\n",
       "      <td>40000.000000</td>\n",
       "    </tr>\n",
       "    <tr>\n",
       "      <th>mean</th>\n",
       "      <td>0.20360</td>\n",
       "      <td>5.417519</td>\n",
       "      <td>4.814694</td>\n",
       "      <td>-0.892583</td>\n",
       "      <td>-2.514305</td>\n",
       "      <td>0.315315</td>\n",
       "      <td>0.043218</td>\n",
       "      <td>-7.788884</td>\n",
       "      <td>1.849224</td>\n",
       "      <td>6.884965</td>\n",
       "      <td>-21.624920</td>\n",
       "      <td>-2.673378</td>\n",
       "      <td>-1.489671</td>\n",
       "      <td>0.207667</td>\n",
       "      <td>-0.807556</td>\n",
       "    </tr>\n",
       "    <tr>\n",
       "      <th>std</th>\n",
       "      <td>0.40268</td>\n",
       "      <td>35.653631</td>\n",
       "      <td>31.561154</td>\n",
       "      <td>6.319470</td>\n",
       "      <td>18.551630</td>\n",
       "      <td>1001.659950</td>\n",
       "      <td>1.114263</td>\n",
       "      <td>37.010235</td>\n",
       "      <td>34.776971</td>\n",
       "      <td>37.411230</td>\n",
       "      <td>87.305224</td>\n",
       "      <td>13.869871</td>\n",
       "      <td>29.944783</td>\n",
       "      <td>4.964881</td>\n",
       "      <td>23.831724</td>\n",
       "    </tr>\n",
       "    <tr>\n",
       "      <th>min</th>\n",
       "      <td>0.00000</td>\n",
       "      <td>-146.967384</td>\n",
       "      <td>-127.651997</td>\n",
       "      <td>-31.395877</td>\n",
       "      <td>-73.908741</td>\n",
       "      <td>-4496.460000</td>\n",
       "      <td>-4.376614</td>\n",
       "      <td>-157.341119</td>\n",
       "      <td>-141.837976</td>\n",
       "      <td>-135.730347</td>\n",
       "      <td>-423.119841</td>\n",
       "      <td>-65.169968</td>\n",
       "      <td>-128.052246</td>\n",
       "      <td>-22.231100</td>\n",
       "      <td>-108.474714</td>\n",
       "    </tr>\n",
       "    <tr>\n",
       "      <th>25%</th>\n",
       "      <td>0.00000</td>\n",
       "      <td>-17.971049</td>\n",
       "      <td>-16.589036</td>\n",
       "      <td>-5.175537</td>\n",
       "      <td>-15.023076</td>\n",
       "      <td>-669.295000</td>\n",
       "      <td>-0.710450</td>\n",
       "      <td>-32.728985</td>\n",
       "      <td>-22.000674</td>\n",
       "      <td>-17.958766</td>\n",
       "      <td>-76.471492</td>\n",
       "      <td>-12.014266</td>\n",
       "      <td>-21.410198</td>\n",
       "      <td>-3.144923</td>\n",
       "      <td>-16.824117</td>\n",
       "    </tr>\n",
       "    <tr>\n",
       "      <th>50%</th>\n",
       "      <td>0.00000</td>\n",
       "      <td>5.592658</td>\n",
       "      <td>4.493183</td>\n",
       "      <td>-0.891371</td>\n",
       "      <td>-2.514305</td>\n",
       "      <td>6.040000</td>\n",
       "      <td>0.042895</td>\n",
       "      <td>-7.988907</td>\n",
       "      <td>1.142136</td>\n",
       "      <td>6.961203</td>\n",
       "      <td>-19.049291</td>\n",
       "      <td>-2.785817</td>\n",
       "      <td>-1.340681</td>\n",
       "      <td>0.201012</td>\n",
       "      <td>-0.661772</td>\n",
       "    </tr>\n",
       "    <tr>\n",
       "      <th>75%</th>\n",
       "      <td>0.00000</td>\n",
       "      <td>28.988799</td>\n",
       "      <td>25.968530</td>\n",
       "      <td>3.413382</td>\n",
       "      <td>9.882079</td>\n",
       "      <td>678.325000</td>\n",
       "      <td>0.797327</td>\n",
       "      <td>16.844355</td>\n",
       "      <td>24.990524</td>\n",
       "      <td>32.050751</td>\n",
       "      <td>36.706320</td>\n",
       "      <td>6.681694</td>\n",
       "      <td>18.721678</td>\n",
       "      <td>3.545705</td>\n",
       "      <td>15.267626</td>\n",
       "    </tr>\n",
       "    <tr>\n",
       "      <th>max</th>\n",
       "      <td>1.00000</td>\n",
       "      <td>144.548014</td>\n",
       "      <td>126.924294</td>\n",
       "      <td>22.420511</td>\n",
       "      <td>76.120119</td>\n",
       "      <td>4062.630000</td>\n",
       "      <td>4.490209</td>\n",
       "      <td>153.469221</td>\n",
       "      <td>159.813564</td>\n",
       "      <td>159.477026</td>\n",
       "      <td>314.770732</td>\n",
       "      <td>55.601781</td>\n",
       "      <td>132.980539</td>\n",
       "      <td>19.617204</td>\n",
       "      <td>92.926545</td>\n",
       "    </tr>\n",
       "  </tbody>\n",
       "</table>\n",
       "</div>"
      ],
      "text/plain": [
       "                 y           x75           x37           x58           x97  \\\n",
       "count  40000.00000  40000.000000  40000.000000  40000.000000  40000.000000   \n",
       "mean       0.20360      5.417519      4.814694     -0.892583     -2.514305   \n",
       "std        0.40268     35.653631     31.561154      6.319470     18.551630   \n",
       "min        0.00000   -146.967384   -127.651997    -31.395877    -73.908741   \n",
       "25%        0.00000    -17.971049    -16.589036     -5.175537    -15.023076   \n",
       "50%        0.00000      5.592658      4.493183     -0.891371     -2.514305   \n",
       "75%        0.00000     28.988799     25.968530      3.413382      9.882079   \n",
       "max        1.00000    144.548014    126.924294     22.420511     76.120119   \n",
       "\n",
       "            x41_flt           x99            x1           x40           x70  \\\n",
       "count  40000.000000  40000.000000  40000.000000  40000.000000  40000.000000   \n",
       "mean       0.315315      0.043218     -7.788884      1.849224      6.884965   \n",
       "std     1001.659950      1.114263     37.010235     34.776971     37.411230   \n",
       "min    -4496.460000     -4.376614   -157.341119   -141.837976   -135.730347   \n",
       "25%     -669.295000     -0.710450    -32.728985    -22.000674    -17.958766   \n",
       "50%        6.040000      0.042895     -7.988907      1.142136      6.961203   \n",
       "75%      678.325000      0.797327     16.844355     24.990524     32.050751   \n",
       "max     4062.630000      4.490209    153.469221    159.813564    159.477026   \n",
       "\n",
       "                x44           x63           x56           x83           x96  \n",
       "count  40000.000000  40000.000000  40000.000000  40000.000000  40000.000000  \n",
       "mean     -21.624920     -2.673378     -1.489671      0.207667     -0.807556  \n",
       "std       87.305224     13.869871     29.944783      4.964881     23.831724  \n",
       "min     -423.119841    -65.169968   -128.052246    -22.231100   -108.474714  \n",
       "25%      -76.471492    -12.014266    -21.410198     -3.144923    -16.824117  \n",
       "50%      -19.049291     -2.785817     -1.340681      0.201012     -0.661772  \n",
       "75%       36.706320      6.681694     18.721678      3.545705     15.267626  \n",
       "max      314.770732     55.601781    132.980539     19.617204     92.926545  "
      ]
     },
     "execution_count": 7,
     "metadata": {},
     "output_type": "execute_result"
    }
   ],
   "source": [
    "train_model1.describe()"
   ]
  },
  {
   "cell_type": "markdown",
   "metadata": {},
   "source": [
    "** Define X and y. **"
   ]
  },
  {
   "cell_type": "code",
   "execution_count": 8,
   "metadata": {},
   "outputs": [
    {
     "name": "stdout",
     "output_type": "stream",
     "text": [
      "(40000, 14)\n",
      "(40000,)\n"
     ]
    }
   ],
   "source": [
    "X = train_model1.drop(['y'], axis=1)\n",
    "y = train_model1['y']\n",
    "print(X.shape)\n",
    "print(y.shape)"
   ]
  },
  {
   "cell_type": "markdown",
   "metadata": {},
   "source": [
    "** Tune decision tree model to avoid overfitting. **"
   ]
  },
  {
   "cell_type": "code",
   "execution_count": 9,
   "metadata": {},
   "outputs": [
    {
     "name": "stderr",
     "output_type": "stream",
     "text": [
      "C:\\Users\\kyrma\\AppData\\Local\\Continuum\\anaconda3\\lib\\site-packages\\sklearn\\cross_validation.py:41: DeprecationWarning: This module was deprecated in version 0.18 in favor of the model_selection module into which all the refactored classes and functions are moved. Also note that the interface of the new CV iterators are different from that of this module. This module will be removed in 0.20.\n",
      "  \"This module will be removed in 0.20.\", DeprecationWarning)\n"
     ]
    }
   ],
   "source": [
    "from sklearn.tree import DecisionTreeClassifier\n",
    "from sklearn.cross_validation import cross_val_score\n",
    "from sklearn import metrics"
   ]
  },
  {
   "cell_type": "code",
   "execution_count": 10,
   "metadata": {},
   "outputs": [
    {
     "name": "stdout",
     "output_type": "stream",
     "text": [
      "[0.796, 0.796, 0.801, 0.814, 0.817, 0.825, 0.831, 0.834, 0.832, 0.832, 0.83, 0.825, 0.823, 0.819, 0.814]\n"
     ]
    }
   ],
   "source": [
    "max_depth_range1 = range(1, 16)\n",
    "\n",
    "acc_scores1 = []\n",
    "\n",
    "for depth in max_depth_range1:\n",
    "    treereg = DecisionTreeClassifier(max_depth=depth, random_state=1)\n",
    "    scores1 = cross_val_score(treereg, X, y, cv=14, scoring='accuracy')\n",
    "    acc_scores1.append(scores1.mean().round(3))\n",
    "    \n",
    "print(acc_scores1)"
   ]
  },
  {
   "cell_type": "code",
   "execution_count": 11,
   "metadata": {},
   "outputs": [
    {
     "data": {
      "text/plain": [
       "Text(0,0.5,'Decision Tree Accuracy Score')"
      ]
     },
     "execution_count": 11,
     "metadata": {},
     "output_type": "execute_result"
    },
    {
     "data": {
      "image/png": "[encoded data removed]",
      "text/plain": [
       "<matplotlib.figure.Figure at 0x241bb09df98>"
      ]
     },
     "metadata": {},
     "output_type": "display_data"
    }
   ],
   "source": [
    "plt.plot(max_depth_range1, acc_scores1)\n",
    "plt.xlabel('Maximum Depth')\n",
    "plt.ylabel('Decision Tree Accuracy Score')"
   ]
  },
  {
   "cell_type": "markdown",
   "metadata": {},
   "source": [
    "* The maximum depth of the decision tree should be 8 since it has a maximum accuracy score of 0.834."
   ]
  },
  {
   "cell_type": "markdown",
   "metadata": {},
   "source": [
    "** Fit a decision tree with maximum depth of 8 on training model data. **"
   ]
  },
  {
   "cell_type": "code",
   "execution_count": 12,
   "metadata": {},
   "outputs": [
    {
     "data": {
      "text/plain": [
       "DecisionTreeClassifier(class_weight=None, criterion='gini', max_depth=8,\n",
       "            max_features=None, max_leaf_nodes=None,\n",
       "            min_impurity_decrease=0.0, min_impurity_split=None,\n",
       "            min_samples_leaf=1, min_samples_split=2,\n",
       "            min_weight_fraction_leaf=0.0, presort=False, random_state=1,\n",
       "            splitter='best')"
      ]
     },
     "execution_count": 12,
     "metadata": {},
     "output_type": "execute_result"
    }
   ],
   "source": [
    "treereg_train = DecisionTreeClassifier(max_depth=8, random_state=1)\n",
    "treereg_train.fit(X, y)"
   ]
  },
  {
   "cell_type": "markdown",
   "metadata": {},
   "source": [
    "** Compute training decision tree model feature importances. **"
   ]
  },
  {
   "cell_type": "code",
   "execution_count": 13,
   "metadata": {},
   "outputs": [
    {
     "data": {
      "text/html": [
       "<div>\n",
       "<style scoped>\n",
       "    .dataframe tbody tr th:only-of-type {\n",
       "        vertical-align: middle;\n",
       "    }\n",
       "\n",
       "    .dataframe tbody tr th {\n",
       "        vertical-align: top;\n",
       "    }\n",
       "\n",
       "    .dataframe thead th {\n",
       "        text-align: right;\n",
       "    }\n",
       "</style>\n",
       "<table border=\"1\" class=\"dataframe\">\n",
       "  <thead>\n",
       "    <tr style=\"text-align: right;\">\n",
       "      <th></th>\n",
       "      <th>feature</th>\n",
       "      <th>importance</th>\n",
       "    </tr>\n",
       "  </thead>\n",
       "  <tbody>\n",
       "    <tr>\n",
       "      <th>0</th>\n",
       "      <td>x75</td>\n",
       "      <td>0.136632</td>\n",
       "    </tr>\n",
       "    <tr>\n",
       "      <th>3</th>\n",
       "      <td>x97</td>\n",
       "      <td>0.122258</td>\n",
       "    </tr>\n",
       "    <tr>\n",
       "      <th>5</th>\n",
       "      <td>x99</td>\n",
       "      <td>0.101910</td>\n",
       "    </tr>\n",
       "    <tr>\n",
       "      <th>9</th>\n",
       "      <td>x44</td>\n",
       "      <td>0.098431</td>\n",
       "    </tr>\n",
       "    <tr>\n",
       "      <th>2</th>\n",
       "      <td>x58</td>\n",
       "      <td>0.093464</td>\n",
       "    </tr>\n",
       "    <tr>\n",
       "      <th>1</th>\n",
       "      <td>x37</td>\n",
       "      <td>0.091063</td>\n",
       "    </tr>\n",
       "    <tr>\n",
       "      <th>12</th>\n",
       "      <td>x83</td>\n",
       "      <td>0.070051</td>\n",
       "    </tr>\n",
       "    <tr>\n",
       "      <th>4</th>\n",
       "      <td>x41_flt</td>\n",
       "      <td>0.061514</td>\n",
       "    </tr>\n",
       "    <tr>\n",
       "      <th>10</th>\n",
       "      <td>x63</td>\n",
       "      <td>0.049660</td>\n",
       "    </tr>\n",
       "    <tr>\n",
       "      <th>6</th>\n",
       "      <td>x1</td>\n",
       "      <td>0.043919</td>\n",
       "    </tr>\n",
       "    <tr>\n",
       "      <th>7</th>\n",
       "      <td>x40</td>\n",
       "      <td>0.043811</td>\n",
       "    </tr>\n",
       "    <tr>\n",
       "      <th>11</th>\n",
       "      <td>x56</td>\n",
       "      <td>0.033076</td>\n",
       "    </tr>\n",
       "    <tr>\n",
       "      <th>13</th>\n",
       "      <td>x96</td>\n",
       "      <td>0.030648</td>\n",
       "    </tr>\n",
       "    <tr>\n",
       "      <th>8</th>\n",
       "      <td>x70</td>\n",
       "      <td>0.023562</td>\n",
       "    </tr>\n",
       "  </tbody>\n",
       "</table>\n",
       "</div>"
      ],
      "text/plain": [
       "    feature  importance\n",
       "0       x75    0.136632\n",
       "3       x97    0.122258\n",
       "5       x99    0.101910\n",
       "9       x44    0.098431\n",
       "2       x58    0.093464\n",
       "1       x37    0.091063\n",
       "12      x83    0.070051\n",
       "4   x41_flt    0.061514\n",
       "10      x63    0.049660\n",
       "6        x1    0.043919\n",
       "7       x40    0.043811\n",
       "11      x56    0.033076\n",
       "13      x96    0.030648\n",
       "8       x70    0.023562"
      ]
     },
     "execution_count": 13,
     "metadata": {},
     "output_type": "execute_result"
    }
   ],
   "source": [
    "pd.DataFrame({'feature':X.columns, 'importance':treereg_train.feature_importances_}).sort_values('importance', ascending=False)"
   ]
  },
  {
   "cell_type": "markdown",
   "metadata": {},
   "source": [
    "** Make predictions on training model data and calculate accuracy. **"
   ]
  },
  {
   "cell_type": "code",
   "execution_count": 14,
   "metadata": {},
   "outputs": [
    {
     "name": "stdout",
     "output_type": "stream",
     "text": [
      "0.8594\n"
     ]
    }
   ],
   "source": [
    "y_pred_class = treereg_train.predict(X)\n",
    "print(metrics.accuracy_score(y, y_pred_class))"
   ]
  },
  {
   "cell_type": "markdown",
   "metadata": {},
   "source": [
    "** Compute null accuracy manually. **"
   ]
  },
  {
   "cell_type": "code",
   "execution_count": 15,
   "metadata": {},
   "outputs": [
    {
     "name": "stdout",
     "output_type": "stream",
     "text": [
      "0.7964\n"
     ]
    }
   ],
   "source": [
    "print(1 - y.mean())"
   ]
  },
  {
   "cell_type": "markdown",
   "metadata": {},
   "source": [
    "** Calculate area under the ROC curve (AUC) value for decision tree model fitted on training model data. **"
   ]
  },
  {
   "cell_type": "code",
   "execution_count": 16,
   "metadata": {},
   "outputs": [
    {
     "name": "stdout",
     "output_type": "stream",
     "text": [
      "0.8556623532103949\n"
     ]
    }
   ],
   "source": [
    "y_pred_prob = treereg_train.predict_proba(X)[:, 1]\n",
    "print(metrics.roc_auc_score(y, y_pred_prob))"
   ]
  },
  {
   "cell_type": "markdown",
   "metadata": {},
   "source": [
    "** Plot decision tree model ROC curve. **"
   ]
  },
  {
   "cell_type": "code",
   "execution_count": 17,
   "metadata": {},
   "outputs": [
    {
     "data": {
      "text/plain": [
       "Text(0,0.5,'True Positive Rate (Sensitivity)')"
      ]
     },
     "execution_count": 17,
     "metadata": {},
     "output_type": "execute_result"
    },
    {
     "data": {
      "image/png": "[encoded data removed]",
      "text/plain": [
       "<matplotlib.figure.Figure at 0x241bb078c18>"
      ]
     },
     "metadata": {},
     "output_type": "display_data"
    }
   ],
   "source": [
    "thresholds = [0.1, 0.2, 0.3, 0.4, 0.5, 0.6, 0.7, 0.8, 0.9]\n",
    "fpr, tpr, thresholds = metrics.roc_curve(y, y_pred_prob)\n",
    "plt.plot(fpr, tpr)\n",
    "plt.xlim([0.0, 1.0])\n",
    "plt.ylim([0.0, 1.0])\n",
    "plt.xlabel('False Positive Rate (1 - Specificity)')\n",
    "plt.ylabel('True Positive Rate (Sensitivity)')"
   ]
  },
  {
   "cell_type": "markdown",
   "metadata": {},
   "source": [
    "** Create GraphViz file of decision tree. **"
   ]
  },
  {
   "cell_type": "code",
   "execution_count": 18,
   "metadata": {},
   "outputs": [],
   "source": [
    "from sklearn.tree import export_graphviz\n",
    "from IPython.display import Image\n",
    "from IPython.display import display"
   ]
  },
  {
   "cell_type": "code",
   "execution_count": 19,
   "metadata": {},
   "outputs": [],
   "source": [
    "feature_cols = ['x75', 'x37', 'x58', 'x97', 'x41_flt', 'x99', 'x1', 'x40', 'x70', 'x44', 'x63', 'x56', 'x83', 'x96']\n",
    "export_graphviz(treereg_train, out_file='State_Farm_Classification_Decision_Tree.dot', feature_names=feature_cols)"
   ]
  },
  {
   "cell_type": "markdown",
   "metadata": {},
   "source": [
    "* To display the decision tree, copy the text from the State_Farm_Classification_Decision_Tree.dot file and paste it into the text box at http://webgraphviz.com/."
   ]
  },
  {
   "cell_type": "markdown",
   "metadata": {},
   "source": [
    "** Print confusion matrix to calculate training model data accuracy and error rates plus precision and recall. **"
   ]
  },
  {
   "cell_type": "code",
   "execution_count": 20,
   "metadata": {},
   "outputs": [
    {
     "name": "stdout",
     "output_type": "stream",
     "text": [
      "[[30456  1400]\n",
      " [ 4224  3920]]\n"
     ]
    }
   ],
   "source": [
    "print(metrics.confusion_matrix(y, y_pred_class))"
   ]
  },
  {
   "cell_type": "markdown",
   "metadata": {},
   "source": [
    "** Calculate training model data accuracy rate. **"
   ]
  },
  {
   "cell_type": "code",
   "execution_count": 21,
   "metadata": {},
   "outputs": [
    {
     "data": {
      "text/plain": [
       "0.8594"
      ]
     },
     "execution_count": 21,
     "metadata": {},
     "output_type": "execute_result"
    }
   ],
   "source": [
    "float(30456 + 3920) / float(30456 + 1400 + 4224 + 3920)"
   ]
  },
  {
   "cell_type": "markdown",
   "metadata": {},
   "source": [
    "** Calculate training model data misclassification / error rate. **"
   ]
  },
  {
   "cell_type": "code",
   "execution_count": 22,
   "metadata": {},
   "outputs": [
    {
     "data": {
      "text/plain": [
       "0.1406"
      ]
     },
     "execution_count": 22,
     "metadata": {},
     "output_type": "execute_result"
    }
   ],
   "source": [
    "float(4224 + 1400) / float(30456 + 1400 + 4224 + 3920)"
   ]
  },
  {
   "cell_type": "markdown",
   "metadata": {},
   "source": [
    "** Calculate precision to measure how confident the decision tree model is for capturing the positives in training model data. **"
   ]
  },
  {
   "cell_type": "code",
   "execution_count": 23,
   "metadata": {},
   "outputs": [
    {
     "data": {
      "text/plain": [
       "0.7368421052631579"
      ]
     },
     "execution_count": 23,
     "metadata": {},
     "output_type": "execute_result"
    }
   ],
   "source": [
    "float(3920) / float(3920 + 1400)"
   ]
  },
  {
   "cell_type": "markdown",
   "metadata": {},
   "source": [
    "** Calculate recall / sensitivity to measure how well the decision tree model is capturing the positives in training model data. **"
   ]
  },
  {
   "cell_type": "code",
   "execution_count": 24,
   "metadata": {},
   "outputs": [
    {
     "data": {
      "text/plain": [
       "0.481335952848723"
      ]
     },
     "execution_count": 24,
     "metadata": {},
     "output_type": "execute_result"
    }
   ],
   "source": [
    "float(3920) / float(4224 + 3920)"
   ]
  },
  {
   "cell_type": "markdown",
   "metadata": {},
   "source": [
    "** Calculate specificity to measure how well the decision tree model is capturing the negatives in training model data. **"
   ]
  },
  {
   "cell_type": "code",
   "execution_count": 25,
   "metadata": {},
   "outputs": [
    {
     "data": {
      "text/plain": [
       "0.9560522350577599"
      ]
     },
     "execution_count": 25,
     "metadata": {},
     "output_type": "execute_result"
    }
   ],
   "source": [
    "float(30456) / float(30456 + 1400)"
   ]
  },
  {
   "cell_type": "markdown",
   "metadata": {},
   "source": [
    "** Print out training model data classification report for decision tree model. **"
   ]
  },
  {
   "cell_type": "code",
   "execution_count": 26,
   "metadata": {},
   "outputs": [],
   "source": [
    "from sklearn.metrics import classification_report"
   ]
  },
  {
   "cell_type": "code",
   "execution_count": 27,
   "metadata": {},
   "outputs": [
    {
     "name": "stdout",
     "output_type": "stream",
     "text": [
      "             precision    recall  f1-score   support\n",
      "\n",
      "          0       0.88      0.96      0.92     31856\n",
      "          1       0.74      0.48      0.58      8144\n",
      "\n",
      "avg / total       0.85      0.86      0.85     40000\n",
      "\n"
     ]
    }
   ],
   "source": [
    "print(classification_report(y, y_pred_class))"
   ]
  },
  {
   "cell_type": "markdown",
   "metadata": {},
   "source": [
    "** List out training model data decision tree model accuracy scores and their average using 10-fold cross-validation. **"
   ]
  },
  {
   "cell_type": "code",
   "execution_count": 28,
   "metadata": {},
   "outputs": [],
   "source": [
    "from sklearn.cross_validation import cross_val_score"
   ]
  },
  {
   "cell_type": "code",
   "execution_count": 29,
   "metadata": {},
   "outputs": [
    {
     "name": "stdout",
     "output_type": "stream",
     "text": [
      "[0.83  0.828 0.836 0.83  0.834 0.836 0.836 0.831 0.835 0.835]\n",
      "0.833\n"
     ]
    }
   ],
   "source": [
    "acc_scores2 = cross_val_score(treereg_train, X, y, cv=10, scoring='accuracy').round(3)\n",
    "print(acc_scores2)\n",
    "print(acc_scores2.mean().round(3))"
   ]
  },
  {
   "cell_type": "markdown",
   "metadata": {},
   "source": [
    "** List out training model data decision tree model AUC values and their average using 10-fold cross-validation. **"
   ]
  },
  {
   "cell_type": "code",
   "execution_count": 30,
   "metadata": {},
   "outputs": [
    {
     "name": "stdout",
     "output_type": "stream",
     "text": [
      "[0.791 0.797 0.797 0.797 0.799 0.798 0.806 0.799 0.816 0.813]\n",
      "0.801\n"
     ]
    }
   ],
   "source": [
    "auc_scores1 = cross_val_score(treereg_train, X, y, cv=10, scoring='roc_auc').round(3)\n",
    "print(auc_scores1)\n",
    "print(auc_scores1.mean().round(3))"
   ]
  },
  {
   "cell_type": "markdown",
   "metadata": {},
   "source": [
    "### B. Generate Predictions in Cleaned Test Data"
   ]
  },
  {
   "cell_type": "markdown",
   "metadata": {},
   "source": [
    "** Import cleaned test data pickle file into a Pandas dataframe called test_model1. **"
   ]
  },
  {
   "cell_type": "code",
   "execution_count": 31,
   "metadata": {},
   "outputs": [],
   "source": [
    "test_model1 = pd.read_pickle('../State_Farm/Data/test_model.pickle')"
   ]
  },
  {
   "cell_type": "markdown",
   "metadata": {},
   "source": [
    "** Check number of rows and columns in test_model1 dataframe. **"
   ]
  },
  {
   "cell_type": "code",
   "execution_count": 32,
   "metadata": {},
   "outputs": [
    {
     "data": {
      "text/plain": [
       "(10000, 14)"
      ]
     },
     "execution_count": 32,
     "metadata": {},
     "output_type": "execute_result"
    }
   ],
   "source": [
    "test_model1.shape"
   ]
  },
  {
   "cell_type": "markdown",
   "metadata": {},
   "source": [
    "** View structure of test_model1 dataframe. **"
   ]
  },
  {
   "cell_type": "code",
   "execution_count": 33,
   "metadata": {},
   "outputs": [
    {
     "name": "stdout",
     "output_type": "stream",
     "text": [
      "<class 'pandas.core.frame.DataFrame'>\n",
      "RangeIndex: 10000 entries, 0 to 9999\n",
      "Data columns (total 14 columns):\n",
      "x75        10000 non-null float64\n",
      "x37        10000 non-null float64\n",
      "x58        10000 non-null float64\n",
      "x97        10000 non-null float64\n",
      "x41_flt    10000 non-null float64\n",
      "x99        10000 non-null float64\n",
      "x1         10000 non-null float64\n",
      "x40        10000 non-null float64\n",
      "x70        10000 non-null float64\n",
      "x44        10000 non-null float64\n",
      "x63        10000 non-null float64\n",
      "x56        10000 non-null float64\n",
      "x83        10000 non-null float64\n",
      "x96        10000 non-null float64\n",
      "dtypes: float64(14)\n",
      "memory usage: 1.1 MB\n"
     ]
    }
   ],
   "source": [
    "test_model1.info()"
   ]
  },
  {
   "cell_type": "markdown",
   "metadata": {},
   "source": [
    "** View first five rows of test_model1 dataframe. **"
   ]
  },
  {
   "cell_type": "code",
   "execution_count": 34,
   "metadata": {},
   "outputs": [
    {
     "data": {
      "text/html": [
       "<div>\n",
       "<style scoped>\n",
       "    .dataframe tbody tr th:only-of-type {\n",
       "        vertical-align: middle;\n",
       "    }\n",
       "\n",
       "    .dataframe tbody tr th {\n",
       "        vertical-align: top;\n",
       "    }\n",
       "\n",
       "    .dataframe thead th {\n",
       "        text-align: right;\n",
       "    }\n",
       "</style>\n",
       "<table border=\"1\" class=\"dataframe\">\n",
       "  <thead>\n",
       "    <tr style=\"text-align: right;\">\n",
       "      <th></th>\n",
       "      <th>x75</th>\n",
       "      <th>x37</th>\n",
       "      <th>x58</th>\n",
       "      <th>x97</th>\n",
       "      <th>x41_flt</th>\n",
       "      <th>x99</th>\n",
       "      <th>x1</th>\n",
       "      <th>x40</th>\n",
       "      <th>x70</th>\n",
       "      <th>x44</th>\n",
       "      <th>x63</th>\n",
       "      <th>x56</th>\n",
       "      <th>x83</th>\n",
       "      <th>x96</th>\n",
       "    </tr>\n",
       "  </thead>\n",
       "  <tbody>\n",
       "    <tr>\n",
       "      <th>0</th>\n",
       "      <td>80.851384</td>\n",
       "      <td>-32.086998</td>\n",
       "      <td>5.093232</td>\n",
       "      <td>13.739194</td>\n",
       "      <td>2475.46</td>\n",
       "      <td>1.141799</td>\n",
       "      <td>54.479467</td>\n",
       "      <td>-8.776231</td>\n",
       "      <td>44.269118</td>\n",
       "      <td>-37.212324</td>\n",
       "      <td>-13.041408</td>\n",
       "      <td>18.759685</td>\n",
       "      <td>3.358217</td>\n",
       "      <td>-55.883515</td>\n",
       "    </tr>\n",
       "    <tr>\n",
       "      <th>1</th>\n",
       "      <td>-21.295879</td>\n",
       "      <td>29.391786</td>\n",
       "      <td>-5.989844</td>\n",
       "      <td>-13.018951</td>\n",
       "      <td>-1109.10</td>\n",
       "      <td>0.568757</td>\n",
       "      <td>-20.244923</td>\n",
       "      <td>23.337240</td>\n",
       "      <td>5.663716</td>\n",
       "      <td>35.773821</td>\n",
       "      <td>-11.689257</td>\n",
       "      <td>13.605774</td>\n",
       "      <td>5.950392</td>\n",
       "      <td>-13.110477</td>\n",
       "    </tr>\n",
       "    <tr>\n",
       "      <th>2</th>\n",
       "      <td>27.719905</td>\n",
       "      <td>-30.329997</td>\n",
       "      <td>6.115105</td>\n",
       "      <td>0.791425</td>\n",
       "      <td>-187.70</td>\n",
       "      <td>-0.816682</td>\n",
       "      <td>-61.467354</td>\n",
       "      <td>-8.845933</td>\n",
       "      <td>-47.647220</td>\n",
       "      <td>-47.164493</td>\n",
       "      <td>11.980730</td>\n",
       "      <td>-1.482218</td>\n",
       "      <td>-1.105144</td>\n",
       "      <td>-7.140415</td>\n",
       "    </tr>\n",
       "    <tr>\n",
       "      <th>3</th>\n",
       "      <td>-4.053955</td>\n",
       "      <td>11.088216</td>\n",
       "      <td>-2.750484</td>\n",
       "      <td>-16.716012</td>\n",
       "      <td>525.65</td>\n",
       "      <td>0.603007</td>\n",
       "      <td>-18.454831</td>\n",
       "      <td>-57.516611</td>\n",
       "      <td>-14.010977</td>\n",
       "      <td>-19.932829</td>\n",
       "      <td>9.897997</td>\n",
       "      <td>39.624560</td>\n",
       "      <td>-5.203346</td>\n",
       "      <td>-2.564346</td>\n",
       "    </tr>\n",
       "    <tr>\n",
       "      <th>4</th>\n",
       "      <td>21.743536</td>\n",
       "      <td>-21.955105</td>\n",
       "      <td>-4.286183</td>\n",
       "      <td>23.003355</td>\n",
       "      <td>-1113.53</td>\n",
       "      <td>1.929231</td>\n",
       "      <td>15.810515</td>\n",
       "      <td>-13.207037</td>\n",
       "      <td>13.267059</td>\n",
       "      <td>26.546397</td>\n",
       "      <td>-17.279813</td>\n",
       "      <td>82.433802</td>\n",
       "      <td>3.971766</td>\n",
       "      <td>-28.709156</td>\n",
       "    </tr>\n",
       "  </tbody>\n",
       "</table>\n",
       "</div>"
      ],
      "text/plain": [
       "         x75        x37       x58        x97  x41_flt       x99         x1  \\\n",
       "0  80.851384 -32.086998  5.093232  13.739194  2475.46  1.141799  54.479467   \n",
       "1 -21.295879  29.391786 -5.989844 -13.018951 -1109.10  0.568757 -20.244923   \n",
       "2  27.719905 -30.329997  6.115105   0.791425  -187.70 -0.816682 -61.467354   \n",
       "3  -4.053955  11.088216 -2.750484 -16.716012   525.65  0.603007 -18.454831   \n",
       "4  21.743536 -21.955105 -4.286183  23.003355 -1113.53  1.929231  15.810515   \n",
       "\n",
       "         x40        x70        x44        x63        x56       x83        x96  \n",
       "0  -8.776231  44.269118 -37.212324 -13.041408  18.759685  3.358217 -55.883515  \n",
       "1  23.337240   5.663716  35.773821 -11.689257  13.605774  5.950392 -13.110477  \n",
       "2  -8.845933 -47.647220 -47.164493  11.980730  -1.482218 -1.105144  -7.140415  \n",
       "3 -57.516611 -14.010977 -19.932829   9.897997  39.624560 -5.203346  -2.564346  \n",
       "4 -13.207037  13.267059  26.546397 -17.279813  82.433802  3.971766 -28.709156  "
      ]
     },
     "execution_count": 34,
     "metadata": {},
     "output_type": "execute_result"
    }
   ],
   "source": [
    "test_model1.head()"
   ]
  },
  {
   "cell_type": "markdown",
   "metadata": {},
   "source": [
    "** Define X_test. **"
   ]
  },
  {
   "cell_type": "code",
   "execution_count": 35,
   "metadata": {},
   "outputs": [
    {
     "name": "stdout",
     "output_type": "stream",
     "text": [
      "(10000, 14)\n"
     ]
    }
   ],
   "source": [
    "X_test = test_model1[feature_cols]\n",
    "print(X_test.shape)"
   ]
  },
  {
   "cell_type": "markdown",
   "metadata": {},
   "source": [
    "** Make predictions on cleaned test data by calculating probabilities for belonging to positive class (labeled '1'). **"
   ]
  },
  {
   "cell_type": "code",
   "execution_count": 36,
   "metadata": {},
   "outputs": [],
   "source": [
    "y_test_pred_prob = treereg_train.predict_proba(X_test)[:, 1]"
   ]
  },
  {
   "cell_type": "markdown",
   "metadata": {},
   "source": [
    "** Construct results2_dtree Pandas dataframe out of test data y predicted class probabilities. **"
   ]
  },
  {
   "cell_type": "code",
   "execution_count": 37,
   "metadata": {},
   "outputs": [
    {
     "data": {
      "text/html": [
       "<div>\n",
       "<style scoped>\n",
       "    .dataframe tbody tr th:only-of-type {\n",
       "        vertical-align: middle;\n",
       "    }\n",
       "\n",
       "    .dataframe tbody tr th {\n",
       "        vertical-align: top;\n",
       "    }\n",
       "\n",
       "    .dataframe thead th {\n",
       "        text-align: right;\n",
       "    }\n",
       "</style>\n",
       "<table border=\"1\" class=\"dataframe\">\n",
       "  <thead>\n",
       "    <tr style=\"text-align: right;\">\n",
       "      <th></th>\n",
       "      <th>y_test_pred_prob</th>\n",
       "    </tr>\n",
       "  </thead>\n",
       "  <tbody>\n",
       "    <tr>\n",
       "      <th>0</th>\n",
       "      <td>0.163598</td>\n",
       "    </tr>\n",
       "    <tr>\n",
       "      <th>1</th>\n",
       "      <td>0.423729</td>\n",
       "    </tr>\n",
       "    <tr>\n",
       "      <th>2</th>\n",
       "      <td>0.296970</td>\n",
       "    </tr>\n",
       "    <tr>\n",
       "      <th>3</th>\n",
       "      <td>0.070088</td>\n",
       "    </tr>\n",
       "    <tr>\n",
       "      <th>4</th>\n",
       "      <td>0.359807</td>\n",
       "    </tr>\n",
       "  </tbody>\n",
       "</table>\n",
       "</div>"
      ],
      "text/plain": [
       "   y_test_pred_prob\n",
       "0          0.163598\n",
       "1          0.423729\n",
       "2          0.296970\n",
       "3          0.070088\n",
       "4          0.359807"
      ]
     },
     "execution_count": 37,
     "metadata": {},
     "output_type": "execute_result"
    }
   ],
   "source": [
    "results2_dtree = pd.DataFrame({'y_test_pred_prob': y_test_pred_prob[:]})\n",
    "results2_dtree.head()"
   ]
  },
  {
   "cell_type": "markdown",
   "metadata": {},
   "source": [
    "** Check number of rows and columns in results2_dtree dataframe. **"
   ]
  },
  {
   "cell_type": "code",
   "execution_count": 38,
   "metadata": {},
   "outputs": [
    {
     "data": {
      "text/plain": [
       "(10000, 1)"
      ]
     },
     "execution_count": 38,
     "metadata": {},
     "output_type": "execute_result"
    }
   ],
   "source": [
    "results2_dtree.shape"
   ]
  },
  {
   "cell_type": "markdown",
   "metadata": {},
   "source": [
    "** Export results2_dtree Pandas dataframe containing test data y predicted class probabilities to CSV file. **"
   ]
  },
  {
   "cell_type": "code",
   "execution_count": 39,
   "metadata": {},
   "outputs": [],
   "source": [
    "results2_dtree.to_csv('../State_Farm/Data/results2_dtree.csv', sep=',', index=False)"
   ]
  }
 ],
 "metadata": {
  "kernelspec": {
   "display_name": "Python 3",
   "language": "python",
   "name": "python3"
  },
  "language_info": {
   "codemirror_mode": {
    "name": "ipython",
    "version": 3
   },
   "file_extension": ".py",
   "mimetype": "text/x-python",
   "name": "python",
   "nbconvert_exporter": "python",
   "pygments_lexer": "ipython3",
   "version": "3.6.4"
  },
  "varInspector": {
   "cols": {
    "lenName": 16,
    "lenType": 16,
    "lenVar": 40
   },
   "kernels_config": {
    "python": {
     "delete_cmd_postfix": "",
     "delete_cmd_prefix": "del ",
     "library": "var_list.py",
     "varRefreshCmd": "print(var_dic_list())"
    },
    "r": {
     "delete_cmd_postfix": ") ",
     "delete_cmd_prefix": "rm(",
     "library": "var_list.r",
     "varRefreshCmd": "cat(var_dic_list()) "
    }
   },
   "types_to_exclude": [
    "module",
    "function",
    "builtin_function_or_method",
    "instance",
    "_Feature"
   ],
   "window_display": false
  }
 },
 "nbformat": 4,
 "nbformat_minor": 2
}
