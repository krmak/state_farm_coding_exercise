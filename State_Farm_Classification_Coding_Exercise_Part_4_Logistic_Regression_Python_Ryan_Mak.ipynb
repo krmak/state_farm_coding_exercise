{
 "cells": [
  {
   "cell_type": "markdown",
   "metadata": {},
   "source": [
    "# State Farm Classification Coding Exercise"
   ]
  },
  {
   "cell_type": "markdown",
   "metadata": {},
   "source": [
    "## Part 4 - Build a Logistic Regression Model"
   ]
  },
  {
   "cell_type": "markdown",
   "metadata": {},
   "source": [
    "### A. Construct Logistic Regression Model Upon Training Data"
   ]
  },
  {
   "cell_type": "markdown",
   "metadata": {},
   "source": [
    "** Import numpy and pandas. **"
   ]
  },
  {
   "cell_type": "code",
   "execution_count": 1,
   "metadata": {},
   "outputs": [],
   "source": [
    "import numpy as np\n",
    "import pandas as pd"
   ]
  },
  {
   "cell_type": "markdown",
   "metadata": {},
   "source": [
    "** Import data visualization libraries and set %matplotlib inline. **"
   ]
  },
  {
   "cell_type": "code",
   "execution_count": 2,
   "metadata": {},
   "outputs": [],
   "source": [
    "import matplotlib.pyplot as plt\n",
    "import seaborn as sns\n",
    "%matplotlib inline"
   ]
  },
  {
   "cell_type": "markdown",
   "metadata": {},
   "source": [
    "** Import training model data into a Pandas dataframe called train_model1. **"
   ]
  },
  {
   "cell_type": "code",
   "execution_count": 3,
   "metadata": {},
   "outputs": [],
   "source": [
    "train_model1 = pd.read_pickle('../State_Farm/Data/train_model.pickle')"
   ]
  },
  {
   "cell_type": "markdown",
   "metadata": {},
   "source": [
    "** Check number of rows and columns in train_model1 dataframe. **"
   ]
  },
  {
   "cell_type": "code",
   "execution_count": 4,
   "metadata": {},
   "outputs": [
    {
     "data": {
      "text/plain": [
       "(40000, 15)"
      ]
     },
     "execution_count": 4,
     "metadata": {},
     "output_type": "execute_result"
    }
   ],
   "source": [
    "train_model1.shape"
   ]
  },
  {
   "cell_type": "markdown",
   "metadata": {},
   "source": [
    "** View structure of train_model1 dataframe. **"
   ]
  },
  {
   "cell_type": "code",
   "execution_count": 5,
   "metadata": {},
   "outputs": [
    {
     "name": "stdout",
     "output_type": "stream",
     "text": [
      "<class 'pandas.core.frame.DataFrame'>\n",
      "RangeIndex: 40000 entries, 0 to 39999\n",
      "Data columns (total 15 columns):\n",
      "y          40000 non-null int64\n",
      "x75        40000 non-null float64\n",
      "x37        40000 non-null float64\n",
      "x58        40000 non-null float64\n",
      "x97        40000 non-null float64\n",
      "x41_flt    40000 non-null float64\n",
      "x99        40000 non-null float64\n",
      "x1         40000 non-null float64\n",
      "x40        40000 non-null float64\n",
      "x70        40000 non-null float64\n",
      "x44        40000 non-null float64\n",
      "x63        40000 non-null float64\n",
      "x56        40000 non-null float64\n",
      "x83        40000 non-null float64\n",
      "x96        40000 non-null float64\n",
      "dtypes: float64(14), int64(1)\n",
      "memory usage: 4.6 MB\n"
     ]
    }
   ],
   "source": [
    "train_model1.info()"
   ]
  },
  {
   "cell_type": "markdown",
   "metadata": {},
   "source": [
    "** View first five rows of train_model1 dataframe. **"
   ]
  },
  {
   "cell_type": "code",
   "execution_count": 6,
   "metadata": {},
   "outputs": [
    {
     "data": {
      "text/html": [
       "<div>\n",
       "<style scoped>\n",
       "    .dataframe tbody tr th:only-of-type {\n",
       "        vertical-align: middle;\n",
       "    }\n",
       "\n",
       "    .dataframe tbody tr th {\n",
       "        vertical-align: top;\n",
       "    }\n",
       "\n",
       "    .dataframe thead th {\n",
       "        text-align: right;\n",
       "    }\n",
       "</style>\n",
       "<table border=\"1\" class=\"dataframe\">\n",
       "  <thead>\n",
       "    <tr style=\"text-align: right;\">\n",
       "      <th></th>\n",
       "      <th>y</th>\n",
       "      <th>x75</th>\n",
       "      <th>x37</th>\n",
       "      <th>x58</th>\n",
       "      <th>x97</th>\n",
       "      <th>x41_flt</th>\n",
       "      <th>x99</th>\n",
       "      <th>x1</th>\n",
       "      <th>x40</th>\n",
       "      <th>x70</th>\n",
       "      <th>x44</th>\n",
       "      <th>x63</th>\n",
       "      <th>x56</th>\n",
       "      <th>x83</th>\n",
       "      <th>x96</th>\n",
       "    </tr>\n",
       "  </thead>\n",
       "  <tbody>\n",
       "    <tr>\n",
       "      <th>0</th>\n",
       "      <td>0</td>\n",
       "      <td>40.617107</td>\n",
       "      <td>-10.839200</td>\n",
       "      <td>2.078396</td>\n",
       "      <td>-2.125570</td>\n",
       "      <td>449.48</td>\n",
       "      <td>1.237667</td>\n",
       "      <td>74.425320</td>\n",
       "      <td>4.550518</td>\n",
       "      <td>41.040206</td>\n",
       "      <td>-104.388382</td>\n",
       "      <td>4.036426</td>\n",
       "      <td>34.030184</td>\n",
       "      <td>1.885149</td>\n",
       "      <td>26.238591</td>\n",
       "    </tr>\n",
       "    <tr>\n",
       "      <th>1</th>\n",
       "      <td>1</td>\n",
       "      <td>-49.303165</td>\n",
       "      <td>57.917006</td>\n",
       "      <td>-2.696257</td>\n",
       "      <td>-36.030599</td>\n",
       "      <td>-525.06</td>\n",
       "      <td>1.952183</td>\n",
       "      <td>24.320711</td>\n",
       "      <td>-9.476135</td>\n",
       "      <td>36.204784</td>\n",
       "      <td>-65.535823</td>\n",
       "      <td>-4.809269</td>\n",
       "      <td>-49.979634</td>\n",
       "      <td>-0.333381</td>\n",
       "      <td>-15.141647</td>\n",
       "    </tr>\n",
       "    <tr>\n",
       "      <th>2</th>\n",
       "      <td>1</td>\n",
       "      <td>-19.706659</td>\n",
       "      <td>-12.991058</td>\n",
       "      <td>-2.417447</td>\n",
       "      <td>26.212736</td>\n",
       "      <td>-599.50</td>\n",
       "      <td>0.558988</td>\n",
       "      <td>-66.160459</td>\n",
       "      <td>6.876065</td>\n",
       "      <td>49.538602</td>\n",
       "      <td>4.719628</td>\n",
       "      <td>16.889265</td>\n",
       "      <td>15.147122</td>\n",
       "      <td>9.341546</td>\n",
       "      <td>-19.914894</td>\n",
       "    </tr>\n",
       "    <tr>\n",
       "      <th>3</th>\n",
       "      <td>0</td>\n",
       "      <td>-7.301283</td>\n",
       "      <td>37.658926</td>\n",
       "      <td>4.443710</td>\n",
       "      <td>19.221130</td>\n",
       "      <td>-220.71</td>\n",
       "      <td>0.214462</td>\n",
       "      <td>33.210943</td>\n",
       "      <td>-16.933984</td>\n",
       "      <td>82.130387</td>\n",
       "      <td>26.053787</td>\n",
       "      <td>-21.680531</td>\n",
       "      <td>34.361817</td>\n",
       "      <td>-2.007231</td>\n",
       "      <td>-27.197636</td>\n",
       "    </tr>\n",
       "    <tr>\n",
       "      <th>4</th>\n",
       "      <td>0</td>\n",
       "      <td>-2.751656</td>\n",
       "      <td>-59.497091</td>\n",
       "      <td>-2.421952</td>\n",
       "      <td>-5.703269</td>\n",
       "      <td>-1405.59</td>\n",
       "      <td>-1.191319</td>\n",
       "      <td>-26.717872</td>\n",
       "      <td>-9.551514</td>\n",
       "      <td>-19.154066</td>\n",
       "      <td>52.808773</td>\n",
       "      <td>3.210319</td>\n",
       "      <td>24.488505</td>\n",
       "      <td>-0.546353</td>\n",
       "      <td>33.383803</td>\n",
       "    </tr>\n",
       "  </tbody>\n",
       "</table>\n",
       "</div>"
      ],
      "text/plain": [
       "   y        x75        x37       x58        x97  x41_flt       x99         x1  \\\n",
       "0  0  40.617107 -10.839200  2.078396  -2.125570   449.48  1.237667  74.425320   \n",
       "1  1 -49.303165  57.917006 -2.696257 -36.030599  -525.06  1.952183  24.320711   \n",
       "2  1 -19.706659 -12.991058 -2.417447  26.212736  -599.50  0.558988 -66.160459   \n",
       "3  0  -7.301283  37.658926  4.443710  19.221130  -220.71  0.214462  33.210943   \n",
       "4  0  -2.751656 -59.497091 -2.421952  -5.703269 -1405.59 -1.191319 -26.717872   \n",
       "\n",
       "         x40        x70         x44        x63        x56       x83        x96  \n",
       "0   4.550518  41.040206 -104.388382   4.036426  34.030184  1.885149  26.238591  \n",
       "1  -9.476135  36.204784  -65.535823  -4.809269 -49.979634 -0.333381 -15.141647  \n",
       "2   6.876065  49.538602    4.719628  16.889265  15.147122  9.341546 -19.914894  \n",
       "3 -16.933984  82.130387   26.053787 -21.680531  34.361817 -2.007231 -27.197636  \n",
       "4  -9.551514 -19.154066   52.808773   3.210319  24.488505 -0.546353  33.383803  "
      ]
     },
     "execution_count": 6,
     "metadata": {},
     "output_type": "execute_result"
    }
   ],
   "source": [
    "train_model1.head()"
   ]
  },
  {
   "cell_type": "markdown",
   "metadata": {},
   "source": [
    "** Gather summary statistics of train_model1 dataframe. **"
   ]
  },
  {
   "cell_type": "code",
   "execution_count": 7,
   "metadata": {},
   "outputs": [
    {
     "data": {
      "text/html": [
       "<div>\n",
       "<style scoped>\n",
       "    .dataframe tbody tr th:only-of-type {\n",
       "        vertical-align: middle;\n",
       "    }\n",
       "\n",
       "    .dataframe tbody tr th {\n",
       "        vertical-align: top;\n",
       "    }\n",
       "\n",
       "    .dataframe thead th {\n",
       "        text-align: right;\n",
       "    }\n",
       "</style>\n",
       "<table border=\"1\" class=\"dataframe\">\n",
       "  <thead>\n",
       "    <tr style=\"text-align: right;\">\n",
       "      <th></th>\n",
       "      <th>y</th>\n",
       "      <th>x75</th>\n",
       "      <th>x37</th>\n",
       "      <th>x58</th>\n",
       "      <th>x97</th>\n",
       "      <th>x41_flt</th>\n",
       "      <th>x99</th>\n",
       "      <th>x1</th>\n",
       "      <th>x40</th>\n",
       "      <th>x70</th>\n",
       "      <th>x44</th>\n",
       "      <th>x63</th>\n",
       "      <th>x56</th>\n",
       "      <th>x83</th>\n",
       "      <th>x96</th>\n",
       "    </tr>\n",
       "  </thead>\n",
       "  <tbody>\n",
       "    <tr>\n",
       "      <th>count</th>\n",
       "      <td>40000.00000</td>\n",
       "      <td>40000.000000</td>\n",
       "      <td>40000.000000</td>\n",
       "      <td>40000.000000</td>\n",
       "      <td>40000.000000</td>\n",
       "      <td>40000.000000</td>\n",
       "      <td>40000.000000</td>\n",
       "      <td>40000.000000</td>\n",
       "      <td>40000.000000</td>\n",
       "      <td>40000.000000</td>\n",
       "      <td>40000.000000</td>\n",
       "      <td>40000.000000</td>\n",
       "      <td>40000.000000</td>\n",
       "      <td>40000.000000</td>\n",
       "      <td>40000.000000</td>\n",
       "    </tr>\n",
       "    <tr>\n",
       "      <th>mean</th>\n",
       "      <td>0.20360</td>\n",
       "      <td>5.417519</td>\n",
       "      <td>4.814694</td>\n",
       "      <td>-0.892583</td>\n",
       "      <td>-2.514305</td>\n",
       "      <td>0.315315</td>\n",
       "      <td>0.043218</td>\n",
       "      <td>-7.788884</td>\n",
       "      <td>1.849224</td>\n",
       "      <td>6.884965</td>\n",
       "      <td>-21.624920</td>\n",
       "      <td>-2.673378</td>\n",
       "      <td>-1.489671</td>\n",
       "      <td>0.207667</td>\n",
       "      <td>-0.807556</td>\n",
       "    </tr>\n",
       "    <tr>\n",
       "      <th>std</th>\n",
       "      <td>0.40268</td>\n",
       "      <td>35.653631</td>\n",
       "      <td>31.561154</td>\n",
       "      <td>6.319470</td>\n",
       "      <td>18.551630</td>\n",
       "      <td>1001.659950</td>\n",
       "      <td>1.114263</td>\n",
       "      <td>37.010235</td>\n",
       "      <td>34.776971</td>\n",
       "      <td>37.411230</td>\n",
       "      <td>87.305224</td>\n",
       "      <td>13.869871</td>\n",
       "      <td>29.944783</td>\n",
       "      <td>4.964881</td>\n",
       "      <td>23.831724</td>\n",
       "    </tr>\n",
       "    <tr>\n",
       "      <th>min</th>\n",
       "      <td>0.00000</td>\n",
       "      <td>-146.967384</td>\n",
       "      <td>-127.651997</td>\n",
       "      <td>-31.395877</td>\n",
       "      <td>-73.908741</td>\n",
       "      <td>-4496.460000</td>\n",
       "      <td>-4.376614</td>\n",
       "      <td>-157.341119</td>\n",
       "      <td>-141.837976</td>\n",
       "      <td>-135.730347</td>\n",
       "      <td>-423.119841</td>\n",
       "      <td>-65.169968</td>\n",
       "      <td>-128.052246</td>\n",
       "      <td>-22.231100</td>\n",
       "      <td>-108.474714</td>\n",
       "    </tr>\n",
       "    <tr>\n",
       "      <th>25%</th>\n",
       "      <td>0.00000</td>\n",
       "      <td>-17.971049</td>\n",
       "      <td>-16.589036</td>\n",
       "      <td>-5.175537</td>\n",
       "      <td>-15.023076</td>\n",
       "      <td>-669.295000</td>\n",
       "      <td>-0.710450</td>\n",
       "      <td>-32.728985</td>\n",
       "      <td>-22.000674</td>\n",
       "      <td>-17.958766</td>\n",
       "      <td>-76.471492</td>\n",
       "      <td>-12.014266</td>\n",
       "      <td>-21.410198</td>\n",
       "      <td>-3.144923</td>\n",
       "      <td>-16.824117</td>\n",
       "    </tr>\n",
       "    <tr>\n",
       "      <th>50%</th>\n",
       "      <td>0.00000</td>\n",
       "      <td>5.592658</td>\n",
       "      <td>4.493183</td>\n",
       "      <td>-0.891371</td>\n",
       "      <td>-2.514305</td>\n",
       "      <td>6.040000</td>\n",
       "      <td>0.042895</td>\n",
       "      <td>-7.988907</td>\n",
       "      <td>1.142136</td>\n",
       "      <td>6.961203</td>\n",
       "      <td>-19.049291</td>\n",
       "      <td>-2.785817</td>\n",
       "      <td>-1.340681</td>\n",
       "      <td>0.201012</td>\n",
       "      <td>-0.661772</td>\n",
       "    </tr>\n",
       "    <tr>\n",
       "      <th>75%</th>\n",
       "      <td>0.00000</td>\n",
       "      <td>28.988799</td>\n",
       "      <td>25.968530</td>\n",
       "      <td>3.413382</td>\n",
       "      <td>9.882079</td>\n",
       "      <td>678.325000</td>\n",
       "      <td>0.797327</td>\n",
       "      <td>16.844355</td>\n",
       "      <td>24.990524</td>\n",
       "      <td>32.050751</td>\n",
       "      <td>36.706320</td>\n",
       "      <td>6.681694</td>\n",
       "      <td>18.721678</td>\n",
       "      <td>3.545705</td>\n",
       "      <td>15.267626</td>\n",
       "    </tr>\n",
       "    <tr>\n",
       "      <th>max</th>\n",
       "      <td>1.00000</td>\n",
       "      <td>144.548014</td>\n",
       "      <td>126.924294</td>\n",
       "      <td>22.420511</td>\n",
       "      <td>76.120119</td>\n",
       "      <td>4062.630000</td>\n",
       "      <td>4.490209</td>\n",
       "      <td>153.469221</td>\n",
       "      <td>159.813564</td>\n",
       "      <td>159.477026</td>\n",
       "      <td>314.770732</td>\n",
       "      <td>55.601781</td>\n",
       "      <td>132.980539</td>\n",
       "      <td>19.617204</td>\n",
       "      <td>92.926545</td>\n",
       "    </tr>\n",
       "  </tbody>\n",
       "</table>\n",
       "</div>"
      ],
      "text/plain": [
       "                 y           x75           x37           x58           x97  \\\n",
       "count  40000.00000  40000.000000  40000.000000  40000.000000  40000.000000   \n",
       "mean       0.20360      5.417519      4.814694     -0.892583     -2.514305   \n",
       "std        0.40268     35.653631     31.561154      6.319470     18.551630   \n",
       "min        0.00000   -146.967384   -127.651997    -31.395877    -73.908741   \n",
       "25%        0.00000    -17.971049    -16.589036     -5.175537    -15.023076   \n",
       "50%        0.00000      5.592658      4.493183     -0.891371     -2.514305   \n",
       "75%        0.00000     28.988799     25.968530      3.413382      9.882079   \n",
       "max        1.00000    144.548014    126.924294     22.420511     76.120119   \n",
       "\n",
       "            x41_flt           x99            x1           x40           x70  \\\n",
       "count  40000.000000  40000.000000  40000.000000  40000.000000  40000.000000   \n",
       "mean       0.315315      0.043218     -7.788884      1.849224      6.884965   \n",
       "std     1001.659950      1.114263     37.010235     34.776971     37.411230   \n",
       "min    -4496.460000     -4.376614   -157.341119   -141.837976   -135.730347   \n",
       "25%     -669.295000     -0.710450    -32.728985    -22.000674    -17.958766   \n",
       "50%        6.040000      0.042895     -7.988907      1.142136      6.961203   \n",
       "75%      678.325000      0.797327     16.844355     24.990524     32.050751   \n",
       "max     4062.630000      4.490209    153.469221    159.813564    159.477026   \n",
       "\n",
       "                x44           x63           x56           x83           x96  \n",
       "count  40000.000000  40000.000000  40000.000000  40000.000000  40000.000000  \n",
       "mean     -21.624920     -2.673378     -1.489671      0.207667     -0.807556  \n",
       "std       87.305224     13.869871     29.944783      4.964881     23.831724  \n",
       "min     -423.119841    -65.169968   -128.052246    -22.231100   -108.474714  \n",
       "25%      -76.471492    -12.014266    -21.410198     -3.144923    -16.824117  \n",
       "50%      -19.049291     -2.785817     -1.340681      0.201012     -0.661772  \n",
       "75%       36.706320      6.681694     18.721678      3.545705     15.267626  \n",
       "max      314.770732     55.601781    132.980539     19.617204     92.926545  "
      ]
     },
     "execution_count": 7,
     "metadata": {},
     "output_type": "execute_result"
    }
   ],
   "source": [
    "train_model1.describe()"
   ]
  },
  {
   "cell_type": "markdown",
   "metadata": {},
   "source": [
    "** Define X and y. **"
   ]
  },
  {
   "cell_type": "code",
   "execution_count": 8,
   "metadata": {},
   "outputs": [],
   "source": [
    "feature_cols = ['x75', 'x37', 'x58', 'x97', 'x41_flt', 'x99', 'x1', 'x40', 'x70', 'x44', 'x63', 'x56', 'x83', 'x96']"
   ]
  },
  {
   "cell_type": "code",
   "execution_count": 9,
   "metadata": {},
   "outputs": [
    {
     "name": "stdout",
     "output_type": "stream",
     "text": [
      "(40000, 14)\n",
      "(40000,)\n"
     ]
    }
   ],
   "source": [
    "X = train_model1[feature_cols]\n",
    "y = train_model1['y']\n",
    "print(X.shape)\n",
    "print(y.shape)"
   ]
  },
  {
   "cell_type": "markdown",
   "metadata": {},
   "source": [
    "** Fit a logistic regression model on training model data. **"
   ]
  },
  {
   "cell_type": "code",
   "execution_count": 10,
   "metadata": {},
   "outputs": [],
   "source": [
    "from sklearn.linear_model import LogisticRegression\n",
    "from sklearn import metrics"
   ]
  },
  {
   "cell_type": "code",
   "execution_count": 11,
   "metadata": {},
   "outputs": [
    {
     "data": {
      "text/plain": [
       "LogisticRegression(C=1000000000.0, class_weight=None, dual=False,\n",
       "          fit_intercept=True, intercept_scaling=1, max_iter=100,\n",
       "          multi_class='ovr', n_jobs=1, penalty='l2', random_state=None,\n",
       "          solver='liblinear', tol=0.0001, verbose=0, warm_start=False)"
      ]
     },
     "execution_count": 11,
     "metadata": {},
     "output_type": "execute_result"
    }
   ],
   "source": [
    "logreg = LogisticRegression(C=1e9)\n",
    "logreg.fit(X, y)"
   ]
  },
  {
   "cell_type": "markdown",
   "metadata": {},
   "source": [
    "** Print logistic regression model intercept and coefficients. **"
   ]
  },
  {
   "cell_type": "code",
   "execution_count": 12,
   "metadata": {},
   "outputs": [
    {
     "name": "stdout",
     "output_type": "stream",
     "text": [
      "[-1.3847385]\n"
     ]
    },
    {
     "data": {
      "text/plain": [
       "{'x1': 0.007047416085280777,\n",
       " 'x37': -0.016105211331098775,\n",
       " 'x40': 0.00578891080883736,\n",
       " 'x41_flt': -0.0003401854661650888,\n",
       " 'x44': 0.006037683479860255,\n",
       " 'x56': -0.009542535312387216,\n",
       " 'x58': 0.11121565823866641,\n",
       " 'x63': 0.029668912026681572,\n",
       " 'x70': -0.005447882703786845,\n",
       " 'x75': -0.023153039385620668,\n",
       " 'x83': 0.08761590096736244,\n",
       " 'x96': -0.010344079456438539,\n",
       " 'x97': 0.03871572430063214,\n",
       " 'x99': 0.4788438298145828}"
      ]
     },
     "execution_count": 12,
     "metadata": {},
     "output_type": "execute_result"
    }
   ],
   "source": [
    "print(logreg.intercept_)\n",
    "dict(zip(feature_cols, logreg.coef_[0]))"
   ]
  },
  {
   "cell_type": "markdown",
   "metadata": {},
   "source": [
    "** Express logistic regression model coefficients as odds. **"
   ]
  },
  {
   "cell_type": "code",
   "execution_count": 13,
   "metadata": {},
   "outputs": [
    {
     "data": {
      "text/plain": [
       "{'x1': 1.007072307561193,\n",
       " 'x37': 0.9840237841566418,\n",
       " 'x40': 1.0058056989323634,\n",
       " 'x41_flt': 0.9996598723903498,\n",
       " 'x44': 1.0060559470287698,\n",
       " 'x56': 0.9905028501986991,\n",
       " 'x58': 1.1176359082580003,\n",
       " 'x63': 1.0301134193228654,\n",
       " 'x70': 0.9945669300975146,\n",
       " 'x75': 0.977112935566845,\n",
       " 'x83': 1.0915687709881947,\n",
       " 'x96': 0.9897092365401361,\n",
       " 'x97': 1.0394749441780715,\n",
       " 'x99': 1.6142070248626739}"
      ]
     },
     "execution_count": 13,
     "metadata": {},
     "output_type": "execute_result"
    }
   ],
   "source": [
    "dict(zip(feature_cols, np.exp(logreg.coef_[0])))"
   ]
  },
  {
   "cell_type": "markdown",
   "metadata": {},
   "source": [
    "** Make predictions on training model data and calculate accuracy for training model data. **"
   ]
  },
  {
   "cell_type": "code",
   "execution_count": 14,
   "metadata": {},
   "outputs": [
    {
     "name": "stdout",
     "output_type": "stream",
     "text": [
      "0.843\n"
     ]
    }
   ],
   "source": [
    "y_pred_class = logreg.predict(X)\n",
    "print(metrics.accuracy_score(y, y_pred_class).round(3))"
   ]
  },
  {
   "cell_type": "markdown",
   "metadata": {},
   "source": [
    "** Compute training model data null accuracy manually. **"
   ]
  },
  {
   "cell_type": "code",
   "execution_count": 15,
   "metadata": {},
   "outputs": [
    {
     "name": "stdout",
     "output_type": "stream",
     "text": [
      "0.7964\n"
     ]
    }
   ],
   "source": [
    "print(1 - y.mean())"
   ]
  },
  {
   "cell_type": "markdown",
   "metadata": {},
   "source": [
    "** Calculate area under the ROC curve (AUC) value for training data logistic regression model. **"
   ]
  },
  {
   "cell_type": "code",
   "execution_count": 16,
   "metadata": {},
   "outputs": [
    {
     "name": "stdout",
     "output_type": "stream",
     "text": [
      "0.854\n"
     ]
    }
   ],
   "source": [
    "y_pred_prob = logreg.predict_proba(X)[:, 1]\n",
    "print(metrics.roc_auc_score(y, y_pred_prob).round(3))"
   ]
  },
  {
   "cell_type": "markdown",
   "metadata": {},
   "source": [
    "** Plot logistic regression model ROC curve for training data. **"
   ]
  },
  {
   "cell_type": "code",
   "execution_count": 17,
   "metadata": {},
   "outputs": [
    {
     "data": {
      "text/plain": [
       "Text(0,0.5,'True Positive Rate (Sensitivity)')"
      ]
     },
     "execution_count": 17,
     "metadata": {},
     "output_type": "execute_result"
    },
    {
     "data": {
      "image/png": "[encoded data removed]",
      "text/plain": [
       "<matplotlib.figure.Figure at 0x1a29c764a20>"
      ]
     },
     "metadata": {},
     "output_type": "display_data"
    }
   ],
   "source": [
    "thresholds = [0.1, 0.2, 0.3, 0.4, 0.5, 0.6, 0.7, 0.8, 0.9]\n",
    "fpr, tpr, thresholds = metrics.roc_curve(y, y_pred_prob)\n",
    "plt.plot(fpr, tpr)\n",
    "plt.xlim([0.0, 1.0])\n",
    "plt.ylim([0.0, 1.0])\n",
    "plt.xlabel('False Positive Rate (1 - Specificity)')\n",
    "plt.ylabel('True Positive Rate (Sensitivity)')"
   ]
  },
  {
   "cell_type": "markdown",
   "metadata": {},
   "source": [
    "** Print confusion matrix to calculate training model data accuracy and error rates plus precision and recall. **"
   ]
  },
  {
   "cell_type": "code",
   "execution_count": 18,
   "metadata": {},
   "outputs": [
    {
     "name": "stdout",
     "output_type": "stream",
     "text": [
      "[[30265  1591]\n",
      " [ 4706  3438]]\n"
     ]
    }
   ],
   "source": [
    "print(metrics.confusion_matrix(y, y_pred_class))"
   ]
  },
  {
   "cell_type": "markdown",
   "metadata": {},
   "source": [
    "** Calculate training model data accuracy rate. **"
   ]
  },
  {
   "cell_type": "code",
   "execution_count": 19,
   "metadata": {},
   "outputs": [
    {
     "data": {
      "text/plain": [
       "0.842575"
      ]
     },
     "execution_count": 19,
     "metadata": {},
     "output_type": "execute_result"
    }
   ],
   "source": [
    "float(30265 + 3438) / float(30265 + 1591 + 4706 + 3438)"
   ]
  },
  {
   "cell_type": "markdown",
   "metadata": {},
   "source": [
    "** Calculate training model data misclassification / error rate. **"
   ]
  },
  {
   "cell_type": "code",
   "execution_count": 20,
   "metadata": {},
   "outputs": [
    {
     "data": {
      "text/plain": [
       "0.157425"
      ]
     },
     "execution_count": 20,
     "metadata": {},
     "output_type": "execute_result"
    }
   ],
   "source": [
    "float(4706 + 1591) / float(30265 + 1591 + 4706 + 3438)"
   ]
  },
  {
   "cell_type": "markdown",
   "metadata": {},
   "source": [
    "** Calculate precision to measure how confident the logistic regression model is for capturing the positives in training model data. **"
   ]
  },
  {
   "cell_type": "code",
   "execution_count": 21,
   "metadata": {},
   "outputs": [
    {
     "data": {
      "text/plain": [
       "0.6836349174786239"
      ]
     },
     "execution_count": 21,
     "metadata": {},
     "output_type": "execute_result"
    }
   ],
   "source": [
    "float(3438) / float(3438 + 1591)"
   ]
  },
  {
   "cell_type": "markdown",
   "metadata": {},
   "source": [
    "** Calculate recall / sensitivity to measure how well the logistic regression model is capturing the positives in training model data. **"
   ]
  },
  {
   "cell_type": "code",
   "execution_count": 22,
   "metadata": {},
   "outputs": [
    {
     "data": {
      "text/plain": [
       "0.42215127701375244"
      ]
     },
     "execution_count": 22,
     "metadata": {},
     "output_type": "execute_result"
    }
   ],
   "source": [
    "float(3438) / float(4706 + 3438)"
   ]
  },
  {
   "cell_type": "markdown",
   "metadata": {},
   "source": [
    "** Calculate specificity to measure how well the logistic regression model is capturing the negatives in training model data. **"
   ]
  },
  {
   "cell_type": "code",
   "execution_count": 23,
   "metadata": {},
   "outputs": [
    {
     "data": {
      "text/plain": [
       "0.9500565042692114"
      ]
     },
     "execution_count": 23,
     "metadata": {},
     "output_type": "execute_result"
    }
   ],
   "source": [
    "float(30265) / float(30265 + 1591)"
   ]
  },
  {
   "cell_type": "markdown",
   "metadata": {},
   "source": [
    "** Print out training model data classification report for logistic regression model. **"
   ]
  },
  {
   "cell_type": "code",
   "execution_count": 24,
   "metadata": {},
   "outputs": [],
   "source": [
    "from sklearn.metrics import classification_report"
   ]
  },
  {
   "cell_type": "code",
   "execution_count": 25,
   "metadata": {},
   "outputs": [
    {
     "name": "stdout",
     "output_type": "stream",
     "text": [
      "             precision    recall  f1-score   support\n",
      "\n",
      "          0       0.87      0.95      0.91     31856\n",
      "          1       0.68      0.42      0.52      8144\n",
      "\n",
      "avg / total       0.83      0.84      0.83     40000\n",
      "\n"
     ]
    }
   ],
   "source": [
    "print(classification_report(y, y_pred_class))"
   ]
  },
  {
   "cell_type": "markdown",
   "metadata": {},
   "source": [
    "** List out training model data logistic regression model accuracy scores and their average using 10-fold cross-validation. **"
   ]
  },
  {
   "cell_type": "code",
   "execution_count": 26,
   "metadata": {},
   "outputs": [
    {
     "name": "stderr",
     "output_type": "stream",
     "text": [
      "C:\\Users\\kyrma\\AppData\\Local\\Continuum\\anaconda3\\lib\\site-packages\\sklearn\\cross_validation.py:41: DeprecationWarning: This module was deprecated in version 0.18 in favor of the model_selection module into which all the refactored classes and functions are moved. Also note that the interface of the new CV iterators are different from that of this module. This module will be removed in 0.20.\n",
      "  \"This module will be removed in 0.20.\", DeprecationWarning)\n"
     ]
    }
   ],
   "source": [
    "from sklearn.cross_validation import cross_val_score"
   ]
  },
  {
   "cell_type": "code",
   "execution_count": 27,
   "metadata": {},
   "outputs": [
    {
     "name": "stdout",
     "output_type": "stream",
     "text": [
      "[0.837 0.839 0.843 0.84  0.842 0.847 0.84  0.846 0.849 0.844]\n",
      "0.843\n"
     ]
    }
   ],
   "source": [
    "acc_scores = cross_val_score(logreg, X, y, cv=10, scoring='accuracy').round(3)\n",
    "print(acc_scores)\n",
    "print(acc_scores.mean().round(3))"
   ]
  },
  {
   "cell_type": "markdown",
   "metadata": {},
   "source": [
    "** List out training model data logistic regression model AUC values and their average using 10-fold cross-validation. **"
   ]
  },
  {
   "cell_type": "code",
   "execution_count": 28,
   "metadata": {},
   "outputs": [
    {
     "name": "stdout",
     "output_type": "stream",
     "text": [
      "[0.849 0.845 0.849 0.854 0.85  0.86  0.853 0.854 0.87  0.858]\n",
      "0.854\n"
     ]
    }
   ],
   "source": [
    "auc_scores = cross_val_score(logreg, X, y, cv=10, scoring='roc_auc').round(3)\n",
    "print(auc_scores)\n",
    "print(auc_scores.mean().round(3))"
   ]
  },
  {
   "cell_type": "markdown",
   "metadata": {},
   "source": [
    "### B. Generate Predictions in Cleaned Test Data"
   ]
  },
  {
   "cell_type": "markdown",
   "metadata": {},
   "source": [
    "** Import cleaned test data pickle file into a Pandas dataframe called test_model1. **"
   ]
  },
  {
   "cell_type": "code",
   "execution_count": 29,
   "metadata": {},
   "outputs": [],
   "source": [
    "test_model1 = pd.read_pickle('../State_Farm/Data/test_model.pickle')"
   ]
  },
  {
   "cell_type": "markdown",
   "metadata": {},
   "source": [
    "** Check number of rows and columns in test_model1 dataframe. **"
   ]
  },
  {
   "cell_type": "code",
   "execution_count": 30,
   "metadata": {},
   "outputs": [
    {
     "data": {
      "text/plain": [
       "(10000, 14)"
      ]
     },
     "execution_count": 30,
     "metadata": {},
     "output_type": "execute_result"
    }
   ],
   "source": [
    "test_model1.shape"
   ]
  },
  {
   "cell_type": "markdown",
   "metadata": {},
   "source": [
    "** View structure of test_model1 dataframe. **"
   ]
  },
  {
   "cell_type": "code",
   "execution_count": 31,
   "metadata": {},
   "outputs": [
    {
     "name": "stdout",
     "output_type": "stream",
     "text": [
      "<class 'pandas.core.frame.DataFrame'>\n",
      "RangeIndex: 10000 entries, 0 to 9999\n",
      "Data columns (total 14 columns):\n",
      "x75        10000 non-null float64\n",
      "x37        10000 non-null float64\n",
      "x58        10000 non-null float64\n",
      "x97        10000 non-null float64\n",
      "x41_flt    10000 non-null float64\n",
      "x99        10000 non-null float64\n",
      "x1         10000 non-null float64\n",
      "x40        10000 non-null float64\n",
      "x70        10000 non-null float64\n",
      "x44        10000 non-null float64\n",
      "x63        10000 non-null float64\n",
      "x56        10000 non-null float64\n",
      "x83        10000 non-null float64\n",
      "x96        10000 non-null float64\n",
      "dtypes: float64(14)\n",
      "memory usage: 1.1 MB\n"
     ]
    }
   ],
   "source": [
    "test_model1.info()"
   ]
  },
  {
   "cell_type": "markdown",
   "metadata": {},
   "source": [
    "** View first five rows of test_model1 dataframe. **"
   ]
  },
  {
   "cell_type": "code",
   "execution_count": 32,
   "metadata": {},
   "outputs": [
    {
     "data": {
      "text/html": [
       "<div>\n",
       "<style scoped>\n",
       "    .dataframe tbody tr th:only-of-type {\n",
       "        vertical-align: middle;\n",
       "    }\n",
       "\n",
       "    .dataframe tbody tr th {\n",
       "        vertical-align: top;\n",
       "    }\n",
       "\n",
       "    .dataframe thead th {\n",
       "        text-align: right;\n",
       "    }\n",
       "</style>\n",
       "<table border=\"1\" class=\"dataframe\">\n",
       "  <thead>\n",
       "    <tr style=\"text-align: right;\">\n",
       "      <th></th>\n",
       "      <th>x75</th>\n",
       "      <th>x37</th>\n",
       "      <th>x58</th>\n",
       "      <th>x97</th>\n",
       "      <th>x41_flt</th>\n",
       "      <th>x99</th>\n",
       "      <th>x1</th>\n",
       "      <th>x40</th>\n",
       "      <th>x70</th>\n",
       "      <th>x44</th>\n",
       "      <th>x63</th>\n",
       "      <th>x56</th>\n",
       "      <th>x83</th>\n",
       "      <th>x96</th>\n",
       "    </tr>\n",
       "  </thead>\n",
       "  <tbody>\n",
       "    <tr>\n",
       "      <th>0</th>\n",
       "      <td>80.851384</td>\n",
       "      <td>-32.086998</td>\n",
       "      <td>5.093232</td>\n",
       "      <td>13.739194</td>\n",
       "      <td>2475.46</td>\n",
       "      <td>1.141799</td>\n",
       "      <td>54.479467</td>\n",
       "      <td>-8.776231</td>\n",
       "      <td>44.269118</td>\n",
       "      <td>-37.212324</td>\n",
       "      <td>-13.041408</td>\n",
       "      <td>18.759685</td>\n",
       "      <td>3.358217</td>\n",
       "      <td>-55.883515</td>\n",
       "    </tr>\n",
       "    <tr>\n",
       "      <th>1</th>\n",
       "      <td>-21.295879</td>\n",
       "      <td>29.391786</td>\n",
       "      <td>-5.989844</td>\n",
       "      <td>-13.018951</td>\n",
       "      <td>-1109.10</td>\n",
       "      <td>0.568757</td>\n",
       "      <td>-20.244923</td>\n",
       "      <td>23.337240</td>\n",
       "      <td>5.663716</td>\n",
       "      <td>35.773821</td>\n",
       "      <td>-11.689257</td>\n",
       "      <td>13.605774</td>\n",
       "      <td>5.950392</td>\n",
       "      <td>-13.110477</td>\n",
       "    </tr>\n",
       "    <tr>\n",
       "      <th>2</th>\n",
       "      <td>27.719905</td>\n",
       "      <td>-30.329997</td>\n",
       "      <td>6.115105</td>\n",
       "      <td>0.791425</td>\n",
       "      <td>-187.70</td>\n",
       "      <td>-0.816682</td>\n",
       "      <td>-61.467354</td>\n",
       "      <td>-8.845933</td>\n",
       "      <td>-47.647220</td>\n",
       "      <td>-47.164493</td>\n",
       "      <td>11.980730</td>\n",
       "      <td>-1.482218</td>\n",
       "      <td>-1.105144</td>\n",
       "      <td>-7.140415</td>\n",
       "    </tr>\n",
       "    <tr>\n",
       "      <th>3</th>\n",
       "      <td>-4.053955</td>\n",
       "      <td>11.088216</td>\n",
       "      <td>-2.750484</td>\n",
       "      <td>-16.716012</td>\n",
       "      <td>525.65</td>\n",
       "      <td>0.603007</td>\n",
       "      <td>-18.454831</td>\n",
       "      <td>-57.516611</td>\n",
       "      <td>-14.010977</td>\n",
       "      <td>-19.932829</td>\n",
       "      <td>9.897997</td>\n",
       "      <td>39.624560</td>\n",
       "      <td>-5.203346</td>\n",
       "      <td>-2.564346</td>\n",
       "    </tr>\n",
       "    <tr>\n",
       "      <th>4</th>\n",
       "      <td>21.743536</td>\n",
       "      <td>-21.955105</td>\n",
       "      <td>-4.286183</td>\n",
       "      <td>23.003355</td>\n",
       "      <td>-1113.53</td>\n",
       "      <td>1.929231</td>\n",
       "      <td>15.810515</td>\n",
       "      <td>-13.207037</td>\n",
       "      <td>13.267059</td>\n",
       "      <td>26.546397</td>\n",
       "      <td>-17.279813</td>\n",
       "      <td>82.433802</td>\n",
       "      <td>3.971766</td>\n",
       "      <td>-28.709156</td>\n",
       "    </tr>\n",
       "  </tbody>\n",
       "</table>\n",
       "</div>"
      ],
      "text/plain": [
       "         x75        x37       x58        x97  x41_flt       x99         x1  \\\n",
       "0  80.851384 -32.086998  5.093232  13.739194  2475.46  1.141799  54.479467   \n",
       "1 -21.295879  29.391786 -5.989844 -13.018951 -1109.10  0.568757 -20.244923   \n",
       "2  27.719905 -30.329997  6.115105   0.791425  -187.70 -0.816682 -61.467354   \n",
       "3  -4.053955  11.088216 -2.750484 -16.716012   525.65  0.603007 -18.454831   \n",
       "4  21.743536 -21.955105 -4.286183  23.003355 -1113.53  1.929231  15.810515   \n",
       "\n",
       "         x40        x70        x44        x63        x56       x83        x96  \n",
       "0  -8.776231  44.269118 -37.212324 -13.041408  18.759685  3.358217 -55.883515  \n",
       "1  23.337240   5.663716  35.773821 -11.689257  13.605774  5.950392 -13.110477  \n",
       "2  -8.845933 -47.647220 -47.164493  11.980730  -1.482218 -1.105144  -7.140415  \n",
       "3 -57.516611 -14.010977 -19.932829   9.897997  39.624560 -5.203346  -2.564346  \n",
       "4 -13.207037  13.267059  26.546397 -17.279813  82.433802  3.971766 -28.709156  "
      ]
     },
     "execution_count": 32,
     "metadata": {},
     "output_type": "execute_result"
    }
   ],
   "source": [
    "test_model1.head()"
   ]
  },
  {
   "cell_type": "markdown",
   "metadata": {},
   "source": [
    "** Define X_test. **"
   ]
  },
  {
   "cell_type": "code",
   "execution_count": 33,
   "metadata": {},
   "outputs": [
    {
     "name": "stdout",
     "output_type": "stream",
     "text": [
      "(10000, 14)\n"
     ]
    }
   ],
   "source": [
    "X_test = test_model1[feature_cols]\n",
    "print(X_test.shape)"
   ]
  },
  {
   "cell_type": "markdown",
   "metadata": {},
   "source": [
    "** Make predictions on cleaned test data by calculating probabilities for belonging to positive class (labeled '1'). **"
   ]
  },
  {
   "cell_type": "code",
   "execution_count": 34,
   "metadata": {},
   "outputs": [],
   "source": [
    "y_test_pred_prob = logreg.predict_proba(X_test)[:, 1]"
   ]
  },
  {
   "cell_type": "markdown",
   "metadata": {},
   "source": [
    "** Construct results1_logreg Pandas dataframe out of test data y predicted class probabilities. **"
   ]
  },
  {
   "cell_type": "code",
   "execution_count": 35,
   "metadata": {},
   "outputs": [
    {
     "data": {
      "text/html": [
       "<div>\n",
       "<style scoped>\n",
       "    .dataframe tbody tr th:only-of-type {\n",
       "        vertical-align: middle;\n",
       "    }\n",
       "\n",
       "    .dataframe tbody tr th {\n",
       "        vertical-align: top;\n",
       "    }\n",
       "\n",
       "    .dataframe thead th {\n",
       "        text-align: right;\n",
       "    }\n",
       "</style>\n",
       "<table border=\"1\" class=\"dataframe\">\n",
       "  <thead>\n",
       "    <tr style=\"text-align: right;\">\n",
       "      <th></th>\n",
       "      <th>y_test_pred_prob</th>\n",
       "    </tr>\n",
       "  </thead>\n",
       "  <tbody>\n",
       "    <tr>\n",
       "      <th>0</th>\n",
       "      <td>0.146379</td>\n",
       "    </tr>\n",
       "    <tr>\n",
       "      <th>1</th>\n",
       "      <td>0.178329</td>\n",
       "    </tr>\n",
       "    <tr>\n",
       "      <th>2</th>\n",
       "      <td>0.211236</td>\n",
       "    </tr>\n",
       "    <tr>\n",
       "      <th>3</th>\n",
       "      <td>0.034441</td>\n",
       "    </tr>\n",
       "    <tr>\n",
       "      <th>4</th>\n",
       "      <td>0.413519</td>\n",
       "    </tr>\n",
       "  </tbody>\n",
       "</table>\n",
       "</div>"
      ],
      "text/plain": [
       "   y_test_pred_prob\n",
       "0          0.146379\n",
       "1          0.178329\n",
       "2          0.211236\n",
       "3          0.034441\n",
       "4          0.413519"
      ]
     },
     "execution_count": 35,
     "metadata": {},
     "output_type": "execute_result"
    }
   ],
   "source": [
    "results1_logreg = pd.DataFrame({'y_test_pred_prob': y_test_pred_prob[:]})\n",
    "results1_logreg.head()"
   ]
  },
  {
   "cell_type": "markdown",
   "metadata": {},
   "source": [
    "** Check number of rows and columns in results1 dataframe. **"
   ]
  },
  {
   "cell_type": "code",
   "execution_count": 36,
   "metadata": {},
   "outputs": [
    {
     "data": {
      "text/plain": [
       "(10000, 1)"
      ]
     },
     "execution_count": 36,
     "metadata": {},
     "output_type": "execute_result"
    }
   ],
   "source": [
    "results1_logreg.shape"
   ]
  },
  {
   "cell_type": "markdown",
   "metadata": {},
   "source": [
    "** Export results1 Pandas dataframe containing test data y predicted class probabilities to CSV file. **"
   ]
  },
  {
   "cell_type": "code",
   "execution_count": 37,
   "metadata": {},
   "outputs": [],
   "source": [
    "results1_logreg.to_csv('../State_Farm/Data/results1_logreg.csv', sep=',', index=False)"
   ]
  }
 ],
 "metadata": {
  "kernelspec": {
   "display_name": "Python 3",
   "language": "python",
   "name": "python3"
  },
  "language_info": {
   "codemirror_mode": {
    "name": "ipython",
    "version": 3
   },
   "file_extension": ".py",
   "mimetype": "text/x-python",
   "name": "python",
   "nbconvert_exporter": "python",
   "pygments_lexer": "ipython3",
   "version": "3.6.4"
  },
  "varInspector": {
   "cols": {
    "lenName": 16,
    "lenType": 16,
    "lenVar": 40
   },
   "kernels_config": {
    "python": {
     "delete_cmd_postfix": "",
     "delete_cmd_prefix": "del ",
     "library": "var_list.py",
     "varRefreshCmd": "print(var_dic_list())"
    },
    "r": {
     "delete_cmd_postfix": ") ",
     "delete_cmd_prefix": "rm(",
     "library": "var_list.r",
     "varRefreshCmd": "cat(var_dic_list()) "
    }
   },
   "types_to_exclude": [
    "module",
    "function",
    "builtin_function_or_method",
    "instance",
    "_Feature"
   ],
   "window_display": false
  }
 },
 "nbformat": 4,
 "nbformat_minor": 2
}
