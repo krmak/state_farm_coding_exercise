{
 "cells": [
  {
   "cell_type": "markdown",
   "metadata": {},
   "source": [
    "# State Farm Classification Coding Exercise"
   ]
  },
  {
   "cell_type": "markdown",
   "metadata": {},
   "source": [
    "## Part 3 - Training Data Set Feature Selection"
   ]
  },
  {
   "cell_type": "markdown",
   "metadata": {},
   "source": [
    "### A. Import Training Data Set Pickle File and Inspect Multicollinearity Among Numerical Features"
   ]
  },
  {
   "cell_type": "markdown",
   "metadata": {},
   "source": [
    "** Import numpy and pandas. **"
   ]
  },
  {
   "cell_type": "code",
   "execution_count": 1,
   "metadata": {},
   "outputs": [],
   "source": [
    "import numpy as np\n",
    "import pandas as pd"
   ]
  },
  {
   "cell_type": "markdown",
   "metadata": {},
   "source": [
    "** Import data visualization libraries and set %matplotlib inline. **"
   ]
  },
  {
   "cell_type": "code",
   "execution_count": 2,
   "metadata": {},
   "outputs": [],
   "source": [
    "import matplotlib.pyplot as plt\n",
    "import seaborn as sns\n",
    "%matplotlib inline"
   ]
  },
  {
   "cell_type": "markdown",
   "metadata": {},
   "source": [
    "** Import cleaned training data pickle file into a Pandas dataframe called train_clean1. **"
   ]
  },
  {
   "cell_type": "code",
   "execution_count": 3,
   "metadata": {},
   "outputs": [],
   "source": [
    "train_clean1 = pd.read_pickle('../State_Farm/Data/train_cleaned.pickle')"
   ]
  },
  {
   "cell_type": "markdown",
   "metadata": {},
   "source": [
    "** Check number of rows and columns in train_clean1 dataframe. **"
   ]
  },
  {
   "cell_type": "code",
   "execution_count": 4,
   "metadata": {},
   "outputs": [
    {
     "data": {
      "text/plain": [
       "(40000, 127)"
      ]
     },
     "execution_count": 4,
     "metadata": {},
     "output_type": "execute_result"
    }
   ],
   "source": [
    "train_clean1.shape"
   ]
  },
  {
   "cell_type": "markdown",
   "metadata": {},
   "source": [
    "** View first five rows of train_clean1 dataframe. **"
   ]
  },
  {
   "cell_type": "code",
   "execution_count": 5,
   "metadata": {},
   "outputs": [
    {
     "data": {
      "text/html": [
       "<div>\n",
       "<style scoped>\n",
       "    .dataframe tbody tr th:only-of-type {\n",
       "        vertical-align: middle;\n",
       "    }\n",
       "\n",
       "    .dataframe tbody tr th {\n",
       "        vertical-align: top;\n",
       "    }\n",
       "\n",
       "    .dataframe thead th {\n",
       "        text-align: right;\n",
       "    }\n",
       "</style>\n",
       "<table border=\"1\" class=\"dataframe\">\n",
       "  <thead>\n",
       "    <tr style=\"text-align: right;\">\n",
       "      <th></th>\n",
       "      <th>x0</th>\n",
       "      <th>x1</th>\n",
       "      <th>x2</th>\n",
       "      <th>x3</th>\n",
       "      <th>x4</th>\n",
       "      <th>x5</th>\n",
       "      <th>x6</th>\n",
       "      <th>x7</th>\n",
       "      <th>x8</th>\n",
       "      <th>x9</th>\n",
       "      <th>...</th>\n",
       "      <th>June</th>\n",
       "      <th>March</th>\n",
       "      <th>May</th>\n",
       "      <th>No_Month</th>\n",
       "      <th>November</th>\n",
       "      <th>October</th>\n",
       "      <th>September</th>\n",
       "      <th>America</th>\n",
       "      <th>Europe</th>\n",
       "      <th>No_Continent</th>\n",
       "    </tr>\n",
       "  </thead>\n",
       "  <tbody>\n",
       "    <tr>\n",
       "      <th>0</th>\n",
       "      <td>0.198560</td>\n",
       "      <td>74.425320</td>\n",
       "      <td>67.627745</td>\n",
       "      <td>-3.095111</td>\n",
       "      <td>-6.822327</td>\n",
       "      <td>19.048071</td>\n",
       "      <td>-0.362378</td>\n",
       "      <td>-10.699174</td>\n",
       "      <td>-22.699791</td>\n",
       "      <td>-1.561262</td>\n",
       "      <td>...</td>\n",
       "      <td>1</td>\n",
       "      <td>0</td>\n",
       "      <td>0</td>\n",
       "      <td>0</td>\n",
       "      <td>0</td>\n",
       "      <td>0</td>\n",
       "      <td>0</td>\n",
       "      <td>0</td>\n",
       "      <td>0</td>\n",
       "      <td>0</td>\n",
       "    </tr>\n",
       "    <tr>\n",
       "      <th>1</th>\n",
       "      <td>-29.662621</td>\n",
       "      <td>24.320711</td>\n",
       "      <td>-48.205182</td>\n",
       "      <td>1.430339</td>\n",
       "      <td>-6.552206</td>\n",
       "      <td>4.263074</td>\n",
       "      <td>6.551412</td>\n",
       "      <td>4.265483</td>\n",
       "      <td>1.245095</td>\n",
       "      <td>2.246814</td>\n",
       "      <td>...</td>\n",
       "      <td>0</td>\n",
       "      <td>0</td>\n",
       "      <td>0</td>\n",
       "      <td>0</td>\n",
       "      <td>0</td>\n",
       "      <td>0</td>\n",
       "      <td>1</td>\n",
       "      <td>0</td>\n",
       "      <td>0</td>\n",
       "      <td>0</td>\n",
       "    </tr>\n",
       "    <tr>\n",
       "      <th>2</th>\n",
       "      <td>15.493759</td>\n",
       "      <td>-66.160459</td>\n",
       "      <td>50.512903</td>\n",
       "      <td>-2.265792</td>\n",
       "      <td>14.428578</td>\n",
       "      <td>2.509323</td>\n",
       "      <td>-6.707536</td>\n",
       "      <td>3.820842</td>\n",
       "      <td>-11.100833</td>\n",
       "      <td>-1.459825</td>\n",
       "      <td>...</td>\n",
       "      <td>0</td>\n",
       "      <td>0</td>\n",
       "      <td>0</td>\n",
       "      <td>0</td>\n",
       "      <td>0</td>\n",
       "      <td>1</td>\n",
       "      <td>0</td>\n",
       "      <td>1</td>\n",
       "      <td>0</td>\n",
       "      <td>0</td>\n",
       "    </tr>\n",
       "    <tr>\n",
       "      <th>3</th>\n",
       "      <td>-19.837651</td>\n",
       "      <td>33.210943</td>\n",
       "      <td>53.405563</td>\n",
       "      <td>1.079462</td>\n",
       "      <td>11.364251</td>\n",
       "      <td>-1.064581</td>\n",
       "      <td>9.308857</td>\n",
       "      <td>9.266076</td>\n",
       "      <td>14.552959</td>\n",
       "      <td>-2.012755</td>\n",
       "      <td>...</td>\n",
       "      <td>1</td>\n",
       "      <td>0</td>\n",
       "      <td>0</td>\n",
       "      <td>0</td>\n",
       "      <td>0</td>\n",
       "      <td>0</td>\n",
       "      <td>0</td>\n",
       "      <td>0</td>\n",
       "      <td>0</td>\n",
       "      <td>0</td>\n",
       "    </tr>\n",
       "    <tr>\n",
       "      <th>4</th>\n",
       "      <td>11.896655</td>\n",
       "      <td>-26.717872</td>\n",
       "      <td>-17.758176</td>\n",
       "      <td>1.692017</td>\n",
       "      <td>21.553537</td>\n",
       "      <td>-5.852097</td>\n",
       "      <td>-0.857435</td>\n",
       "      <td>-2.186940</td>\n",
       "      <td>18.075272</td>\n",
       "      <td>-1.404618</td>\n",
       "      <td>...</td>\n",
       "      <td>0</td>\n",
       "      <td>0</td>\n",
       "      <td>0</td>\n",
       "      <td>0</td>\n",
       "      <td>0</td>\n",
       "      <td>0</td>\n",
       "      <td>0</td>\n",
       "      <td>0</td>\n",
       "      <td>0</td>\n",
       "      <td>0</td>\n",
       "    </tr>\n",
       "  </tbody>\n",
       "</table>\n",
       "<p>5 rows × 127 columns</p>\n",
       "</div>"
      ],
      "text/plain": [
       "          x0         x1         x2        x3         x4         x5        x6  \\\n",
       "0   0.198560  74.425320  67.627745 -3.095111  -6.822327  19.048071 -0.362378   \n",
       "1 -29.662621  24.320711 -48.205182  1.430339  -6.552206   4.263074  6.551412   \n",
       "2  15.493759 -66.160459  50.512903 -2.265792  14.428578   2.509323 -6.707536   \n",
       "3 -19.837651  33.210943  53.405563  1.079462  11.364251  -1.064581  9.308857   \n",
       "4  11.896655 -26.717872 -17.758176  1.692017  21.553537  -5.852097 -0.857435   \n",
       "\n",
       "          x7         x8        x9      ...       June  March  May  No_Month  \\\n",
       "0 -10.699174 -22.699791 -1.561262      ...          1      0    0         0   \n",
       "1   4.265483   1.245095  2.246814      ...          0      0    0         0   \n",
       "2   3.820842 -11.100833 -1.459825      ...          0      0    0         0   \n",
       "3   9.266076  14.552959 -2.012755      ...          1      0    0         0   \n",
       "4  -2.186940  18.075272 -1.404618      ...          0      0    0         0   \n",
       "\n",
       "   November  October  September  America  Europe  No_Continent  \n",
       "0         0        0          0        0       0             0  \n",
       "1         0        0          1        0       0             0  \n",
       "2         0        1          0        1       0             0  \n",
       "3         0        0          0        0       0             0  \n",
       "4         0        0          0        0       0             0  \n",
       "\n",
       "[5 rows x 127 columns]"
      ]
     },
     "execution_count": 5,
     "metadata": {},
     "output_type": "execute_result"
    }
   ],
   "source": [
    "train_clean1.head()"
   ]
  },
  {
   "cell_type": "markdown",
   "metadata": {},
   "source": [
    "** Check for any missing values in train_clean1 dataframe. **"
   ]
  },
  {
   "cell_type": "code",
   "execution_count": 6,
   "metadata": {},
   "outputs": [
    {
     "data": {
      "text/plain": [
       "No_Continent    0\n",
       "x50             0\n",
       "x33             0\n",
       "x36             0\n",
       "x37             0\n",
       "x38             0\n",
       "x39             0\n",
       "x40             0\n",
       "x42             0\n",
       "x43             0\n",
       "x44             0\n",
       "x46             0\n",
       "x47             0\n",
       "x48             0\n",
       "x49             0\n",
       "x51             0\n",
       "x31             0\n",
       "x52             0\n",
       "x53             0\n",
       "x54             0\n",
       "x55             0\n",
       "x56             0\n",
       "x57             0\n",
       "x58             0\n",
       "x59             0\n",
       "x60             0\n",
       "x61             0\n",
       "x62             0\n",
       "x63             0\n",
       "x64             0\n",
       "               ..\n",
       "x83             0\n",
       "x70             0\n",
       "x71             0\n",
       "x72             0\n",
       "x73             0\n",
       "x74             0\n",
       "x75             0\n",
       "x76             0\n",
       "x77             0\n",
       "x78             0\n",
       "x79             0\n",
       "x80             0\n",
       "x81             0\n",
       "x82             0\n",
       "x84             0\n",
       "x99             0\n",
       "x85             0\n",
       "x86             0\n",
       "x87             0\n",
       "x88             0\n",
       "x89             0\n",
       "x90             0\n",
       "x91             0\n",
       "x92             0\n",
       "x94             0\n",
       "x95             0\n",
       "x96             0\n",
       "x97             0\n",
       "x98             0\n",
       "x0              0\n",
       "Length: 127, dtype: int64"
      ]
     },
     "execution_count": 6,
     "metadata": {},
     "output_type": "execute_result"
    }
   ],
   "source": [
    "train_clean1.isnull().sum().sort_values(ascending=False)"
   ]
  },
  {
   "cell_type": "markdown",
   "metadata": {},
   "source": [
    "** Identify which features are numerical. **"
   ]
  },
  {
   "cell_type": "code",
   "execution_count": 7,
   "metadata": {},
   "outputs": [
    {
     "data": {
      "text/plain": [
       "Index(['x0', 'x1', 'x2', 'x3', 'x4', 'x5', 'x6', 'x7', 'x8', 'x9', 'x10',\n",
       "       'x11', 'x12', 'x13', 'x14', 'x15', 'x16', 'x17', 'x18', 'x19', 'x20',\n",
       "       'x21', 'x22', 'x23', 'x24', 'x25', 'x26', 'x27', 'x28', 'x29', 'x30',\n",
       "       'x31', 'x32', 'x33', 'x36', 'x37', 'x38', 'x39', 'x40', 'x42', 'x43',\n",
       "       'x44', 'x46', 'x47', 'x48', 'x49', 'x50', 'x51', 'x52', 'x53', 'x54',\n",
       "       'x55', 'x56', 'x57', 'x58', 'x59', 'x60', 'x61', 'x62', 'x63', 'x64',\n",
       "       'x65', 'x66', 'x67', 'x69', 'x70', 'x71', 'x72', 'x73', 'x74', 'x75',\n",
       "       'x76', 'x77', 'x78', 'x79', 'x80', 'x81', 'x82', 'x83', 'x84', 'x85',\n",
       "       'x86', 'x87', 'x88', 'x89', 'x90', 'x91', 'x92', 'x94', 'x95', 'x96',\n",
       "       'x97', 'x98', 'x99', 'x41_flt', 'x45_pct'],\n",
       "      dtype='object')"
      ]
     },
     "execution_count": 7,
     "metadata": {},
     "output_type": "execute_result"
    }
   ],
   "source": [
    "train_clean1.select_dtypes(include=['float']).columns"
   ]
  },
  {
   "cell_type": "markdown",
   "metadata": {},
   "source": [
    "** Extract numerical features from train_clean1 dataframe to see correlation matrix between features. **"
   ]
  },
  {
   "cell_type": "code",
   "execution_count": 8,
   "metadata": {},
   "outputs": [],
   "source": [
    "num_features = ['x0', 'x1', 'x2', 'x3', 'x4', 'x5', 'x6', 'x7', 'x8', 'x9', 'x10', 'x11', 'x12', 'x13', 'x14', 'x15', 'x16', \n",
    "                'x17', 'x18', 'x19', 'x20', 'x21', 'x22', 'x23', 'x24', 'x25', 'x26', 'x27', 'x28', 'x29', 'x30', 'x31', 'x32', \n",
    "                'x33', 'x36', 'x37', 'x38', 'x39', 'x40', 'x42', 'x43', 'x44', 'x46', 'x47', 'x48', 'x49', 'x50', 'x51', 'x52', \n",
    "                'x53', 'x54', 'x55', 'x56', 'x57', 'x58', 'x59', 'x60', 'x61', 'x62', 'x63', 'x64', 'x65', 'x66', 'x67', 'x69', \n",
    "                'x70', 'x71', 'x72', 'x73', 'x74', 'x75', 'x76', 'x77', 'x78', 'x79', 'x80', 'x81', 'x82', 'x83', 'x84', 'x85', \n",
    "                'x86', 'x87', 'x88', 'x89', 'x90', 'x91', 'x92', 'x94', 'x95', 'x96', 'x97', 'x98', 'x99', 'x41_flt', 'x45_pct']\n",
    "train_num_feat = train_clean1[num_features]"
   ]
  },
  {
   "cell_type": "markdown",
   "metadata": {},
   "source": [
    "** Check the number of numerical features. **"
   ]
  },
  {
   "cell_type": "code",
   "execution_count": 9,
   "metadata": {},
   "outputs": [
    {
     "data": {
      "text/plain": [
       "(40000, 96)"
      ]
     },
     "execution_count": 9,
     "metadata": {},
     "output_type": "execute_result"
    }
   ],
   "source": [
    "train_num_feat.shape"
   ]
  },
  {
   "cell_type": "markdown",
   "metadata": {},
   "source": [
    "** View correlation matrix for numerical features. **"
   ]
  },
  {
   "cell_type": "code",
   "execution_count": 10,
   "metadata": {},
   "outputs": [
    {
     "data": {
      "image/png": "[encoded data removed]",
      "text/plain": [
       "<matplotlib.figure.Figure at 0x1981a21eba8>"
      ]
     },
     "metadata": {},
     "output_type": "display_data"
    }
   ],
   "source": [
    "plt.figure(figsize=(30,30));\n",
    "sns.heatmap(train_num_feat.corr(), fmt=\".2f\");"
   ]
  },
  {
   "cell_type": "markdown",
   "metadata": {},
   "source": [
    "### B. Determine Optimal Number of Features to Include in Predictive Model"
   ]
  },
  {
   "cell_type": "markdown",
   "metadata": {},
   "source": [
    "** Convert numerical feature data into numpy array and scale data. **"
   ]
  },
  {
   "cell_type": "code",
   "execution_count": 11,
   "metadata": {},
   "outputs": [],
   "source": [
    "from sklearn import decomposition\n",
    "from sklearn.preprocessing import scale\n",
    "from sklearn.decomposition import PCA"
   ]
  },
  {
   "cell_type": "code",
   "execution_count": 12,
   "metadata": {},
   "outputs": [],
   "source": [
    "train_num_feat_np = train_num_feat.values\n",
    "train_num_feat_np_scaled = scale(train_num_feat_np)"
   ]
  },
  {
   "cell_type": "markdown",
   "metadata": {},
   "source": [
    "** Create covariance matrix for 96 numerical features. **"
   ]
  },
  {
   "cell_type": "code",
   "execution_count": 13,
   "metadata": {},
   "outputs": [],
   "source": [
    "covar_matrix = PCA(n_components=96)"
   ]
  },
  {
   "cell_type": "markdown",
   "metadata": {},
   "source": [
    "** Calculate variance ratios. **"
   ]
  },
  {
   "cell_type": "code",
   "execution_count": 14,
   "metadata": {},
   "outputs": [
    {
     "data": {
      "text/plain": [
       "array([ 3.4,  6.2,  8.8, 11.2, 13.5, 15.5, 17.5, 19.4, 21.2, 23. , 24.7,\n",
       "       26.3, 27.8, 29.2, 30.6, 32. , 33.3, 34.6, 35.8, 37. , 38.1, 39.2,\n",
       "       40.3, 41.4, 42.5, 43.6, 44.7, 45.8, 46.9, 48. , 49.1, 50.2, 51.3,\n",
       "       52.4, 53.5, 54.6, 55.7, 56.8, 57.9, 59. , 60. , 61. , 62. , 63. ,\n",
       "       64. , 65. , 66. , 67. , 68. , 69. , 70. , 71. , 72. , 73. , 74. ,\n",
       "       75. , 76. , 77. , 78. , 79. , 80. , 81. , 82. , 83. , 84. , 85. ,\n",
       "       86. , 86.9, 87.8, 88.6, 89.4, 90.2, 91. , 91.8, 92.5, 93.2, 93.9,\n",
       "       94.5, 95.1, 95.7, 96.2, 96.7, 97.2, 97.6, 98. , 98.4, 98.7, 99. ,\n",
       "       99.3, 99.6, 99.8, 99.9, 99.9, 99.9, 99.9, 99.9])"
      ]
     },
     "execution_count": 14,
     "metadata": {},
     "output_type": "execute_result"
    }
   ],
   "source": [
    "covar_matrix.fit(train_num_feat_np_scaled)\n",
    "variance = covar_matrix.explained_variance_ratio_\n",
    "var = np.cumsum(np.round(variance, decimals=3)*100)\n",
    "var"
   ]
  },
  {
   "cell_type": "markdown",
   "metadata": {},
   "source": [
    "** Determine the optimum number of features to include in predictive model. **"
   ]
  },
  {
   "cell_type": "code",
   "execution_count": 15,
   "metadata": {},
   "outputs": [
    {
     "data": {
      "image/png": "[encoded data removed]",
      "text/plain": [
       "<matplotlib.figure.Figure at 0x1981a6ac080>"
      ]
     },
     "metadata": {},
     "output_type": "display_data"
    }
   ],
   "source": [
    "plt.ylabel('Percent of Variance Explained')\n",
    "plt.xlabel('Number of Features')\n",
    "plt.title('Principle Component Analysis')\n",
    "plt.ylim(0, 100.5)\n",
    "plt.style.context('seaborn-whitegrid')\n",
    "plt.plot(var);"
   ]
  },
  {
   "cell_type": "markdown",
   "metadata": {},
   "source": [
    "* According to the principle component analysis graph, I should include 32 features in my predictive model. While 32 features explains 50.2 percent of the variance, the model is still way too complex and runs the risk of overfitting. Therefore, I decided to include only 14 features into my model. That way, I can minimize my model's bias and variance, reduce the risk of overfitting, and maximize model parsimony."
   ]
  },
  {
   "cell_type": "markdown",
   "metadata": {},
   "source": [
    "### C. Select Features for Predictive Model"
   ]
  },
  {
   "cell_type": "markdown",
   "metadata": {},
   "source": [
    "** Define X and y for feature selection. **"
   ]
  },
  {
   "cell_type": "code",
   "execution_count": 16,
   "metadata": {},
   "outputs": [],
   "source": [
    "X = train_clean1.drop(['y'], axis=1)\n",
    "y = train_clean1['y']"
   ]
  },
  {
   "cell_type": "markdown",
   "metadata": {},
   "source": [
    "** Select features by assessing their importance using random forest classifier method. **"
   ]
  },
  {
   "cell_type": "code",
   "execution_count": 17,
   "metadata": {},
   "outputs": [
    {
     "name": "stderr",
     "output_type": "stream",
     "text": [
      "C:\\Users\\kyrma\\AppData\\Local\\Continuum\\anaconda3\\lib\\site-packages\\sklearn\\ensemble\\weight_boosting.py:29: DeprecationWarning: numpy.core.umath_tests is an internal NumPy module and should not be imported. It will be removed in a future NumPy release.\n",
      "  from numpy.core.umath_tests import inner1d\n"
     ]
    },
    {
     "data": {
      "text/plain": [
       "Index(['x75', 'x37', 'x58', 'x97', 'x41_flt', 'x99', 'x1', 'x40', 'x70', 'x44',\n",
       "       'x63', 'x56', 'x83', 'x96'],\n",
       "      dtype='object')"
      ]
     },
     "execution_count": 17,
     "metadata": {},
     "output_type": "execute_result"
    }
   ],
   "source": [
    "# Feature Selection: Embedded Method\n",
    "from sklearn.ensemble import RandomForestClassifier\n",
    "rfc_model = RandomForestClassifier(random_state=1)\n",
    "rfc_model.fit(X, y)\n",
    "\n",
    "rfc_feature_imp = pd.DataFrame(rfc_model.feature_importances_, index=X.columns, columns=['importance'])\n",
    "rfc_feat_imp_14 = rfc_feature_imp.sort_values('importance', ascending=False).head(14).index\n",
    "rfc_feat_imp_14"
   ]
  },
  {
   "cell_type": "markdown",
   "metadata": {},
   "source": [
    "** Plot random forest classifier method feature importances by descending order. **"
   ]
  },
  {
   "cell_type": "code",
   "execution_count": 18,
   "metadata": {},
   "outputs": [
    {
     "data": {
      "image/png": "[encoded data removed]",
      "text/plain": [
       "<matplotlib.figure.Figure at 0x1981a765128>"
      ]
     },
     "metadata": {},
     "output_type": "display_data"
    }
   ],
   "source": [
    "rfc_feature_imp.sort_values('importance', ascending=False).plot(kind='bar', figsize=(20,18));"
   ]
  },
  {
   "cell_type": "markdown",
   "metadata": {},
   "source": [
    "** Select features with filter method that removes all low-variance features. **"
   ]
  },
  {
   "cell_type": "code",
   "execution_count": 19,
   "metadata": {},
   "outputs": [
    {
     "data": {
      "text/plain": [
       "Index(['x0', 'x1', 'x2', 'x3', 'x4', 'x5', 'x6', 'x7', 'x8', 'x9', 'x10',\n",
       "       'x11', 'x12', 'x13'],\n",
       "      dtype='object')"
      ]
     },
     "execution_count": 19,
     "metadata": {},
     "output_type": "execute_result"
    }
   ],
   "source": [
    "# Feature Selection: Filter Method\n",
    "from sklearn.feature_selection import VarianceThreshold, f_regression, SelectKBest\n",
    "\n",
    "# Find all features with more than 90% variance in values.\n",
    "threshold = 0.90\n",
    "vt = VarianceThreshold().fit(X)\n",
    "\n",
    "# Find feature names.\n",
    "feat_var_threshold = X.columns[vt.variances_ > threshold * (1-threshold)]\n",
    "\n",
    "# Select the top 14.\n",
    "feat_var_threshold[0:14]"
   ]
  },
  {
   "cell_type": "markdown",
   "metadata": {},
   "source": [
    "** Filter for features selected by random forest classifier method but were not selected by filter method. **"
   ]
  },
  {
   "cell_type": "code",
   "execution_count": 20,
   "metadata": {},
   "outputs": [
    {
     "data": {
      "text/plain": [
       "set()"
      ]
     },
     "execution_count": 20,
     "metadata": {},
     "output_type": "execute_result"
    }
   ],
   "source": [
    "set(rfc_feat_imp_14) - set(feat_var_threshold)"
   ]
  },
  {
   "cell_type": "markdown",
   "metadata": {},
   "source": [
    "** Filter for features selected by filter method that removes all low-variance features but were not selected by random forest classifier method. **"
   ]
  },
  {
   "cell_type": "code",
   "execution_count": 21,
   "metadata": {},
   "outputs": [
    {
     "data": {
      "text/plain": [
       "{'x0',\n",
       " 'x10',\n",
       " 'x11',\n",
       " 'x12',\n",
       " 'x13',\n",
       " 'x2',\n",
       " 'x3',\n",
       " 'x4',\n",
       " 'x5',\n",
       " 'x6',\n",
       " 'x7',\n",
       " 'x8',\n",
       " 'x9'}"
      ]
     },
     "execution_count": 21,
     "metadata": {},
     "output_type": "execute_result"
    }
   ],
   "source": [
    "set(feat_var_threshold[0:14]) - set(rfc_feat_imp_14)"
   ]
  },
  {
   "cell_type": "markdown",
   "metadata": {},
   "source": [
    "** Select features based on univariate statistical tests. **"
   ]
  },
  {
   "cell_type": "code",
   "execution_count": 22,
   "metadata": {},
   "outputs": [
    {
     "data": {
      "text/plain": [
       "array(['x75', 'x37', 'x97', 'x58', 'x41_flt', 'x1', 'x70', 'x22', 'x99',\n",
       "       'x78', 'x79', 'x63', 'x69', 'x21'], dtype=object)"
      ]
     },
     "execution_count": 22,
     "metadata": {},
     "output_type": "execute_result"
    }
   ],
   "source": [
    "# Feature Selection: Filter Method\n",
    "X_scored = SelectKBest(score_func=f_regression, k='all').fit(X, y)\n",
    "feature_scoring = pd.DataFrame({'feature': X.columns, 'score': X_scored.scores_})\n",
    "\n",
    "feat_scored_14 = feature_scoring.sort_values('score', ascending=False).head(14)['feature'].values\n",
    "feat_scored_14"
   ]
  },
  {
   "cell_type": "markdown",
   "metadata": {},
   "source": [
    "** Select features by assessing their importance using XGBoost classifier method. **"
   ]
  },
  {
   "cell_type": "code",
   "execution_count": 23,
   "metadata": {},
   "outputs": [
    {
     "data": {
      "text/plain": [
       "Index(['x75', 'x41_flt', 'x37', 'x97', 'x58', 'x99', 'x66', 'x51', 'x83',\n",
       "       'Thursday', 'x78', 'x53', 'x5', 'x40'],\n",
       "      dtype='object')"
      ]
     },
     "execution_count": 23,
     "metadata": {},
     "output_type": "execute_result"
    }
   ],
   "source": [
    "import xgboost as xgb\n",
    "xgb_model = xgb.XGBClassifier(n_estimators=500, random_state=1)\n",
    "xgb_model.fit(X, y)\n",
    "xgb_feature_imp = pd.DataFrame(xgb_model.feature_importances_, index=X.columns, columns=['importance'])\n",
    "xgb_feat_imp_14 = xgb_feature_imp.sort_values('importance', ascending=False).head(14).index\n",
    "xgb_feat_imp_14"
   ]
  },
  {
   "cell_type": "markdown",
   "metadata": {},
   "source": [
    "** Plot XGBoost classifier feature importances by descending order. **"
   ]
  },
  {
   "cell_type": "code",
   "execution_count": 24,
   "metadata": {},
   "outputs": [
    {
     "data": {
      "image/png": "[encoded data removed]",
      "text/plain": [
       "<matplotlib.figure.Figure at 0x1981ae21c18>"
      ]
     },
     "metadata": {},
     "output_type": "display_data"
    }
   ],
   "source": [
    "xgb_feature_imp.sort_values('importance', ascending=False).plot(kind='bar', figsize=(20,18));"
   ]
  },
  {
   "cell_type": "markdown",
   "metadata": {},
   "source": [
    "** Gather unique features from all four feature selection methods. **"
   ]
  },
  {
   "cell_type": "code",
   "execution_count": 25,
   "metadata": {},
   "outputs": [
    {
     "name": "stdout",
     "output_type": "stream",
     "text": [
      "Final features set:\n",
      "\n",
      "\t-Thursday\n",
      "\t-x0\n",
      "\t-x1\n",
      "\t-x10\n",
      "\t-x11\n",
      "\t-x12\n",
      "\t-x13\n",
      "\t-x2\n",
      "\t-x21\n",
      "\t-x22\n",
      "\t-x3\n",
      "\t-x37\n",
      "\t-x4\n",
      "\t-x40\n",
      "\t-x41_flt\n",
      "\t-x44\n",
      "\t-x5\n",
      "\t-x51\n",
      "\t-x53\n",
      "\t-x56\n",
      "\t-x58\n",
      "\t-x6\n",
      "\t-x63\n",
      "\t-x66\n",
      "\t-x69\n",
      "\t-x7\n",
      "\t-x70\n",
      "\t-x75\n",
      "\t-x78\n",
      "\t-x79\n",
      "\t-x8\n",
      "\t-x83\n",
      "\t-x9\n",
      "\t-x96\n",
      "\t-x97\n",
      "\t-x99\n"
     ]
    }
   ],
   "source": [
    "features = np.hstack([feat_var_threshold[0:14], rfc_feat_imp_14, feat_scored_14, xgb_feat_imp_14])\n",
    "\n",
    "features = np.unique(features)\n",
    "print('Final features set:\\n')\n",
    "for f in features:\n",
    "    print(\"\\t-{}\".format(f))"
   ]
  },
  {
   "cell_type": "markdown",
   "metadata": {},
   "source": [
    "* Based off the above unique and selected features from all four feature selection methods, I have decided to include only these 14 features to build the machine learning models: x75, x37, x58, x97, x41_flt, x99, x1, x40, x70, x44, x63, x56, x83, and x96."
   ]
  },
  {
   "cell_type": "markdown",
   "metadata": {},
   "source": [
    "### D. Finalize and Export Training Modeling Data Set for Export"
   ]
  },
  {
   "cell_type": "markdown",
   "metadata": {},
   "source": [
    "** Create training modeling data by selecting target and predictor features for modeling. **"
   ]
  },
  {
   "cell_type": "code",
   "execution_count": 26,
   "metadata": {},
   "outputs": [],
   "source": [
    "modeling_cols = ['y', 'x75', 'x37', 'x58', 'x97', 'x41_flt', 'x99', 'x1', 'x40', 'x70', 'x44', 'x63', 'x56', 'x83', 'x96']\n",
    "train_model = train_clean1[modeling_cols]"
   ]
  },
  {
   "cell_type": "markdown",
   "metadata": {},
   "source": [
    "** Export training modeling data to CSV file. **"
   ]
  },
  {
   "cell_type": "code",
   "execution_count": 27,
   "metadata": {},
   "outputs": [],
   "source": [
    "train_model.to_csv('../State_Farm/Data/train_model.csv', sep=',', index=False)"
   ]
  },
  {
   "cell_type": "markdown",
   "metadata": {},
   "source": [
    "** Save training modeling data to pickle file for subsequent model building notebooks. **"
   ]
  },
  {
   "cell_type": "code",
   "execution_count": 28,
   "metadata": {},
   "outputs": [],
   "source": [
    "train_model.to_pickle('../State_Farm/Data/train_model.pickle')"
   ]
  },
  {
   "cell_type": "markdown",
   "metadata": {},
   "source": [
    "### E. Import Test Data Set Pickle File and Prepare It for Prediction by Models"
   ]
  },
  {
   "cell_type": "markdown",
   "metadata": {},
   "source": [
    "** Import cleaned test data pickle file into a Pandas dataframe called test_clean1. **"
   ]
  },
  {
   "cell_type": "code",
   "execution_count": 29,
   "metadata": {},
   "outputs": [],
   "source": [
    "test_clean1 = pd.read_pickle('../State_Farm/Data/test_cleaned.pickle')"
   ]
  },
  {
   "cell_type": "markdown",
   "metadata": {},
   "source": [
    "** Check number of rows and columns in test_clean1 dataframe. **"
   ]
  },
  {
   "cell_type": "code",
   "execution_count": 30,
   "metadata": {},
   "outputs": [
    {
     "data": {
      "text/plain": [
       "(10000, 125)"
      ]
     },
     "execution_count": 30,
     "metadata": {},
     "output_type": "execute_result"
    }
   ],
   "source": [
    "test_clean1.shape"
   ]
  },
  {
   "cell_type": "markdown",
   "metadata": {},
   "source": [
    "** View first five rows of test_clean1 dataframe. **"
   ]
  },
  {
   "cell_type": "code",
   "execution_count": 31,
   "metadata": {},
   "outputs": [
    {
     "data": {
      "text/html": [
       "<div>\n",
       "<style scoped>\n",
       "    .dataframe tbody tr th:only-of-type {\n",
       "        vertical-align: middle;\n",
       "    }\n",
       "\n",
       "    .dataframe tbody tr th {\n",
       "        vertical-align: top;\n",
       "    }\n",
       "\n",
       "    .dataframe thead th {\n",
       "        text-align: right;\n",
       "    }\n",
       "</style>\n",
       "<table border=\"1\" class=\"dataframe\">\n",
       "  <thead>\n",
       "    <tr style=\"text-align: right;\">\n",
       "      <th></th>\n",
       "      <th>x0</th>\n",
       "      <th>x1</th>\n",
       "      <th>x2</th>\n",
       "      <th>x3</th>\n",
       "      <th>x4</th>\n",
       "      <th>x5</th>\n",
       "      <th>x6</th>\n",
       "      <th>x7</th>\n",
       "      <th>x8</th>\n",
       "      <th>x9</th>\n",
       "      <th>...</th>\n",
       "      <th>June</th>\n",
       "      <th>March</th>\n",
       "      <th>May</th>\n",
       "      <th>No_Month</th>\n",
       "      <th>November</th>\n",
       "      <th>October</th>\n",
       "      <th>September</th>\n",
       "      <th>America</th>\n",
       "      <th>Europe</th>\n",
       "      <th>No_Continent</th>\n",
       "    </tr>\n",
       "  </thead>\n",
       "  <tbody>\n",
       "    <tr>\n",
       "      <th>0</th>\n",
       "      <td>6.625366</td>\n",
       "      <td>54.479467</td>\n",
       "      <td>15.285444</td>\n",
       "      <td>-0.794648</td>\n",
       "      <td>22.498346</td>\n",
       "      <td>-29.212209</td>\n",
       "      <td>1.435134</td>\n",
       "      <td>-4.551934</td>\n",
       "      <td>5.930404</td>\n",
       "      <td>-3.319388</td>\n",
       "      <td>...</td>\n",
       "      <td>0</td>\n",
       "      <td>0</td>\n",
       "      <td>0</td>\n",
       "      <td>0</td>\n",
       "      <td>0</td>\n",
       "      <td>0</td>\n",
       "      <td>0</td>\n",
       "      <td>1</td>\n",
       "      <td>0</td>\n",
       "      <td>0</td>\n",
       "    </tr>\n",
       "    <tr>\n",
       "      <th>1</th>\n",
       "      <td>3.796927</td>\n",
       "      <td>-20.244923</td>\n",
       "      <td>-18.084196</td>\n",
       "      <td>-1.113454</td>\n",
       "      <td>-3.551728</td>\n",
       "      <td>-4.025589</td>\n",
       "      <td>1.971885</td>\n",
       "      <td>-1.965186</td>\n",
       "      <td>13.210722</td>\n",
       "      <td>-4.262240</td>\n",
       "      <td>...</td>\n",
       "      <td>1</td>\n",
       "      <td>0</td>\n",
       "      <td>0</td>\n",
       "      <td>0</td>\n",
       "      <td>0</td>\n",
       "      <td>0</td>\n",
       "      <td>0</td>\n",
       "      <td>0</td>\n",
       "      <td>0</td>\n",
       "      <td>0</td>\n",
       "    </tr>\n",
       "    <tr>\n",
       "      <th>2</th>\n",
       "      <td>31.875080</td>\n",
       "      <td>-61.467354</td>\n",
       "      <td>14.943580</td>\n",
       "      <td>0.979055</td>\n",
       "      <td>6.796937</td>\n",
       "      <td>-29.708041</td>\n",
       "      <td>4.778812</td>\n",
       "      <td>-2.682217</td>\n",
       "      <td>-17.122526</td>\n",
       "      <td>0.903299</td>\n",
       "      <td>...</td>\n",
       "      <td>0</td>\n",
       "      <td>0</td>\n",
       "      <td>0</td>\n",
       "      <td>0</td>\n",
       "      <td>0</td>\n",
       "      <td>0</td>\n",
       "      <td>1</td>\n",
       "      <td>0</td>\n",
       "      <td>0</td>\n",
       "      <td>0</td>\n",
       "    </tr>\n",
       "    <tr>\n",
       "      <th>3</th>\n",
       "      <td>15.266588</td>\n",
       "      <td>-18.454831</td>\n",
       "      <td>1.105534</td>\n",
       "      <td>-2.718771</td>\n",
       "      <td>-5.511702</td>\n",
       "      <td>2.252314</td>\n",
       "      <td>-8.017649</td>\n",
       "      <td>3.635776</td>\n",
       "      <td>-13.024884</td>\n",
       "      <td>-1.751722</td>\n",
       "      <td>...</td>\n",
       "      <td>0</td>\n",
       "      <td>0</td>\n",
       "      <td>0</td>\n",
       "      <td>0</td>\n",
       "      <td>0</td>\n",
       "      <td>0</td>\n",
       "      <td>0</td>\n",
       "      <td>0</td>\n",
       "      <td>0</td>\n",
       "      <td>0</td>\n",
       "    </tr>\n",
       "    <tr>\n",
       "      <th>4</th>\n",
       "      <td>-17.616761</td>\n",
       "      <td>15.810515</td>\n",
       "      <td>-17.972025</td>\n",
       "      <td>-1.995724</td>\n",
       "      <td>-23.112552</td>\n",
       "      <td>-15.899861</td>\n",
       "      <td>-17.054154</td>\n",
       "      <td>4.097427</td>\n",
       "      <td>-7.755402</td>\n",
       "      <td>-2.553410</td>\n",
       "      <td>...</td>\n",
       "      <td>0</td>\n",
       "      <td>0</td>\n",
       "      <td>0</td>\n",
       "      <td>0</td>\n",
       "      <td>0</td>\n",
       "      <td>0</td>\n",
       "      <td>0</td>\n",
       "      <td>0</td>\n",
       "      <td>0</td>\n",
       "      <td>0</td>\n",
       "    </tr>\n",
       "  </tbody>\n",
       "</table>\n",
       "<p>5 rows × 125 columns</p>\n",
       "</div>"
      ],
      "text/plain": [
       "          x0         x1         x2        x3         x4         x5         x6  \\\n",
       "0   6.625366  54.479467  15.285444 -0.794648  22.498346 -29.212209   1.435134   \n",
       "1   3.796927 -20.244923 -18.084196 -1.113454  -3.551728  -4.025589   1.971885   \n",
       "2  31.875080 -61.467354  14.943580  0.979055   6.796937 -29.708041   4.778812   \n",
       "3  15.266588 -18.454831   1.105534 -2.718771  -5.511702   2.252314  -8.017649   \n",
       "4 -17.616761  15.810515 -17.972025 -1.995724 -23.112552 -15.899861 -17.054154   \n",
       "\n",
       "         x7         x8        x9      ...       June  March  May  No_Month  \\\n",
       "0 -4.551934   5.930404 -3.319388      ...          0      0    0         0   \n",
       "1 -1.965186  13.210722 -4.262240      ...          1      0    0         0   \n",
       "2 -2.682217 -17.122526  0.903299      ...          0      0    0         0   \n",
       "3  3.635776 -13.024884 -1.751722      ...          0      0    0         0   \n",
       "4  4.097427  -7.755402 -2.553410      ...          0      0    0         0   \n",
       "\n",
       "   November  October  September  America  Europe  No_Continent  \n",
       "0         0        0          0        1       0             0  \n",
       "1         0        0          0        0       0             0  \n",
       "2         0        0          1        0       0             0  \n",
       "3         0        0          0        0       0             0  \n",
       "4         0        0          0        0       0             0  \n",
       "\n",
       "[5 rows x 125 columns]"
      ]
     },
     "execution_count": 31,
     "metadata": {},
     "output_type": "execute_result"
    }
   ],
   "source": [
    "test_clean1.head()"
   ]
  },
  {
   "cell_type": "markdown",
   "metadata": {},
   "source": [
    "** Check for any missing values in test_clean1 dataframe. **"
   ]
  },
  {
   "cell_type": "code",
   "execution_count": 32,
   "metadata": {},
   "outputs": [
    {
     "data": {
      "text/plain": [
       "No_Continent    0\n",
       "x49             0\n",
       "x32             0\n",
       "x33             0\n",
       "x36             0\n",
       "x37             0\n",
       "x38             0\n",
       "x39             0\n",
       "x40             0\n",
       "x42             0\n",
       "x43             0\n",
       "x44             0\n",
       "x46             0\n",
       "x47             0\n",
       "x48             0\n",
       "x50             0\n",
       "x65             0\n",
       "x51             0\n",
       "x52             0\n",
       "x53             0\n",
       "x54             0\n",
       "x55             0\n",
       "x56             0\n",
       "x57             0\n",
       "x58             0\n",
       "x59             0\n",
       "x60             0\n",
       "x61             0\n",
       "x62             0\n",
       "x63             0\n",
       "               ..\n",
       "x98             0\n",
       "x97             0\n",
       "x69             0\n",
       "x70             0\n",
       "x71             0\n",
       "x72             0\n",
       "x73             0\n",
       "x74             0\n",
       "x75             0\n",
       "x76             0\n",
       "x77             0\n",
       "x78             0\n",
       "x79             0\n",
       "x80             0\n",
       "x81             0\n",
       "x82             0\n",
       "x83             0\n",
       "x84             0\n",
       "x85             0\n",
       "x86             0\n",
       "x87             0\n",
       "x88             0\n",
       "x89             0\n",
       "x90             0\n",
       "x91             0\n",
       "x92             0\n",
       "x94             0\n",
       "x95             0\n",
       "x96             0\n",
       "x0              0\n",
       "Length: 125, dtype: int64"
      ]
     },
     "execution_count": 32,
     "metadata": {},
     "output_type": "execute_result"
    }
   ],
   "source": [
    "test_clean1.isnull().sum().sort_values(ascending=False)"
   ]
  },
  {
   "cell_type": "markdown",
   "metadata": {},
   "source": [
    "** Create test data for model predicting by selecting predictor features for modeling. **"
   ]
  },
  {
   "cell_type": "code",
   "execution_count": 33,
   "metadata": {},
   "outputs": [],
   "source": [
    "test_model = test_clean1[['x75', 'x37', 'x58', 'x97', 'x41_flt', 'x99', 'x1', 'x40', 'x70', 'x44', 'x63', 'x56', 'x83', 'x96']]"
   ]
  },
  {
   "cell_type": "markdown",
   "metadata": {},
   "source": [
    "** Export test data for model predicting to CSV file. **"
   ]
  },
  {
   "cell_type": "code",
   "execution_count": 34,
   "metadata": {},
   "outputs": [],
   "source": [
    "test_model.to_csv('../State_Farm/Data/test_model.csv', sep=',', index=False)"
   ]
  },
  {
   "cell_type": "markdown",
   "metadata": {},
   "source": [
    "** Save test data for model predicting to pickle file for subsequent model building notebooks. **"
   ]
  },
  {
   "cell_type": "code",
   "execution_count": 35,
   "metadata": {},
   "outputs": [],
   "source": [
    "test_model.to_pickle('../State_Farm/Data/test_model.pickle')"
   ]
  }
 ],
 "metadata": {
  "kernelspec": {
   "display_name": "Python 3",
   "language": "python",
   "name": "python3"
  },
  "language_info": {
   "codemirror_mode": {
    "name": "ipython",
    "version": 3
   },
   "file_extension": ".py",
   "mimetype": "text/x-python",
   "name": "python",
   "nbconvert_exporter": "python",
   "pygments_lexer": "ipython3",
   "version": "3.6.4"
  },
  "varInspector": {
   "cols": {
    "lenName": 16,
    "lenType": 16,
    "lenVar": 40
   },
   "kernels_config": {
    "python": {
     "delete_cmd_postfix": "",
     "delete_cmd_prefix": "del ",
     "library": "var_list.py",
     "varRefreshCmd": "print(var_dic_list())"
    },
    "r": {
     "delete_cmd_postfix": ") ",
     "delete_cmd_prefix": "rm(",
     "library": "var_list.r",
     "varRefreshCmd": "cat(var_dic_list()) "
    }
   },
   "types_to_exclude": [
    "module",
    "function",
    "builtin_function_or_method",
    "instance",
    "_Feature"
   ],
   "window_display": false
  }
 },
 "nbformat": 4,
 "nbformat_minor": 2
}
