{
 "cells": [
  {
   "cell_type": "markdown",
   "metadata": {},
   "source": [
    "# State Farm Classification Coding Exercise"
   ]
  },
  {
   "cell_type": "markdown",
   "metadata": {},
   "source": [
    "## Part 1 - Training Data Set Exploratory Data Analysis and Feature Engineering"
   ]
  },
  {
   "cell_type": "markdown",
   "metadata": {},
   "source": [
    "### A. Import Libraries and Training Data Set, and Check for Missing Values"
   ]
  },
  {
   "cell_type": "markdown",
   "metadata": {},
   "source": [
    "** Import numpy and pandas. **"
   ]
  },
  {
   "cell_type": "code",
   "execution_count": 1,
   "metadata": {},
   "outputs": [],
   "source": [
    "import numpy as np\n",
    "import pandas as pd"
   ]
  },
  {
   "cell_type": "markdown",
   "metadata": {},
   "source": [
    "** Import data visualization libraries and set %matplotlib inline. **"
   ]
  },
  {
   "cell_type": "code",
   "execution_count": 2,
   "metadata": {},
   "outputs": [],
   "source": [
    "import matplotlib.pyplot as plt\n",
    "import seaborn as sns\n",
    "%matplotlib inline"
   ]
  },
  {
   "cell_type": "markdown",
   "metadata": {},
   "source": [
    "** Import Exercise 2 training data set comma-separated (CSV) file into a Pandas dataframe. **"
   ]
  },
  {
   "cell_type": "code",
   "execution_count": 3,
   "metadata": {},
   "outputs": [],
   "source": [
    "train = pd.read_csv('../State_Farm/Data/exercise_02_train.csv', sep=',')"
   ]
  },
  {
   "cell_type": "markdown",
   "metadata": {},
   "source": [
    "** Create copy of training dataframe for exploratory data analysis and feature engineering. **"
   ]
  },
  {
   "cell_type": "code",
   "execution_count": 4,
   "metadata": {},
   "outputs": [],
   "source": [
    "train1 = train.copy()"
   ]
  },
  {
   "cell_type": "markdown",
   "metadata": {},
   "source": [
    "** View first five rows of training dataframe. **"
   ]
  },
  {
   "cell_type": "code",
   "execution_count": 5,
   "metadata": {},
   "outputs": [
    {
     "data": {
      "text/html": [
       "<div>\n",
       "<style scoped>\n",
       "    .dataframe tbody tr th:only-of-type {\n",
       "        vertical-align: middle;\n",
       "    }\n",
       "\n",
       "    .dataframe tbody tr th {\n",
       "        vertical-align: top;\n",
       "    }\n",
       "\n",
       "    .dataframe thead th {\n",
       "        text-align: right;\n",
       "    }\n",
       "</style>\n",
       "<table border=\"1\" class=\"dataframe\">\n",
       "  <thead>\n",
       "    <tr style=\"text-align: right;\">\n",
       "      <th></th>\n",
       "      <th>x0</th>\n",
       "      <th>x1</th>\n",
       "      <th>x2</th>\n",
       "      <th>x3</th>\n",
       "      <th>x4</th>\n",
       "      <th>x5</th>\n",
       "      <th>x6</th>\n",
       "      <th>x7</th>\n",
       "      <th>x8</th>\n",
       "      <th>x9</th>\n",
       "      <th>...</th>\n",
       "      <th>x91</th>\n",
       "      <th>x92</th>\n",
       "      <th>x93</th>\n",
       "      <th>x94</th>\n",
       "      <th>x95</th>\n",
       "      <th>x96</th>\n",
       "      <th>x97</th>\n",
       "      <th>x98</th>\n",
       "      <th>x99</th>\n",
       "      <th>y</th>\n",
       "    </tr>\n",
       "  </thead>\n",
       "  <tbody>\n",
       "    <tr>\n",
       "      <th>0</th>\n",
       "      <td>0.198560</td>\n",
       "      <td>74.425320</td>\n",
       "      <td>67.627745</td>\n",
       "      <td>-3.095111</td>\n",
       "      <td>-6.822327</td>\n",
       "      <td>19.048071</td>\n",
       "      <td>-0.362378</td>\n",
       "      <td>-10.699174</td>\n",
       "      <td>-22.699791</td>\n",
       "      <td>-1.561262</td>\n",
       "      <td>...</td>\n",
       "      <td>0.800948</td>\n",
       "      <td>1.553846</td>\n",
       "      <td>asia</td>\n",
       "      <td>-1.093926</td>\n",
       "      <td>16.202557</td>\n",
       "      <td>26.238591</td>\n",
       "      <td>-2.125570</td>\n",
       "      <td>9.644466</td>\n",
       "      <td>1.237667</td>\n",
       "      <td>0</td>\n",
       "    </tr>\n",
       "    <tr>\n",
       "      <th>1</th>\n",
       "      <td>-29.662621</td>\n",
       "      <td>24.320711</td>\n",
       "      <td>-48.205182</td>\n",
       "      <td>1.430339</td>\n",
       "      <td>-6.552206</td>\n",
       "      <td>4.263074</td>\n",
       "      <td>6.551412</td>\n",
       "      <td>4.265483</td>\n",
       "      <td>1.245095</td>\n",
       "      <td>2.246814</td>\n",
       "      <td>...</td>\n",
       "      <td>2.031707</td>\n",
       "      <td>7.544422</td>\n",
       "      <td>asia</td>\n",
       "      <td>-3.659541</td>\n",
       "      <td>29.674259</td>\n",
       "      <td>-15.141647</td>\n",
       "      <td>-36.030599</td>\n",
       "      <td>5.820376</td>\n",
       "      <td>1.952183</td>\n",
       "      <td>1</td>\n",
       "    </tr>\n",
       "    <tr>\n",
       "      <th>2</th>\n",
       "      <td>15.493759</td>\n",
       "      <td>-66.160459</td>\n",
       "      <td>50.512903</td>\n",
       "      <td>-2.265792</td>\n",
       "      <td>14.428578</td>\n",
       "      <td>2.509323</td>\n",
       "      <td>-6.707536</td>\n",
       "      <td>3.820842</td>\n",
       "      <td>-11.100833</td>\n",
       "      <td>-1.459825</td>\n",
       "      <td>...</td>\n",
       "      <td>-0.992474</td>\n",
       "      <td>1.385799</td>\n",
       "      <td>america</td>\n",
       "      <td>1.299144</td>\n",
       "      <td>33.018090</td>\n",
       "      <td>-19.914894</td>\n",
       "      <td>26.212736</td>\n",
       "      <td>2.372690</td>\n",
       "      <td>0.558988</td>\n",
       "      <td>1</td>\n",
       "    </tr>\n",
       "    <tr>\n",
       "      <th>3</th>\n",
       "      <td>-19.837651</td>\n",
       "      <td>33.210943</td>\n",
       "      <td>53.405563</td>\n",
       "      <td>1.079462</td>\n",
       "      <td>11.364251</td>\n",
       "      <td>-1.064581</td>\n",
       "      <td>9.308857</td>\n",
       "      <td>9.266076</td>\n",
       "      <td>14.552959</td>\n",
       "      <td>-2.012755</td>\n",
       "      <td>...</td>\n",
       "      <td>-1.157845</td>\n",
       "      <td>6.036804</td>\n",
       "      <td>asia</td>\n",
       "      <td>0.521396</td>\n",
       "      <td>9.664095</td>\n",
       "      <td>-27.197636</td>\n",
       "      <td>19.221130</td>\n",
       "      <td>13.382712</td>\n",
       "      <td>0.214462</td>\n",
       "      <td>0</td>\n",
       "    </tr>\n",
       "    <tr>\n",
       "      <th>4</th>\n",
       "      <td>11.896655</td>\n",
       "      <td>-26.717872</td>\n",
       "      <td>-17.758176</td>\n",
       "      <td>1.692017</td>\n",
       "      <td>21.553537</td>\n",
       "      <td>-5.852097</td>\n",
       "      <td>-0.857435</td>\n",
       "      <td>-2.186940</td>\n",
       "      <td>18.075272</td>\n",
       "      <td>-1.404618</td>\n",
       "      <td>...</td>\n",
       "      <td>-3.045511</td>\n",
       "      <td>-1.719337</td>\n",
       "      <td>asia</td>\n",
       "      <td>1.526071</td>\n",
       "      <td>-25.608326</td>\n",
       "      <td>33.383803</td>\n",
       "      <td>-5.703269</td>\n",
       "      <td>-11.023730</td>\n",
       "      <td>-1.191319</td>\n",
       "      <td>0</td>\n",
       "    </tr>\n",
       "  </tbody>\n",
       "</table>\n",
       "<p>5 rows × 101 columns</p>\n",
       "</div>"
      ],
      "text/plain": [
       "          x0         x1         x2        x3         x4         x5        x6  \\\n",
       "0   0.198560  74.425320  67.627745 -3.095111  -6.822327  19.048071 -0.362378   \n",
       "1 -29.662621  24.320711 -48.205182  1.430339  -6.552206   4.263074  6.551412   \n",
       "2  15.493759 -66.160459  50.512903 -2.265792  14.428578   2.509323 -6.707536   \n",
       "3 -19.837651  33.210943  53.405563  1.079462  11.364251  -1.064581  9.308857   \n",
       "4  11.896655 -26.717872 -17.758176  1.692017  21.553537  -5.852097 -0.857435   \n",
       "\n",
       "          x7         x8        x9 ...       x91       x92      x93       x94  \\\n",
       "0 -10.699174 -22.699791 -1.561262 ...  0.800948  1.553846     asia -1.093926   \n",
       "1   4.265483   1.245095  2.246814 ...  2.031707  7.544422     asia -3.659541   \n",
       "2   3.820842 -11.100833 -1.459825 ... -0.992474  1.385799  america  1.299144   \n",
       "3   9.266076  14.552959 -2.012755 ... -1.157845  6.036804     asia  0.521396   \n",
       "4  -2.186940  18.075272 -1.404618 ... -3.045511 -1.719337     asia  1.526071   \n",
       "\n",
       "         x95        x96        x97        x98       x99  y  \n",
       "0  16.202557  26.238591  -2.125570   9.644466  1.237667  0  \n",
       "1  29.674259 -15.141647 -36.030599   5.820376  1.952183  1  \n",
       "2  33.018090 -19.914894  26.212736   2.372690  0.558988  1  \n",
       "3   9.664095 -27.197636  19.221130  13.382712  0.214462  0  \n",
       "4 -25.608326  33.383803  -5.703269 -11.023730 -1.191319  0  \n",
       "\n",
       "[5 rows x 101 columns]"
      ]
     },
     "execution_count": 5,
     "metadata": {},
     "output_type": "execute_result"
    }
   ],
   "source": [
    "train1.head()"
   ]
  },
  {
   "cell_type": "markdown",
   "metadata": {},
   "source": [
    "** Obtain number of rows and columns in training dataframe. **"
   ]
  },
  {
   "cell_type": "code",
   "execution_count": 6,
   "metadata": {},
   "outputs": [
    {
     "data": {
      "text/plain": [
       "(40000, 101)"
      ]
     },
     "execution_count": 6,
     "metadata": {},
     "output_type": "execute_result"
    }
   ],
   "source": [
    "train1.shape"
   ]
  },
  {
   "cell_type": "markdown",
   "metadata": {},
   "source": [
    "** Check for presence of missing values for all features. **"
   ]
  },
  {
   "cell_type": "code",
   "execution_count": 7,
   "metadata": {},
   "outputs": [
    {
     "data": {
      "text/plain": [
       "x96    15\n",
       "x63    14\n",
       "x13    14\n",
       "x18    14\n",
       "x85    14\n",
       "x24    14\n",
       "x62    13\n",
       "x35    13\n",
       "x21    13\n",
       "x69    13\n",
       "x97    13\n",
       "x99    13\n",
       "x42    12\n",
       "x60    12\n",
       "x65    12\n",
       "x73    12\n",
       "x17    12\n",
       "x25    11\n",
       "x51    11\n",
       "x56    11\n",
       "x0     11\n",
       "x55    11\n",
       "x89    11\n",
       "x12    11\n",
       "x86    11\n",
       "x28    11\n",
       "x76    10\n",
       "x75    10\n",
       "x48    10\n",
       "x1     10\n",
       "       ..\n",
       "x98     6\n",
       "x5      6\n",
       "x8      6\n",
       "x22     6\n",
       "x79     6\n",
       "x53     6\n",
       "x83     5\n",
       "x20     5\n",
       "x71     5\n",
       "x70     5\n",
       "x64     5\n",
       "x54     5\n",
       "x45     5\n",
       "x29     5\n",
       "x37     4\n",
       "x41     4\n",
       "x91     4\n",
       "x32     4\n",
       "x88     4\n",
       "x30     4\n",
       "x87     4\n",
       "x81     4\n",
       "x47     4\n",
       "x15     4\n",
       "x84     3\n",
       "x14     3\n",
       "x49     3\n",
       "x44     2\n",
       "x43     2\n",
       "y       0\n",
       "Length: 101, dtype: int64"
      ]
     },
     "execution_count": 7,
     "metadata": {},
     "output_type": "execute_result"
    }
   ],
   "source": [
    "train1.isnull().sum().sort_values(ascending=False)"
   ]
  },
  {
   "cell_type": "markdown",
   "metadata": {},
   "source": [
    "### B. Explore and Engineer Numerical Features "
   ]
  },
  {
   "cell_type": "markdown",
   "metadata": {},
   "source": [
    "** Identify which training data set features are categorical. **"
   ]
  },
  {
   "cell_type": "code",
   "execution_count": 8,
   "metadata": {},
   "outputs": [
    {
     "data": {
      "text/plain": [
       "Index(['x34', 'x35', 'x41', 'x45', 'x68', 'x93'], dtype='object')"
      ]
     },
     "execution_count": 8,
     "metadata": {},
     "output_type": "execute_result"
    }
   ],
   "source": [
    "train1.select_dtypes(exclude=['int64', 'float']).columns"
   ]
  },
  {
   "cell_type": "markdown",
   "metadata": {},
   "source": [
    "** Check that the data types for all numerical features are float64. **"
   ]
  },
  {
   "cell_type": "code",
   "execution_count": 9,
   "metadata": {},
   "outputs": [],
   "source": [
    "num_features = train1.columns.difference(['y', 'x34', 'x35', 'x41', 'x45', 'x68', 'x93'])"
   ]
  },
  {
   "cell_type": "code",
   "execution_count": 10,
   "metadata": {},
   "outputs": [
    {
     "name": "stdout",
     "output_type": "stream",
     "text": [
      "<class 'pandas.core.frame.DataFrame'>\n",
      "RangeIndex: 40000 entries, 0 to 39999\n",
      "Data columns (total 94 columns):\n",
      "x0     39989 non-null float64\n",
      "x1     39990 non-null float64\n",
      "x10    39991 non-null float64\n",
      "x11    39993 non-null float64\n",
      "x12    39989 non-null float64\n",
      "x13    39986 non-null float64\n",
      "x14    39997 non-null float64\n",
      "x15    39996 non-null float64\n",
      "x16    39993 non-null float64\n",
      "x17    39988 non-null float64\n",
      "x18    39986 non-null float64\n",
      "x19    39992 non-null float64\n",
      "x2     39992 non-null float64\n",
      "x20    39995 non-null float64\n",
      "x21    39987 non-null float64\n",
      "x22    39994 non-null float64\n",
      "x23    39992 non-null float64\n",
      "x24    39986 non-null float64\n",
      "x25    39989 non-null float64\n",
      "x26    39991 non-null float64\n",
      "x27    39992 non-null float64\n",
      "x28    39989 non-null float64\n",
      "x29    39995 non-null float64\n",
      "x3     39991 non-null float64\n",
      "x30    39996 non-null float64\n",
      "x31    39992 non-null float64\n",
      "x32    39996 non-null float64\n",
      "x33    39990 non-null float64\n",
      "x36    39993 non-null float64\n",
      "x37    39996 non-null float64\n",
      "x38    39994 non-null float64\n",
      "x39    39991 non-null float64\n",
      "x4     39992 non-null float64\n",
      "x40    39994 non-null float64\n",
      "x42    39988 non-null float64\n",
      "x43    39998 non-null float64\n",
      "x44    39998 non-null float64\n",
      "x46    39993 non-null float64\n",
      "x47    39996 non-null float64\n",
      "x48    39990 non-null float64\n",
      "x49    39997 non-null float64\n",
      "x5     39994 non-null float64\n",
      "x50    39993 non-null float64\n",
      "x51    39989 non-null float64\n",
      "x52    39992 non-null float64\n",
      "x53    39994 non-null float64\n",
      "x54    39995 non-null float64\n",
      "x55    39989 non-null float64\n",
      "x56    39989 non-null float64\n",
      "x57    39992 non-null float64\n",
      "x58    39991 non-null float64\n",
      "x59    39990 non-null float64\n",
      "x6     39990 non-null float64\n",
      "x60    39988 non-null float64\n",
      "x61    39993 non-null float64\n",
      "x62    39987 non-null float64\n",
      "x63    39986 non-null float64\n",
      "x64    39995 non-null float64\n",
      "x65    39988 non-null float64\n",
      "x66    39991 non-null float64\n",
      "x67    39991 non-null float64\n",
      "x69    39987 non-null float64\n",
      "x7     39991 non-null float64\n",
      "x70    39995 non-null float64\n",
      "x71    39995 non-null float64\n",
      "x72    39992 non-null float64\n",
      "x73    39988 non-null float64\n",
      "x74    39993 non-null float64\n",
      "x75    39990 non-null float64\n",
      "x76    39990 non-null float64\n",
      "x77    39991 non-null float64\n",
      "x78    39993 non-null float64\n",
      "x79    39994 non-null float64\n",
      "x8     39994 non-null float64\n",
      "x80    39991 non-null float64\n",
      "x81    39996 non-null float64\n",
      "x82    39992 non-null float64\n",
      "x83    39995 non-null float64\n",
      "x84    39997 non-null float64\n",
      "x85    39986 non-null float64\n",
      "x86    39989 non-null float64\n",
      "x87    39996 non-null float64\n",
      "x88    39996 non-null float64\n",
      "x89    39989 non-null float64\n",
      "x9     39993 non-null float64\n",
      "x90    39993 non-null float64\n",
      "x91    39996 non-null float64\n",
      "x92    39993 non-null float64\n",
      "x94    39992 non-null float64\n",
      "x95    39992 non-null float64\n",
      "x96    39985 non-null float64\n",
      "x97    39987 non-null float64\n",
      "x98    39994 non-null float64\n",
      "x99    39987 non-null float64\n",
      "dtypes: float64(94)\n",
      "memory usage: 28.7 MB\n"
     ]
    }
   ],
   "source": [
    "train1[num_features].info()"
   ]
  },
  {
   "cell_type": "markdown",
   "metadata": {},
   "source": [
    "** View scatter matrix of numerical features to inspect their distributions. **"
   ]
  },
  {
   "cell_type": "code",
   "execution_count": 11,
   "metadata": {},
   "outputs": [
    {
     "data": {
      "image/png": "[encoded data removed]",
      "text/plain": [
       "<matplotlib.figure.Figure at 0x22e0ae98f98>"
      ]
     },
     "metadata": {},
     "output_type": "display_data"
    }
   ],
   "source": [
    "train1[num_features].hist(figsize=(20,16));"
   ]
  },
  {
   "cell_type": "markdown",
   "metadata": {},
   "source": [
    "* All the numerical features are normally distributed. The number of missing values for each feature ranges from 2 to 15 while the total number of rows in the training data set is 40,000. Given these conditions, I decided to impute the missing values with the mean of the feature. "
   ]
  },
  {
   "cell_type": "markdown",
   "metadata": {},
   "source": [
    "** Impute missing values in numerical features with mean. **"
   ]
  },
  {
   "cell_type": "code",
   "execution_count": 12,
   "metadata": {},
   "outputs": [],
   "source": [
    "train2 = train1.fillna(train1[num_features].mean())"
   ]
  },
  {
   "cell_type": "markdown",
   "metadata": {},
   "source": [
    "** Check numerical features for any missing values. **"
   ]
  },
  {
   "cell_type": "code",
   "execution_count": 13,
   "metadata": {},
   "outputs": [
    {
     "data": {
      "text/plain": [
       "x99    0\n",
       "x42    0\n",
       "x31    0\n",
       "x32    0\n",
       "x33    0\n",
       "x36    0\n",
       "x37    0\n",
       "x38    0\n",
       "x39    0\n",
       "x4     0\n",
       "x40    0\n",
       "x43    0\n",
       "x3     0\n",
       "x44    0\n",
       "x46    0\n",
       "x47    0\n",
       "x48    0\n",
       "x49    0\n",
       "x5     0\n",
       "x50    0\n",
       "x51    0\n",
       "x52    0\n",
       "x30    0\n",
       "x29    0\n",
       "x98    0\n",
       "x18    0\n",
       "x1     0\n",
       "x10    0\n",
       "x11    0\n",
       "x12    0\n",
       "      ..\n",
       "x91    0\n",
       "x92    0\n",
       "x94    0\n",
       "x95    0\n",
       "x96    0\n",
       "x97    0\n",
       "x78    0\n",
       "x77    0\n",
       "x76    0\n",
       "x75    0\n",
       "x57    0\n",
       "x58    0\n",
       "x59    0\n",
       "x6     0\n",
       "x60    0\n",
       "x61    0\n",
       "x62    0\n",
       "x63    0\n",
       "x64    0\n",
       "x65    0\n",
       "x66    0\n",
       "x67    0\n",
       "x69    0\n",
       "x7     0\n",
       "x70    0\n",
       "x71    0\n",
       "x72    0\n",
       "x73    0\n",
       "x74    0\n",
       "x0     0\n",
       "Length: 94, dtype: int64"
      ]
     },
     "execution_count": 13,
     "metadata": {},
     "output_type": "execute_result"
    }
   ],
   "source": [
    "train2[num_features].isnull().sum().sort_values(ascending=False)"
   ]
  },
  {
   "cell_type": "markdown",
   "metadata": {},
   "source": [
    "** View scatter matrix of imputed numerical features to check if the mean imputations skewed their distributions. **"
   ]
  },
  {
   "cell_type": "code",
   "execution_count": 14,
   "metadata": {},
   "outputs": [
    {
     "data": {
      "image/png": "[encoded data removed]",
      "text/plain": [
       "<matplotlib.figure.Figure at 0x22e0e845780>"
      ]
     },
     "metadata": {},
     "output_type": "display_data"
    }
   ],
   "source": [
    "train2[num_features].hist(figsize=(20,16));"
   ]
  },
  {
   "cell_type": "markdown",
   "metadata": {},
   "source": [
    "* The histograms for all the numerical features show that their distributions still continue to remain normal after imputing their missing values with the mean."
   ]
  },
  {
   "cell_type": "markdown",
   "metadata": {},
   "source": [
    "### C. Explore and Engineer Categorical Features"
   ]
  },
  {
   "cell_type": "markdown",
   "metadata": {},
   "source": [
    "** Check categorical feature data types. **"
   ]
  },
  {
   "cell_type": "code",
   "execution_count": 15,
   "metadata": {},
   "outputs": [],
   "source": [
    "cat_features1 = ['y', 'x34', 'x35', 'x41', 'x45', 'x68', 'x93']"
   ]
  },
  {
   "cell_type": "code",
   "execution_count": 16,
   "metadata": {},
   "outputs": [
    {
     "name": "stdout",
     "output_type": "stream",
     "text": [
      "<class 'pandas.core.frame.DataFrame'>\n",
      "RangeIndex: 40000 entries, 0 to 39999\n",
      "Data columns (total 7 columns):\n",
      "y      40000 non-null int64\n",
      "x34    39993 non-null object\n",
      "x35    39987 non-null object\n",
      "x41    39996 non-null object\n",
      "x45    39995 non-null object\n",
      "x68    39992 non-null object\n",
      "x93    39993 non-null object\n",
      "dtypes: int64(1), object(6)\n",
      "memory usage: 2.1+ MB\n"
     ]
    }
   ],
   "source": [
    "train2[cat_features1].info()"
   ]
  },
  {
   "cell_type": "markdown",
   "metadata": {},
   "source": [
    "** View summary statistics for categorical features. **"
   ]
  },
  {
   "cell_type": "code",
   "execution_count": 17,
   "metadata": {},
   "outputs": [
    {
     "data": {
      "text/html": [
       "<div>\n",
       "<style scoped>\n",
       "    .dataframe tbody tr th:only-of-type {\n",
       "        vertical-align: middle;\n",
       "    }\n",
       "\n",
       "    .dataframe tbody tr th {\n",
       "        vertical-align: top;\n",
       "    }\n",
       "\n",
       "    .dataframe thead th {\n",
       "        text-align: right;\n",
       "    }\n",
       "</style>\n",
       "<table border=\"1\" class=\"dataframe\">\n",
       "  <thead>\n",
       "    <tr style=\"text-align: right;\">\n",
       "      <th></th>\n",
       "      <th>x34</th>\n",
       "      <th>x35</th>\n",
       "      <th>x41</th>\n",
       "      <th>x45</th>\n",
       "      <th>x68</th>\n",
       "      <th>x93</th>\n",
       "    </tr>\n",
       "  </thead>\n",
       "  <tbody>\n",
       "    <tr>\n",
       "      <th>count</th>\n",
       "      <td>39993</td>\n",
       "      <td>39987</td>\n",
       "      <td>39996</td>\n",
       "      <td>39995</td>\n",
       "      <td>39992</td>\n",
       "      <td>39993</td>\n",
       "    </tr>\n",
       "    <tr>\n",
       "      <th>unique</th>\n",
       "      <td>10</td>\n",
       "      <td>8</td>\n",
       "      <td>37863</td>\n",
       "      <td>10</td>\n",
       "      <td>12</td>\n",
       "      <td>3</td>\n",
       "    </tr>\n",
       "    <tr>\n",
       "      <th>top</th>\n",
       "      <td>volkswagon</td>\n",
       "      <td>wed</td>\n",
       "      <td>$-712.34</td>\n",
       "      <td>-0.01%</td>\n",
       "      <td>July</td>\n",
       "      <td>asia</td>\n",
       "    </tr>\n",
       "    <tr>\n",
       "      <th>freq</th>\n",
       "      <td>12455</td>\n",
       "      <td>14793</td>\n",
       "      <td>4</td>\n",
       "      <td>9578</td>\n",
       "      <td>11080</td>\n",
       "      <td>35416</td>\n",
       "    </tr>\n",
       "  </tbody>\n",
       "</table>\n",
       "</div>"
      ],
      "text/plain": [
       "               x34    x35       x41     x45    x68    x93\n",
       "count        39993  39987     39996   39995  39992  39993\n",
       "unique          10      8     37863      10     12      3\n",
       "top     volkswagon    wed  $-712.34  -0.01%   July   asia\n",
       "freq         12455  14793         4    9578  11080  35416"
      ]
     },
     "execution_count": 17,
     "metadata": {},
     "output_type": "execute_result"
    }
   ],
   "source": [
    "train2.describe(include=['object'])"
   ]
  },
  {
   "cell_type": "markdown",
   "metadata": {},
   "source": [
    "** Convert currency and percent string features (x41 and x45) to float data type. **"
   ]
  },
  {
   "cell_type": "code",
   "execution_count": 18,
   "metadata": {},
   "outputs": [],
   "source": [
    "train2[['x41_flt']] = train2[['x41']].apply(lambda x: x.str.replace('$','')).astype(float)\n",
    "train2[['x45_pct']] = train2[['x45']].apply(lambda x: x.str.replace('%','')).astype(float)\n",
    "train3 = train2.drop(['x41', 'x45'], axis=1)"
   ]
  },
  {
   "cell_type": "markdown",
   "metadata": {},
   "source": [
    "** Check the number of missing values for the numerical x41 and x45 features. **"
   ]
  },
  {
   "cell_type": "code",
   "execution_count": 19,
   "metadata": {},
   "outputs": [
    {
     "data": {
      "text/plain": [
       "x41_flt    4\n",
       "x45_pct    5\n",
       "dtype: int64"
      ]
     },
     "execution_count": 19,
     "metadata": {},
     "output_type": "execute_result"
    }
   ],
   "source": [
    "train3[['x41_flt', 'x45_pct']].isnull().sum()"
   ]
  },
  {
   "cell_type": "markdown",
   "metadata": {},
   "source": [
    "** View scatter matrix of numerical x41 and x45 features to inspect their distributions. **"
   ]
  },
  {
   "cell_type": "code",
   "execution_count": 20,
   "metadata": {},
   "outputs": [
    {
     "data": {
      "image/png": "[encoded data removed]",
      "text/plain": [
       "<matplotlib.figure.Figure at 0x22e0d7a98d0>"
      ]
     },
     "metadata": {},
     "output_type": "display_data"
    }
   ],
   "source": [
    "train3[['x41_flt', 'x45_pct']].hist();"
   ]
  },
  {
   "cell_type": "markdown",
   "metadata": {},
   "source": [
    "* The numerical x41 and x45 features are normally distributed. The number of missing values for the numerical x41 and x45 features is 4 and 5, respectively. Again, the total number of rows in the training data set is 40,000. Given these conditions, I decided to impute the missing values with the mean of the feature."
   ]
  },
  {
   "cell_type": "markdown",
   "metadata": {},
   "source": [
    "** Impute missing values in numerical x41 and x45 features with mean. **"
   ]
  },
  {
   "cell_type": "code",
   "execution_count": 21,
   "metadata": {},
   "outputs": [],
   "source": [
    "train4 = train3.fillna(train3[['x41_flt', 'x45_pct']].mean())"
   ]
  },
  {
   "cell_type": "markdown",
   "metadata": {},
   "source": [
    "** View scatter matrix of imputed numerical x41 and x45 features to check if the mean imputations skewed their distributions. **"
   ]
  },
  {
   "cell_type": "code",
   "execution_count": 22,
   "metadata": {},
   "outputs": [
    {
     "data": {
      "image/png": "[encoded data removed]",
      "text/plain": [
       "<matplotlib.figure.Figure at 0x22e0d709198>"
      ]
     },
     "metadata": {},
     "output_type": "display_data"
    }
   ],
   "source": [
    "train4[['x41_flt', 'x45_pct']].hist();"
   ]
  },
  {
   "cell_type": "markdown",
   "metadata": {},
   "source": [
    "* The histograms for the numerical x41 and x45 features show that their distributions still continue to remain normal after imputing their missing values with the mean."
   ]
  },
  {
   "cell_type": "markdown",
   "metadata": {},
   "source": [
    "** Check for features that still have missing values. **"
   ]
  },
  {
   "cell_type": "code",
   "execution_count": 23,
   "metadata": {},
   "outputs": [
    {
     "data": {
      "text/plain": [
       "x35        13\n",
       "x68         8\n",
       "x93         7\n",
       "x34         7\n",
       "x45_pct     0\n",
       "dtype: int64"
      ]
     },
     "execution_count": 23,
     "metadata": {},
     "output_type": "execute_result"
    }
   ],
   "source": [
    "train4.isnull().sum().sort_values(ascending=False).head()"
   ]
  },
  {
   "cell_type": "markdown",
   "metadata": {},
   "source": [
    "** Identify remaining categorical features. **"
   ]
  },
  {
   "cell_type": "code",
   "execution_count": 24,
   "metadata": {},
   "outputs": [
    {
     "data": {
      "text/plain": [
       "Index(['x34', 'x35', 'x68', 'x93'], dtype='object')"
      ]
     },
     "execution_count": 24,
     "metadata": {},
     "output_type": "execute_result"
    }
   ],
   "source": [
    "train4.select_dtypes(exclude=['int64', 'float']).columns"
   ]
  },
  {
   "cell_type": "markdown",
   "metadata": {},
   "source": [
    "** View bar plots for categorical features of x34, x35, x68, and x93. **"
   ]
  },
  {
   "cell_type": "code",
   "execution_count": 25,
   "metadata": {},
   "outputs": [
    {
     "data": {
      "image/png": "[encoded data removed]",
      "text/plain": [
       "<matplotlib.figure.Figure at 0x22e0d4d46a0>"
      ]
     },
     "metadata": {},
     "output_type": "display_data"
    }
   ],
   "source": [
    "train4.x34.value_counts().plot(kind='bar');"
   ]
  },
  {
   "cell_type": "code",
   "execution_count": 26,
   "metadata": {},
   "outputs": [
    {
     "data": {
      "image/png": "[encoded data removed]",
      "text/plain": [
       "<matplotlib.figure.Figure at 0x22e0dd78f28>"
      ]
     },
     "metadata": {},
     "output_type": "display_data"
    }
   ],
   "source": [
    "train4.x35.value_counts().plot(kind='bar');"
   ]
  },
  {
   "cell_type": "code",
   "execution_count": 27,
   "metadata": {},
   "outputs": [
    {
     "data": {
      "image/png": "[encoded data removed]",
      "text/plain": [
       "<matplotlib.figure.Figure at 0x22e0d7f5518>"
      ]
     },
     "metadata": {},
     "output_type": "display_data"
    }
   ],
   "source": [
    "train4.x68.value_counts().plot(kind='bar');"
   ]
  },
  {
   "cell_type": "code",
   "execution_count": 28,
   "metadata": {},
   "outputs": [
    {
     "data": {
      "image/png": "[encoded data removed]",
      "text/plain": [
       "<matplotlib.figure.Figure at 0x22e1296c438>"
      ]
     },
     "metadata": {},
     "output_type": "display_data"
    }
   ],
   "source": [
    "train4.x93.value_counts().plot(kind='bar');"
   ]
  },
  {
   "cell_type": "markdown",
   "metadata": {},
   "source": [
    "* The missing values for the categorical features of x34, x35, x68, and x93 are truly blank. In other words, much more domain knowledge is required to impute these missing values. Going forward, I will assign these missing values their own missing category."
   ]
  },
  {
   "cell_type": "markdown",
   "metadata": {},
   "source": [
    "** Replace all categorical feature missing values with their own missing category. **"
   ]
  },
  {
   "cell_type": "code",
   "execution_count": 29,
   "metadata": {},
   "outputs": [],
   "source": [
    "train4['x34'] = train4.x34.fillna('No_Car_Make')\n",
    "train4['x35'] = train4.x35.fillna('No_Weekday')\n",
    "train4['x68'] = train4.x68.fillna('No_Month')\n",
    "train4['x93'] = train4.x93.fillna('No_Continent')"
   ]
  },
  {
   "cell_type": "markdown",
   "metadata": {},
   "source": [
    "** Check that all categorical features have zero missing values. **"
   ]
  },
  {
   "cell_type": "code",
   "execution_count": 30,
   "metadata": {},
   "outputs": [
    {
     "data": {
      "text/plain": [
       "x93    0\n",
       "x68    0\n",
       "x35    0\n",
       "x34    0\n",
       "dtype: int64"
      ]
     },
     "execution_count": 30,
     "metadata": {},
     "output_type": "execute_result"
    }
   ],
   "source": [
    "train4[['x34', 'x35', 'x68', 'x93']].isnull().sum().sort_values(ascending=False)"
   ]
  },
  {
   "cell_type": "markdown",
   "metadata": {},
   "source": [
    "** Obtain value counts and y target feature probabilities for each x34 category. **"
   ]
  },
  {
   "cell_type": "code",
   "execution_count": 31,
   "metadata": {},
   "outputs": [
    {
     "data": {
      "text/html": [
       "<div>\n",
       "<style scoped>\n",
       "    .dataframe tbody tr th:only-of-type {\n",
       "        vertical-align: middle;\n",
       "    }\n",
       "\n",
       "    .dataframe tbody tr th {\n",
       "        vertical-align: top;\n",
       "    }\n",
       "\n",
       "    .dataframe thead th {\n",
       "        text-align: right;\n",
       "    }\n",
       "</style>\n",
       "<table border=\"1\" class=\"dataframe\">\n",
       "  <thead>\n",
       "    <tr style=\"text-align: right;\">\n",
       "      <th></th>\n",
       "      <th>count</th>\n",
       "      <th>mean</th>\n",
       "    </tr>\n",
       "    <tr>\n",
       "      <th>x34</th>\n",
       "      <th></th>\n",
       "      <th></th>\n",
       "    </tr>\n",
       "  </thead>\n",
       "  <tbody>\n",
       "    <tr>\n",
       "      <th>ford</th>\n",
       "      <td>159</td>\n",
       "      <td>0.220126</td>\n",
       "    </tr>\n",
       "    <tr>\n",
       "      <th>Toyota</th>\n",
       "      <td>11079</td>\n",
       "      <td>0.204982</td>\n",
       "    </tr>\n",
       "    <tr>\n",
       "      <th>volkswagon</th>\n",
       "      <td>12455</td>\n",
       "      <td>0.204978</td>\n",
       "    </tr>\n",
       "    <tr>\n",
       "      <th>Honda</th>\n",
       "      <td>5179</td>\n",
       "      <td>0.204093</td>\n",
       "    </tr>\n",
       "    <tr>\n",
       "      <th>bmw</th>\n",
       "      <td>7282</td>\n",
       "      <td>0.203241</td>\n",
       "    </tr>\n",
       "    <tr>\n",
       "      <th>nissan</th>\n",
       "      <td>334</td>\n",
       "      <td>0.200599</td>\n",
       "    </tr>\n",
       "    <tr>\n",
       "      <th>tesla</th>\n",
       "      <td>2248</td>\n",
       "      <td>0.194840</td>\n",
       "    </tr>\n",
       "    <tr>\n",
       "      <th>chrystler</th>\n",
       "      <td>1219</td>\n",
       "      <td>0.194422</td>\n",
       "    </tr>\n",
       "    <tr>\n",
       "      <th>mercades</th>\n",
       "      <td>27</td>\n",
       "      <td>0.148148</td>\n",
       "    </tr>\n",
       "    <tr>\n",
       "      <th>No_Car_Make</th>\n",
       "      <td>7</td>\n",
       "      <td>0.142857</td>\n",
       "    </tr>\n",
       "    <tr>\n",
       "      <th>chevrolet</th>\n",
       "      <td>11</td>\n",
       "      <td>0.090909</td>\n",
       "    </tr>\n",
       "  </tbody>\n",
       "</table>\n",
       "</div>"
      ],
      "text/plain": [
       "             count      mean\n",
       "x34                         \n",
       "ford           159  0.220126\n",
       "Toyota       11079  0.204982\n",
       "volkswagon   12455  0.204978\n",
       "Honda         5179  0.204093\n",
       "bmw           7282  0.203241\n",
       "nissan         334  0.200599\n",
       "tesla         2248  0.194840\n",
       "chrystler     1219  0.194422\n",
       "mercades        27  0.148148\n",
       "No_Car_Make      7  0.142857\n",
       "chevrolet       11  0.090909"
      ]
     },
     "execution_count": 31,
     "metadata": {},
     "output_type": "execute_result"
    }
   ],
   "source": [
    "train4.groupby('x34').y.agg(['count', 'mean']).sort_values('mean', ascending=False)"
   ]
  },
  {
   "cell_type": "markdown",
   "metadata": {},
   "source": [
    "** Clean x34 feature car make names, and obtain value counts and y target feature probabilities again. **"
   ]
  },
  {
   "cell_type": "code",
   "execution_count": 32,
   "metadata": {},
   "outputs": [
    {
     "data": {
      "text/html": [
       "<div>\n",
       "<style scoped>\n",
       "    .dataframe tbody tr th:only-of-type {\n",
       "        vertical-align: middle;\n",
       "    }\n",
       "\n",
       "    .dataframe tbody tr th {\n",
       "        vertical-align: top;\n",
       "    }\n",
       "\n",
       "    .dataframe thead th {\n",
       "        text-align: right;\n",
       "    }\n",
       "</style>\n",
       "<table border=\"1\" class=\"dataframe\">\n",
       "  <thead>\n",
       "    <tr style=\"text-align: right;\">\n",
       "      <th></th>\n",
       "      <th>count</th>\n",
       "      <th>mean</th>\n",
       "    </tr>\n",
       "    <tr>\n",
       "      <th>x34</th>\n",
       "      <th></th>\n",
       "      <th></th>\n",
       "    </tr>\n",
       "  </thead>\n",
       "  <tbody>\n",
       "    <tr>\n",
       "      <th>Ford</th>\n",
       "      <td>159</td>\n",
       "      <td>0.220126</td>\n",
       "    </tr>\n",
       "    <tr>\n",
       "      <th>Toyota</th>\n",
       "      <td>11079</td>\n",
       "      <td>0.204982</td>\n",
       "    </tr>\n",
       "    <tr>\n",
       "      <th>Volkswagen</th>\n",
       "      <td>12455</td>\n",
       "      <td>0.204978</td>\n",
       "    </tr>\n",
       "    <tr>\n",
       "      <th>Honda</th>\n",
       "      <td>5179</td>\n",
       "      <td>0.204093</td>\n",
       "    </tr>\n",
       "    <tr>\n",
       "      <th>BMW</th>\n",
       "      <td>7282</td>\n",
       "      <td>0.203241</td>\n",
       "    </tr>\n",
       "    <tr>\n",
       "      <th>Nissan</th>\n",
       "      <td>334</td>\n",
       "      <td>0.200599</td>\n",
       "    </tr>\n",
       "    <tr>\n",
       "      <th>Tesla</th>\n",
       "      <td>2248</td>\n",
       "      <td>0.194840</td>\n",
       "    </tr>\n",
       "    <tr>\n",
       "      <th>Chrysler</th>\n",
       "      <td>1219</td>\n",
       "      <td>0.194422</td>\n",
       "    </tr>\n",
       "    <tr>\n",
       "      <th>Mercedes</th>\n",
       "      <td>27</td>\n",
       "      <td>0.148148</td>\n",
       "    </tr>\n",
       "    <tr>\n",
       "      <th>No_Car_Make</th>\n",
       "      <td>7</td>\n",
       "      <td>0.142857</td>\n",
       "    </tr>\n",
       "    <tr>\n",
       "      <th>Chevrolet</th>\n",
       "      <td>11</td>\n",
       "      <td>0.090909</td>\n",
       "    </tr>\n",
       "  </tbody>\n",
       "</table>\n",
       "</div>"
      ],
      "text/plain": [
       "             count      mean\n",
       "x34                         \n",
       "Ford           159  0.220126\n",
       "Toyota       11079  0.204982\n",
       "Volkswagen   12455  0.204978\n",
       "Honda         5179  0.204093\n",
       "BMW           7282  0.203241\n",
       "Nissan         334  0.200599\n",
       "Tesla         2248  0.194840\n",
       "Chrysler      1219  0.194422\n",
       "Mercedes        27  0.148148\n",
       "No_Car_Make      7  0.142857\n",
       "Chevrolet       11  0.090909"
      ]
     },
     "execution_count": 32,
     "metadata": {},
     "output_type": "execute_result"
    }
   ],
   "source": [
    "train4['x34'] = train4.x34.map({'ford':'Ford', 'Toyota':'Toyota', 'volkswagon':'Volkswagen', 'Honda':'Honda', 'bmw':'BMW', \n",
    "                                'nissan':'Nissan', 'tesla':'Tesla', 'chrystler':'Chrysler', 'mercades':'Mercedes', \n",
    "                                'No_Car_Make':'No_Car_Make', 'chevrolet':'Chevrolet'})\n",
    "train4.groupby('x34').y.agg(['count', 'mean']).sort_values('mean', ascending=False)"
   ]
  },
  {
   "cell_type": "markdown",
   "metadata": {},
   "source": [
    "** Create x34 dummy features with Volkswagen as reference category and add it to training dataframe. **"
   ]
  },
  {
   "cell_type": "code",
   "execution_count": 33,
   "metadata": {},
   "outputs": [],
   "source": [
    "x34_dummies = pd.get_dummies(train4.x34).drop('Volkswagen', axis=1)\n",
    "train5 = pd.concat([train4, x34_dummies], axis=1)"
   ]
  },
  {
   "cell_type": "markdown",
   "metadata": {},
   "source": [
    "** Obtain value counts and y target feature probabilities for each x35 category. **"
   ]
  },
  {
   "cell_type": "code",
   "execution_count": 34,
   "metadata": {},
   "outputs": [
    {
     "data": {
      "text/html": [
       "<div>\n",
       "<style scoped>\n",
       "    .dataframe tbody tr th:only-of-type {\n",
       "        vertical-align: middle;\n",
       "    }\n",
       "\n",
       "    .dataframe tbody tr th {\n",
       "        vertical-align: top;\n",
       "    }\n",
       "\n",
       "    .dataframe thead th {\n",
       "        text-align: right;\n",
       "    }\n",
       "</style>\n",
       "<table border=\"1\" class=\"dataframe\">\n",
       "  <thead>\n",
       "    <tr style=\"text-align: right;\">\n",
       "      <th></th>\n",
       "      <th>count</th>\n",
       "      <th>mean</th>\n",
       "    </tr>\n",
       "    <tr>\n",
       "      <th>x35</th>\n",
       "      <th></th>\n",
       "      <th></th>\n",
       "    </tr>\n",
       "  </thead>\n",
       "  <tbody>\n",
       "    <tr>\n",
       "      <th>monday</th>\n",
       "      <td>61</td>\n",
       "      <td>0.426230</td>\n",
       "    </tr>\n",
       "    <tr>\n",
       "      <th>tuesday</th>\n",
       "      <td>894</td>\n",
       "      <td>0.347875</td>\n",
       "    </tr>\n",
       "    <tr>\n",
       "      <th>fri</th>\n",
       "      <td>24</td>\n",
       "      <td>0.291667</td>\n",
       "    </tr>\n",
       "    <tr>\n",
       "      <th>wednesday</th>\n",
       "      <td>5920</td>\n",
       "      <td>0.256757</td>\n",
       "    </tr>\n",
       "    <tr>\n",
       "      <th>wed</th>\n",
       "      <td>14793</td>\n",
       "      <td>0.211789</td>\n",
       "    </tr>\n",
       "    <tr>\n",
       "      <th>thurday</th>\n",
       "      <td>13375</td>\n",
       "      <td>0.174430</td>\n",
       "    </tr>\n",
       "    <tr>\n",
       "      <th>thur</th>\n",
       "      <td>4383</td>\n",
       "      <td>0.165184</td>\n",
       "    </tr>\n",
       "    <tr>\n",
       "      <th>friday</th>\n",
       "      <td>537</td>\n",
       "      <td>0.163873</td>\n",
       "    </tr>\n",
       "    <tr>\n",
       "      <th>No_Weekday</th>\n",
       "      <td>13</td>\n",
       "      <td>0.153846</td>\n",
       "    </tr>\n",
       "  </tbody>\n",
       "</table>\n",
       "</div>"
      ],
      "text/plain": [
       "            count      mean\n",
       "x35                        \n",
       "monday         61  0.426230\n",
       "tuesday       894  0.347875\n",
       "fri            24  0.291667\n",
       "wednesday    5920  0.256757\n",
       "wed         14793  0.211789\n",
       "thurday     13375  0.174430\n",
       "thur         4383  0.165184\n",
       "friday        537  0.163873\n",
       "No_Weekday     13  0.153846"
      ]
     },
     "execution_count": 34,
     "metadata": {},
     "output_type": "execute_result"
    }
   ],
   "source": [
    "train5.groupby('x35').y.agg(['count', 'mean']).sort_values('mean', ascending=False)"
   ]
  },
  {
   "cell_type": "markdown",
   "metadata": {},
   "source": [
    "** Clean x35 feature weekday names, and obtain value counts and y target feature probabilities again. **"
   ]
  },
  {
   "cell_type": "code",
   "execution_count": 35,
   "metadata": {},
   "outputs": [
    {
     "data": {
      "text/html": [
       "<div>\n",
       "<style scoped>\n",
       "    .dataframe tbody tr th:only-of-type {\n",
       "        vertical-align: middle;\n",
       "    }\n",
       "\n",
       "    .dataframe tbody tr th {\n",
       "        vertical-align: top;\n",
       "    }\n",
       "\n",
       "    .dataframe thead th {\n",
       "        text-align: right;\n",
       "    }\n",
       "</style>\n",
       "<table border=\"1\" class=\"dataframe\">\n",
       "  <thead>\n",
       "    <tr style=\"text-align: right;\">\n",
       "      <th></th>\n",
       "      <th>count</th>\n",
       "      <th>mean</th>\n",
       "    </tr>\n",
       "    <tr>\n",
       "      <th>x35</th>\n",
       "      <th></th>\n",
       "      <th></th>\n",
       "    </tr>\n",
       "  </thead>\n",
       "  <tbody>\n",
       "    <tr>\n",
       "      <th>Monday</th>\n",
       "      <td>61</td>\n",
       "      <td>0.426230</td>\n",
       "    </tr>\n",
       "    <tr>\n",
       "      <th>Tuesday</th>\n",
       "      <td>894</td>\n",
       "      <td>0.347875</td>\n",
       "    </tr>\n",
       "    <tr>\n",
       "      <th>Wednesday</th>\n",
       "      <td>20713</td>\n",
       "      <td>0.224642</td>\n",
       "    </tr>\n",
       "    <tr>\n",
       "      <th>Thursday</th>\n",
       "      <td>17758</td>\n",
       "      <td>0.172148</td>\n",
       "    </tr>\n",
       "    <tr>\n",
       "      <th>Friday</th>\n",
       "      <td>561</td>\n",
       "      <td>0.169340</td>\n",
       "    </tr>\n",
       "    <tr>\n",
       "      <th>No_Weekday</th>\n",
       "      <td>13</td>\n",
       "      <td>0.153846</td>\n",
       "    </tr>\n",
       "  </tbody>\n",
       "</table>\n",
       "</div>"
      ],
      "text/plain": [
       "            count      mean\n",
       "x35                        \n",
       "Monday         61  0.426230\n",
       "Tuesday       894  0.347875\n",
       "Wednesday   20713  0.224642\n",
       "Thursday    17758  0.172148\n",
       "Friday        561  0.169340\n",
       "No_Weekday     13  0.153846"
      ]
     },
     "execution_count": 35,
     "metadata": {},
     "output_type": "execute_result"
    }
   ],
   "source": [
    "train5['x35'] = train5.x35.map({'monday':'Monday', 'tuesday':'Tuesday', 'fri':'Friday', 'wednesday':'Wednesday', \n",
    "                                'wed':'Wednesday', 'thurday':'Thursday', 'thur':'Thursday', 'friday':'Friday', \n",
    "                                'No_Weekday':'No_Weekday'})\n",
    "train5.groupby('x35').y.agg(['count', 'mean']).sort_values('mean', ascending=False)"
   ]
  },
  {
   "cell_type": "markdown",
   "metadata": {},
   "source": [
    "** Create x35 dummy features with Wednesday as reference category and add it to training dataframe. **"
   ]
  },
  {
   "cell_type": "code",
   "execution_count": 36,
   "metadata": {},
   "outputs": [],
   "source": [
    "x35_dummies = pd.get_dummies(train5.x35).drop('Wednesday', axis=1)\n",
    "train6 = pd.concat([train5, x35_dummies], axis=1)"
   ]
  },
  {
   "cell_type": "markdown",
   "metadata": {},
   "source": [
    "** Obtain value counts and y target feature probabilities for each x68 category. **"
   ]
  },
  {
   "cell_type": "code",
   "execution_count": 37,
   "metadata": {},
   "outputs": [
    {
     "data": {
      "text/html": [
       "<div>\n",
       "<style scoped>\n",
       "    .dataframe tbody tr th:only-of-type {\n",
       "        vertical-align: middle;\n",
       "    }\n",
       "\n",
       "    .dataframe tbody tr th {\n",
       "        vertical-align: top;\n",
       "    }\n",
       "\n",
       "    .dataframe thead th {\n",
       "        text-align: right;\n",
       "    }\n",
       "</style>\n",
       "<table border=\"1\" class=\"dataframe\">\n",
       "  <thead>\n",
       "    <tr style=\"text-align: right;\">\n",
       "      <th></th>\n",
       "      <th>count</th>\n",
       "      <th>mean</th>\n",
       "    </tr>\n",
       "    <tr>\n",
       "      <th>x68</th>\n",
       "      <th></th>\n",
       "      <th></th>\n",
       "    </tr>\n",
       "  </thead>\n",
       "  <tbody>\n",
       "    <tr>\n",
       "      <th>Dev</th>\n",
       "      <td>20</td>\n",
       "      <td>0.450000</td>\n",
       "    </tr>\n",
       "    <tr>\n",
       "      <th>Feb</th>\n",
       "      <td>56</td>\n",
       "      <td>0.446429</td>\n",
       "    </tr>\n",
       "    <tr>\n",
       "      <th>Nov</th>\n",
       "      <td>151</td>\n",
       "      <td>0.377483</td>\n",
       "    </tr>\n",
       "    <tr>\n",
       "      <th>January</th>\n",
       "      <td>10</td>\n",
       "      <td>0.300000</td>\n",
       "    </tr>\n",
       "    <tr>\n",
       "      <th>Mar</th>\n",
       "      <td>431</td>\n",
       "      <td>0.278422</td>\n",
       "    </tr>\n",
       "    <tr>\n",
       "      <th>Oct</th>\n",
       "      <td>904</td>\n",
       "      <td>0.264381</td>\n",
       "    </tr>\n",
       "    <tr>\n",
       "      <th>Apr</th>\n",
       "      <td>1614</td>\n",
       "      <td>0.258984</td>\n",
       "    </tr>\n",
       "    <tr>\n",
       "      <th>May</th>\n",
       "      <td>4769</td>\n",
       "      <td>0.214930</td>\n",
       "    </tr>\n",
       "    <tr>\n",
       "      <th>sept.</th>\n",
       "      <td>3485</td>\n",
       "      <td>0.212052</td>\n",
       "    </tr>\n",
       "    <tr>\n",
       "      <th>Jun</th>\n",
       "      <td>9261</td>\n",
       "      <td>0.194795</td>\n",
       "    </tr>\n",
       "    <tr>\n",
       "      <th>Aug</th>\n",
       "      <td>8211</td>\n",
       "      <td>0.193034</td>\n",
       "    </tr>\n",
       "    <tr>\n",
       "      <th>July</th>\n",
       "      <td>11080</td>\n",
       "      <td>0.191336</td>\n",
       "    </tr>\n",
       "    <tr>\n",
       "      <th>No_Month</th>\n",
       "      <td>8</td>\n",
       "      <td>0.000000</td>\n",
       "    </tr>\n",
       "  </tbody>\n",
       "</table>\n",
       "</div>"
      ],
      "text/plain": [
       "          count      mean\n",
       "x68                      \n",
       "Dev          20  0.450000\n",
       "Feb          56  0.446429\n",
       "Nov         151  0.377483\n",
       "January      10  0.300000\n",
       "Mar         431  0.278422\n",
       "Oct         904  0.264381\n",
       "Apr        1614  0.258984\n",
       "May        4769  0.214930\n",
       "sept.      3485  0.212052\n",
       "Jun        9261  0.194795\n",
       "Aug        8211  0.193034\n",
       "July      11080  0.191336\n",
       "No_Month      8  0.000000"
      ]
     },
     "execution_count": 37,
     "metadata": {},
     "output_type": "execute_result"
    }
   ],
   "source": [
    "train6.groupby('x68').y.agg(['count', 'mean']).sort_values('mean', ascending=False)"
   ]
  },
  {
   "cell_type": "markdown",
   "metadata": {},
   "source": [
    "** Clean x68 feature month names, and obtain value counts and y target feature probabilities again. **"
   ]
  },
  {
   "cell_type": "code",
   "execution_count": 38,
   "metadata": {},
   "outputs": [
    {
     "data": {
      "text/html": [
       "<div>\n",
       "<style scoped>\n",
       "    .dataframe tbody tr th:only-of-type {\n",
       "        vertical-align: middle;\n",
       "    }\n",
       "\n",
       "    .dataframe tbody tr th {\n",
       "        vertical-align: top;\n",
       "    }\n",
       "\n",
       "    .dataframe thead th {\n",
       "        text-align: right;\n",
       "    }\n",
       "</style>\n",
       "<table border=\"1\" class=\"dataframe\">\n",
       "  <thead>\n",
       "    <tr style=\"text-align: right;\">\n",
       "      <th></th>\n",
       "      <th>count</th>\n",
       "      <th>mean</th>\n",
       "    </tr>\n",
       "    <tr>\n",
       "      <th>x68</th>\n",
       "      <th></th>\n",
       "      <th></th>\n",
       "    </tr>\n",
       "  </thead>\n",
       "  <tbody>\n",
       "    <tr>\n",
       "      <th>December</th>\n",
       "      <td>20</td>\n",
       "      <td>0.450000</td>\n",
       "    </tr>\n",
       "    <tr>\n",
       "      <th>February</th>\n",
       "      <td>56</td>\n",
       "      <td>0.446429</td>\n",
       "    </tr>\n",
       "    <tr>\n",
       "      <th>November</th>\n",
       "      <td>151</td>\n",
       "      <td>0.377483</td>\n",
       "    </tr>\n",
       "    <tr>\n",
       "      <th>January</th>\n",
       "      <td>10</td>\n",
       "      <td>0.300000</td>\n",
       "    </tr>\n",
       "    <tr>\n",
       "      <th>March</th>\n",
       "      <td>431</td>\n",
       "      <td>0.278422</td>\n",
       "    </tr>\n",
       "    <tr>\n",
       "      <th>October</th>\n",
       "      <td>904</td>\n",
       "      <td>0.264381</td>\n",
       "    </tr>\n",
       "    <tr>\n",
       "      <th>April</th>\n",
       "      <td>1614</td>\n",
       "      <td>0.258984</td>\n",
       "    </tr>\n",
       "    <tr>\n",
       "      <th>May</th>\n",
       "      <td>4769</td>\n",
       "      <td>0.214930</td>\n",
       "    </tr>\n",
       "    <tr>\n",
       "      <th>September</th>\n",
       "      <td>3485</td>\n",
       "      <td>0.212052</td>\n",
       "    </tr>\n",
       "    <tr>\n",
       "      <th>June</th>\n",
       "      <td>9261</td>\n",
       "      <td>0.194795</td>\n",
       "    </tr>\n",
       "    <tr>\n",
       "      <th>August</th>\n",
       "      <td>8211</td>\n",
       "      <td>0.193034</td>\n",
       "    </tr>\n",
       "    <tr>\n",
       "      <th>July</th>\n",
       "      <td>11080</td>\n",
       "      <td>0.191336</td>\n",
       "    </tr>\n",
       "    <tr>\n",
       "      <th>No_Month</th>\n",
       "      <td>8</td>\n",
       "      <td>0.000000</td>\n",
       "    </tr>\n",
       "  </tbody>\n",
       "</table>\n",
       "</div>"
      ],
      "text/plain": [
       "           count      mean\n",
       "x68                       \n",
       "December      20  0.450000\n",
       "February      56  0.446429\n",
       "November     151  0.377483\n",
       "January       10  0.300000\n",
       "March        431  0.278422\n",
       "October      904  0.264381\n",
       "April       1614  0.258984\n",
       "May         4769  0.214930\n",
       "September   3485  0.212052\n",
       "June        9261  0.194795\n",
       "August      8211  0.193034\n",
       "July       11080  0.191336\n",
       "No_Month       8  0.000000"
      ]
     },
     "execution_count": 38,
     "metadata": {},
     "output_type": "execute_result"
    }
   ],
   "source": [
    "train6['x68'] = train6.x68.map({'Dev':'December', 'Feb':'February', 'Nov':'November', 'January':'January', 'Mar':'March', \n",
    "                                'Oct':'October', 'Apr':'April', 'May':'May', 'sept.':'September', 'Jun':'June', 'Aug':'August', \n",
    "                                'July':'July', 'No_Month':'No_Month'})\n",
    "train6.groupby('x68').y.agg(['count', 'mean']).sort_values('mean', ascending=False)"
   ]
  },
  {
   "cell_type": "markdown",
   "metadata": {},
   "source": [
    "** Create x68 dummy features with July as reference category and add it to training dataframe. **"
   ]
  },
  {
   "cell_type": "code",
   "execution_count": 39,
   "metadata": {},
   "outputs": [],
   "source": [
    "x68_dummies = pd.get_dummies(train6.x68).drop('July', axis=1)\n",
    "train7 = pd.concat([train6, x68_dummies], axis=1)"
   ]
  },
  {
   "cell_type": "markdown",
   "metadata": {},
   "source": [
    "** Obtain value counts and y target feature probabilities for each x93 category. **"
   ]
  },
  {
   "cell_type": "code",
   "execution_count": 40,
   "metadata": {},
   "outputs": [
    {
     "data": {
      "text/html": [
       "<div>\n",
       "<style scoped>\n",
       "    .dataframe tbody tr th:only-of-type {\n",
       "        vertical-align: middle;\n",
       "    }\n",
       "\n",
       "    .dataframe tbody tr th {\n",
       "        vertical-align: top;\n",
       "    }\n",
       "\n",
       "    .dataframe thead th {\n",
       "        text-align: right;\n",
       "    }\n",
       "</style>\n",
       "<table border=\"1\" class=\"dataframe\">\n",
       "  <thead>\n",
       "    <tr style=\"text-align: right;\">\n",
       "      <th></th>\n",
       "      <th>count</th>\n",
       "      <th>mean</th>\n",
       "    </tr>\n",
       "    <tr>\n",
       "      <th>x93</th>\n",
       "      <th></th>\n",
       "      <th></th>\n",
       "    </tr>\n",
       "  </thead>\n",
       "  <tbody>\n",
       "    <tr>\n",
       "      <th>No_Continent</th>\n",
       "      <td>7</td>\n",
       "      <td>0.285714</td>\n",
       "    </tr>\n",
       "    <tr>\n",
       "      <th>america</th>\n",
       "      <td>3131</td>\n",
       "      <td>0.217183</td>\n",
       "    </tr>\n",
       "    <tr>\n",
       "      <th>asia</th>\n",
       "      <td>35416</td>\n",
       "      <td>0.202761</td>\n",
       "    </tr>\n",
       "    <tr>\n",
       "      <th>euorpe</th>\n",
       "      <td>1446</td>\n",
       "      <td>0.194329</td>\n",
       "    </tr>\n",
       "  </tbody>\n",
       "</table>\n",
       "</div>"
      ],
      "text/plain": [
       "              count      mean\n",
       "x93                          \n",
       "No_Continent      7  0.285714\n",
       "america        3131  0.217183\n",
       "asia          35416  0.202761\n",
       "euorpe         1446  0.194329"
      ]
     },
     "execution_count": 40,
     "metadata": {},
     "output_type": "execute_result"
    }
   ],
   "source": [
    "train7.groupby('x93').y.agg(['count', 'mean']).sort_values('mean', ascending=False)"
   ]
  },
  {
   "cell_type": "markdown",
   "metadata": {},
   "source": [
    "** Clean x93 feature continent names, and obtain value counts and y target feature probabilities again. **"
   ]
  },
  {
   "cell_type": "code",
   "execution_count": 41,
   "metadata": {},
   "outputs": [
    {
     "data": {
      "text/html": [
       "<div>\n",
       "<style scoped>\n",
       "    .dataframe tbody tr th:only-of-type {\n",
       "        vertical-align: middle;\n",
       "    }\n",
       "\n",
       "    .dataframe tbody tr th {\n",
       "        vertical-align: top;\n",
       "    }\n",
       "\n",
       "    .dataframe thead th {\n",
       "        text-align: right;\n",
       "    }\n",
       "</style>\n",
       "<table border=\"1\" class=\"dataframe\">\n",
       "  <thead>\n",
       "    <tr style=\"text-align: right;\">\n",
       "      <th></th>\n",
       "      <th>count</th>\n",
       "      <th>mean</th>\n",
       "    </tr>\n",
       "    <tr>\n",
       "      <th>x93</th>\n",
       "      <th></th>\n",
       "      <th></th>\n",
       "    </tr>\n",
       "  </thead>\n",
       "  <tbody>\n",
       "    <tr>\n",
       "      <th>No_Continent</th>\n",
       "      <td>7</td>\n",
       "      <td>0.285714</td>\n",
       "    </tr>\n",
       "    <tr>\n",
       "      <th>America</th>\n",
       "      <td>3131</td>\n",
       "      <td>0.217183</td>\n",
       "    </tr>\n",
       "    <tr>\n",
       "      <th>Asia</th>\n",
       "      <td>35416</td>\n",
       "      <td>0.202761</td>\n",
       "    </tr>\n",
       "    <tr>\n",
       "      <th>Europe</th>\n",
       "      <td>1446</td>\n",
       "      <td>0.194329</td>\n",
       "    </tr>\n",
       "  </tbody>\n",
       "</table>\n",
       "</div>"
      ],
      "text/plain": [
       "              count      mean\n",
       "x93                          \n",
       "No_Continent      7  0.285714\n",
       "America        3131  0.217183\n",
       "Asia          35416  0.202761\n",
       "Europe         1446  0.194329"
      ]
     },
     "execution_count": 41,
     "metadata": {},
     "output_type": "execute_result"
    }
   ],
   "source": [
    "train7['x93'] = train7.x93.map({'No_Continent':'No_Continent', 'america':'America', 'asia':'Asia', 'euorpe':'Europe'})\n",
    "train7.groupby('x93').y.agg(['count', 'mean']).sort_values('mean', ascending=False)"
   ]
  },
  {
   "cell_type": "markdown",
   "metadata": {},
   "source": [
    "** Create x93 dummy features with Asia as reference category and add it to training dataframe. **"
   ]
  },
  {
   "cell_type": "code",
   "execution_count": 42,
   "metadata": {},
   "outputs": [],
   "source": [
    "x93_dummies = pd.get_dummies(train7.x93).drop('Asia', axis=1)\n",
    "train8 = pd.concat([train7, x93_dummies], axis=1)"
   ]
  },
  {
   "cell_type": "markdown",
   "metadata": {},
   "source": [
    "### D. Finalize and Export Cleaned Training Data Set for Export"
   ]
  },
  {
   "cell_type": "markdown",
   "metadata": {},
   "source": [
    "** Drop categorical features from training dataframe. **"
   ]
  },
  {
   "cell_type": "code",
   "execution_count": 43,
   "metadata": {},
   "outputs": [],
   "source": [
    "train_cleaned = train8.drop(['x34', 'x35', 'x68', 'x93'], axis=1)"
   ]
  },
  {
   "cell_type": "markdown",
   "metadata": {},
   "source": [
    "** Obtain number of rows and columns in training dataframe with engineered and cleaned features. **"
   ]
  },
  {
   "cell_type": "code",
   "execution_count": 44,
   "metadata": {},
   "outputs": [
    {
     "data": {
      "text/plain": [
       "(40000, 127)"
      ]
     },
     "execution_count": 44,
     "metadata": {},
     "output_type": "execute_result"
    }
   ],
   "source": [
    "train_cleaned.shape"
   ]
  },
  {
   "cell_type": "markdown",
   "metadata": {},
   "source": [
    "** Check for any remaining missing values in training dataframe with engineered and cleaned features. **"
   ]
  },
  {
   "cell_type": "code",
   "execution_count": 45,
   "metadata": {},
   "outputs": [
    {
     "data": {
      "text/plain": [
       "No_Continent    0\n",
       "x50             0\n",
       "x33             0\n",
       "x36             0\n",
       "x37             0\n",
       "x38             0\n",
       "x39             0\n",
       "x40             0\n",
       "x42             0\n",
       "x43             0\n",
       "x44             0\n",
       "x46             0\n",
       "x47             0\n",
       "x48             0\n",
       "x49             0\n",
       "x51             0\n",
       "x31             0\n",
       "x52             0\n",
       "x53             0\n",
       "x54             0\n",
       "x55             0\n",
       "x56             0\n",
       "x57             0\n",
       "x58             0\n",
       "x59             0\n",
       "x60             0\n",
       "x61             0\n",
       "x62             0\n",
       "x63             0\n",
       "x64             0\n",
       "               ..\n",
       "x83             0\n",
       "x70             0\n",
       "x71             0\n",
       "x72             0\n",
       "x73             0\n",
       "x74             0\n",
       "x75             0\n",
       "x76             0\n",
       "x77             0\n",
       "x78             0\n",
       "x79             0\n",
       "x80             0\n",
       "x81             0\n",
       "x82             0\n",
       "x84             0\n",
       "x99             0\n",
       "x85             0\n",
       "x86             0\n",
       "x87             0\n",
       "x88             0\n",
       "x89             0\n",
       "x90             0\n",
       "x91             0\n",
       "x92             0\n",
       "x94             0\n",
       "x95             0\n",
       "x96             0\n",
       "x97             0\n",
       "x98             0\n",
       "x0              0\n",
       "Length: 127, dtype: int64"
      ]
     },
     "execution_count": 45,
     "metadata": {},
     "output_type": "execute_result"
    }
   ],
   "source": [
    "train_cleaned.isnull().sum().sort_values(ascending=False)"
   ]
  },
  {
   "cell_type": "markdown",
   "metadata": {},
   "source": [
    "** Export training dataframe with engineered and cleaned features to CSV file. **"
   ]
  },
  {
   "cell_type": "code",
   "execution_count": 46,
   "metadata": {},
   "outputs": [],
   "source": [
    "train_cleaned.to_csv('../State_Farm/Data/train_cleaned.csv', sep=',', index=False)"
   ]
  },
  {
   "cell_type": "markdown",
   "metadata": {},
   "source": [
    "** Save training dataframe with engineered and cleaned features to pickle file for subsequent feature selection notebook. **"
   ]
  },
  {
   "cell_type": "code",
   "execution_count": 47,
   "metadata": {},
   "outputs": [],
   "source": [
    "train_cleaned.to_pickle('../State_Farm/Data/train_cleaned.pickle')"
   ]
  }
 ],
 "metadata": {
  "kernelspec": {
   "display_name": "Python 3",
   "language": "python",
   "name": "python3"
  },
  "language_info": {
   "codemirror_mode": {
    "name": "ipython",
    "version": 3
   },
   "file_extension": ".py",
   "mimetype": "text/x-python",
   "name": "python",
   "nbconvert_exporter": "python",
   "pygments_lexer": "ipython3",
   "version": "3.6.4"
  },
  "varInspector": {
   "cols": {
    "lenName": 16,
    "lenType": 16,
    "lenVar": 40
   },
   "kernels_config": {
    "python": {
     "delete_cmd_postfix": "",
     "delete_cmd_prefix": "del ",
     "library": "var_list.py",
     "varRefreshCmd": "print(var_dic_list())"
    },
    "r": {
     "delete_cmd_postfix": ") ",
     "delete_cmd_prefix": "rm(",
     "library": "var_list.r",
     "varRefreshCmd": "cat(var_dic_list()) "
    }
   },
   "types_to_exclude": [
    "module",
    "function",
    "builtin_function_or_method",
    "instance",
    "_Feature"
   ],
   "window_display": false
  }
 },
 "nbformat": 4,
 "nbformat_minor": 2
}
